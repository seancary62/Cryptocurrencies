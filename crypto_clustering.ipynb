{
 "cells": [
  {
   "cell_type": "markdown",
   "metadata": {},
   "source": [
    "# Clustering Crypto"
   ]
  },
  {
   "cell_type": "code",
   "execution_count": 62,
   "metadata": {},
   "outputs": [],
   "source": [
    "# Initial imports\n",
    "import pandas as pd\n",
    "import hvplot.pandas\n",
    "from path import Path\n",
    "import plotly.express as px\n",
    "from sklearn.preprocessing import StandardScaler, MinMaxScaler\n",
    "from sklearn.decomposition import PCA\n",
    "from sklearn.cluster import KMeans\n"
   ]
  },
  {
   "cell_type": "markdown",
   "metadata": {},
   "source": [
    "### Deliverable 1: Preprocessing the Data for PCA"
   ]
  },
  {
   "cell_type": "code",
   "execution_count": 63,
   "metadata": {},
   "outputs": [
    {
     "data": {
      "text/html": [
       "<div>\n",
       "<style scoped>\n",
       "    .dataframe tbody tr th:only-of-type {\n",
       "        vertical-align: middle;\n",
       "    }\n",
       "\n",
       "    .dataframe tbody tr th {\n",
       "        vertical-align: top;\n",
       "    }\n",
       "\n",
       "    .dataframe thead th {\n",
       "        text-align: right;\n",
       "    }\n",
       "</style>\n",
       "<table border=\"1\" class=\"dataframe\">\n",
       "  <thead>\n",
       "    <tr style=\"text-align: right;\">\n",
       "      <th></th>\n",
       "      <th>CoinName</th>\n",
       "      <th>Algorithm</th>\n",
       "      <th>IsTrading</th>\n",
       "      <th>ProofType</th>\n",
       "      <th>TotalCoinsMined</th>\n",
       "      <th>TotalCoinSupply</th>\n",
       "    </tr>\n",
       "  </thead>\n",
       "  <tbody>\n",
       "    <tr>\n",
       "      <th>42</th>\n",
       "      <td>42 Coin</td>\n",
       "      <td>Scrypt</td>\n",
       "      <td>True</td>\n",
       "      <td>PoW/PoS</td>\n",
       "      <td>4.199995e+01</td>\n",
       "      <td>42</td>\n",
       "    </tr>\n",
       "    <tr>\n",
       "      <th>365</th>\n",
       "      <td>365Coin</td>\n",
       "      <td>X11</td>\n",
       "      <td>True</td>\n",
       "      <td>PoW/PoS</td>\n",
       "      <td>NaN</td>\n",
       "      <td>2300000000</td>\n",
       "    </tr>\n",
       "    <tr>\n",
       "      <th>404</th>\n",
       "      <td>404Coin</td>\n",
       "      <td>Scrypt</td>\n",
       "      <td>True</td>\n",
       "      <td>PoW/PoS</td>\n",
       "      <td>1.055185e+09</td>\n",
       "      <td>532000000</td>\n",
       "    </tr>\n",
       "    <tr>\n",
       "      <th>611</th>\n",
       "      <td>SixEleven</td>\n",
       "      <td>SHA-256</td>\n",
       "      <td>True</td>\n",
       "      <td>PoW</td>\n",
       "      <td>NaN</td>\n",
       "      <td>611000</td>\n",
       "    </tr>\n",
       "    <tr>\n",
       "      <th>808</th>\n",
       "      <td>808</td>\n",
       "      <td>SHA-256</td>\n",
       "      <td>True</td>\n",
       "      <td>PoW/PoS</td>\n",
       "      <td>0.000000e+00</td>\n",
       "      <td>0</td>\n",
       "    </tr>\n",
       "    <tr>\n",
       "      <th>1337</th>\n",
       "      <td>EliteCoin</td>\n",
       "      <td>X13</td>\n",
       "      <td>True</td>\n",
       "      <td>PoW/PoS</td>\n",
       "      <td>2.927942e+10</td>\n",
       "      <td>314159265359</td>\n",
       "    </tr>\n",
       "    <tr>\n",
       "      <th>2015</th>\n",
       "      <td>2015 coin</td>\n",
       "      <td>X11</td>\n",
       "      <td>True</td>\n",
       "      <td>PoW/PoS</td>\n",
       "      <td>NaN</td>\n",
       "      <td>0</td>\n",
       "    </tr>\n",
       "    <tr>\n",
       "      <th>BTC</th>\n",
       "      <td>Bitcoin</td>\n",
       "      <td>SHA-256</td>\n",
       "      <td>True</td>\n",
       "      <td>PoW</td>\n",
       "      <td>1.792718e+07</td>\n",
       "      <td>21000000</td>\n",
       "    </tr>\n",
       "    <tr>\n",
       "      <th>ETH</th>\n",
       "      <td>Ethereum</td>\n",
       "      <td>Ethash</td>\n",
       "      <td>True</td>\n",
       "      <td>PoW</td>\n",
       "      <td>1.076842e+08</td>\n",
       "      <td>0</td>\n",
       "    </tr>\n",
       "    <tr>\n",
       "      <th>LTC</th>\n",
       "      <td>Litecoin</td>\n",
       "      <td>Scrypt</td>\n",
       "      <td>True</td>\n",
       "      <td>PoW</td>\n",
       "      <td>6.303924e+07</td>\n",
       "      <td>84000000</td>\n",
       "    </tr>\n",
       "  </tbody>\n",
       "</table>\n",
       "</div>"
      ],
      "text/plain": [
       "       CoinName Algorithm  IsTrading ProofType  TotalCoinsMined  \\\n",
       "42      42 Coin    Scrypt       True   PoW/PoS     4.199995e+01   \n",
       "365     365Coin       X11       True   PoW/PoS              NaN   \n",
       "404     404Coin    Scrypt       True   PoW/PoS     1.055185e+09   \n",
       "611   SixEleven   SHA-256       True       PoW              NaN   \n",
       "808         808   SHA-256       True   PoW/PoS     0.000000e+00   \n",
       "1337  EliteCoin       X13       True   PoW/PoS     2.927942e+10   \n",
       "2015  2015 coin       X11       True   PoW/PoS              NaN   \n",
       "BTC     Bitcoin   SHA-256       True       PoW     1.792718e+07   \n",
       "ETH    Ethereum    Ethash       True       PoW     1.076842e+08   \n",
       "LTC    Litecoin    Scrypt       True       PoW     6.303924e+07   \n",
       "\n",
       "     TotalCoinSupply  \n",
       "42                42  \n",
       "365       2300000000  \n",
       "404        532000000  \n",
       "611           611000  \n",
       "808                0  \n",
       "1337    314159265359  \n",
       "2015               0  \n",
       "BTC         21000000  \n",
       "ETH                0  \n",
       "LTC         84000000  "
      ]
     },
     "execution_count": 63,
     "metadata": {},
     "output_type": "execute_result"
    }
   ],
   "source": [
    "# Load the crypto_data.csv dataset.\n",
    "file_path = \"Resources/crypto_data.csv\"\n",
    "df_crypto = pd.read_csv(file_path,index_col='Unnamed: 0')\n",
    "df_crypto.head(10)"
   ]
  },
  {
   "cell_type": "code",
   "execution_count": 64,
   "metadata": {},
   "outputs": [
    {
     "data": {
      "text/html": [
       "<div>\n",
       "<style scoped>\n",
       "    .dataframe tbody tr th:only-of-type {\n",
       "        vertical-align: middle;\n",
       "    }\n",
       "\n",
       "    .dataframe tbody tr th {\n",
       "        vertical-align: top;\n",
       "    }\n",
       "\n",
       "    .dataframe thead th {\n",
       "        text-align: right;\n",
       "    }\n",
       "</style>\n",
       "<table border=\"1\" class=\"dataframe\">\n",
       "  <thead>\n",
       "    <tr style=\"text-align: right;\">\n",
       "      <th></th>\n",
       "      <th>CoinName</th>\n",
       "      <th>Algorithm</th>\n",
       "      <th>IsTrading</th>\n",
       "      <th>ProofType</th>\n",
       "      <th>TotalCoinsMined</th>\n",
       "      <th>TotalCoinSupply</th>\n",
       "    </tr>\n",
       "  </thead>\n",
       "  <tbody>\n",
       "    <tr>\n",
       "      <th>42</th>\n",
       "      <td>42 Coin</td>\n",
       "      <td>Scrypt</td>\n",
       "      <td>True</td>\n",
       "      <td>PoW/PoS</td>\n",
       "      <td>4.199995e+01</td>\n",
       "      <td>42</td>\n",
       "    </tr>\n",
       "    <tr>\n",
       "      <th>365</th>\n",
       "      <td>365Coin</td>\n",
       "      <td>X11</td>\n",
       "      <td>True</td>\n",
       "      <td>PoW/PoS</td>\n",
       "      <td>NaN</td>\n",
       "      <td>2300000000</td>\n",
       "    </tr>\n",
       "    <tr>\n",
       "      <th>404</th>\n",
       "      <td>404Coin</td>\n",
       "      <td>Scrypt</td>\n",
       "      <td>True</td>\n",
       "      <td>PoW/PoS</td>\n",
       "      <td>1.055185e+09</td>\n",
       "      <td>532000000</td>\n",
       "    </tr>\n",
       "    <tr>\n",
       "      <th>611</th>\n",
       "      <td>SixEleven</td>\n",
       "      <td>SHA-256</td>\n",
       "      <td>True</td>\n",
       "      <td>PoW</td>\n",
       "      <td>NaN</td>\n",
       "      <td>611000</td>\n",
       "    </tr>\n",
       "    <tr>\n",
       "      <th>808</th>\n",
       "      <td>808</td>\n",
       "      <td>SHA-256</td>\n",
       "      <td>True</td>\n",
       "      <td>PoW/PoS</td>\n",
       "      <td>0.000000e+00</td>\n",
       "      <td>0</td>\n",
       "    </tr>\n",
       "    <tr>\n",
       "      <th>1337</th>\n",
       "      <td>EliteCoin</td>\n",
       "      <td>X13</td>\n",
       "      <td>True</td>\n",
       "      <td>PoW/PoS</td>\n",
       "      <td>2.927942e+10</td>\n",
       "      <td>314159265359</td>\n",
       "    </tr>\n",
       "    <tr>\n",
       "      <th>2015</th>\n",
       "      <td>2015 coin</td>\n",
       "      <td>X11</td>\n",
       "      <td>True</td>\n",
       "      <td>PoW/PoS</td>\n",
       "      <td>NaN</td>\n",
       "      <td>0</td>\n",
       "    </tr>\n",
       "    <tr>\n",
       "      <th>BTC</th>\n",
       "      <td>Bitcoin</td>\n",
       "      <td>SHA-256</td>\n",
       "      <td>True</td>\n",
       "      <td>PoW</td>\n",
       "      <td>1.792718e+07</td>\n",
       "      <td>21000000</td>\n",
       "    </tr>\n",
       "    <tr>\n",
       "      <th>ETH</th>\n",
       "      <td>Ethereum</td>\n",
       "      <td>Ethash</td>\n",
       "      <td>True</td>\n",
       "      <td>PoW</td>\n",
       "      <td>1.076842e+08</td>\n",
       "      <td>0</td>\n",
       "    </tr>\n",
       "    <tr>\n",
       "      <th>LTC</th>\n",
       "      <td>Litecoin</td>\n",
       "      <td>Scrypt</td>\n",
       "      <td>True</td>\n",
       "      <td>PoW</td>\n",
       "      <td>6.303924e+07</td>\n",
       "      <td>84000000</td>\n",
       "    </tr>\n",
       "  </tbody>\n",
       "</table>\n",
       "</div>"
      ],
      "text/plain": [
       "       CoinName Algorithm  IsTrading ProofType  TotalCoinsMined  \\\n",
       "42      42 Coin    Scrypt       True   PoW/PoS     4.199995e+01   \n",
       "365     365Coin       X11       True   PoW/PoS              NaN   \n",
       "404     404Coin    Scrypt       True   PoW/PoS     1.055185e+09   \n",
       "611   SixEleven   SHA-256       True       PoW              NaN   \n",
       "808         808   SHA-256       True   PoW/PoS     0.000000e+00   \n",
       "1337  EliteCoin       X13       True   PoW/PoS     2.927942e+10   \n",
       "2015  2015 coin       X11       True   PoW/PoS              NaN   \n",
       "BTC     Bitcoin   SHA-256       True       PoW     1.792718e+07   \n",
       "ETH    Ethereum    Ethash       True       PoW     1.076842e+08   \n",
       "LTC    Litecoin    Scrypt       True       PoW     6.303924e+07   \n",
       "\n",
       "     TotalCoinSupply  \n",
       "42                42  \n",
       "365       2300000000  \n",
       "404        532000000  \n",
       "611           611000  \n",
       "808                0  \n",
       "1337    314159265359  \n",
       "2015               0  \n",
       "BTC         21000000  \n",
       "ETH                0  \n",
       "LTC         84000000  "
      ]
     },
     "execution_count": 64,
     "metadata": {},
     "output_type": "execute_result"
    }
   ],
   "source": [
    "# Keep all the cryptocurrencies that are being traded.\n",
    "df_crypto = df_crypto[df_crypto.IsTrading]\n",
    "\n",
    "df_crypto.head(10)"
   ]
  },
  {
   "cell_type": "code",
   "execution_count": 65,
   "metadata": {},
   "outputs": [
    {
     "data": {
      "text/plain": [
       "array(['Scrypt', 'X11', 'SHA-256', 'X13', 'Ethash', 'CryptoNight-V7',\n",
       "       'Equihash', 'SHA-512', 'Multiple', 'X15', 'NIST5', 'Quark',\n",
       "       'Groestl', 'PoS', 'NeoScrypt', 'SHA3', 'HybridScryptHash256',\n",
       "       'Scrypt-n', 'PHI1612', 'Lyra2REv2', 'CryptoNight', 'Shabal256',\n",
       "       'Counterparty', 'Blake', 'Momentum', 'Stanford Folding', 'QuBit',\n",
       "       'XG Hash', 'M7 POW', 'Curve25519', 'Lyra2RE', 'QUAIT', 'vDPOS',\n",
       "       'Blake2b', 'BLAKE256', '1GB AES Pattern Search', 'Dagger',\n",
       "       'CryptoNight-Lite', 'X11GOST', 'SHA-256D', 'POS 3.0',\n",
       "       'Progressive-n', 'DPoS', 'Lyra2Z', 'X14', 'Time Travel', 'Argon2',\n",
       "       'Keccak', 'Blake2S', 'Dagger-Hashimoto', '536', 'Argon2d',\n",
       "       'Cloverhash', 'Skein', 'SkunkHash v2 Raptor',\n",
       "       'VeChainThor Authority', 'Ouroboros', 'POS 2.0', 'SkunkHash',\n",
       "       'C11', 'Proof-of-BibleHash', 'SHA-256 + Hive',\n",
       "       'Proof-of-Authority', 'XEVAN', 'VBFT', 'YescryptR16', 'IMesh',\n",
       "       'Green Protocol', 'Semux BFT consensus', 'X16R', 'Tribus',\n",
       "       'CryptoNight Heavy', 'Jump Consistent Hash', 'HMQ1725', 'Zhash',\n",
       "       'Cryptonight-GPU', 'ECC 256K1', 'CryptoNight Heavy X',\n",
       "       'Rainforest', 'Exosis', 'CryptoNight-lite', 'QuarkTX',\n",
       "       'Leased POS', 'Equihash1927', 'T-Inside', 'SHA3-256',\n",
       "       'Equihash+Scrypt', 'Slatechain', 'TRC10'], dtype=object)"
      ]
     },
     "execution_count": 65,
     "metadata": {},
     "output_type": "execute_result"
    }
   ],
   "source": [
    "# Keep all the cryptocurrencies that have a working algorithm.\n",
    "df_crypto.Algorithm.unique()"
   ]
  },
  {
   "cell_type": "code",
   "execution_count": 66,
   "metadata": {},
   "outputs": [
    {
     "data": {
      "text/html": [
       "<div>\n",
       "<style scoped>\n",
       "    .dataframe tbody tr th:only-of-type {\n",
       "        vertical-align: middle;\n",
       "    }\n",
       "\n",
       "    .dataframe tbody tr th {\n",
       "        vertical-align: top;\n",
       "    }\n",
       "\n",
       "    .dataframe thead th {\n",
       "        text-align: right;\n",
       "    }\n",
       "</style>\n",
       "<table border=\"1\" class=\"dataframe\">\n",
       "  <thead>\n",
       "    <tr style=\"text-align: right;\">\n",
       "      <th></th>\n",
       "      <th>CoinName</th>\n",
       "      <th>Algorithm</th>\n",
       "      <th>ProofType</th>\n",
       "      <th>TotalCoinsMined</th>\n",
       "      <th>TotalCoinSupply</th>\n",
       "    </tr>\n",
       "  </thead>\n",
       "  <tbody>\n",
       "    <tr>\n",
       "      <th>42</th>\n",
       "      <td>42 Coin</td>\n",
       "      <td>Scrypt</td>\n",
       "      <td>PoW/PoS</td>\n",
       "      <td>4.199995e+01</td>\n",
       "      <td>42</td>\n",
       "    </tr>\n",
       "    <tr>\n",
       "      <th>365</th>\n",
       "      <td>365Coin</td>\n",
       "      <td>X11</td>\n",
       "      <td>PoW/PoS</td>\n",
       "      <td>NaN</td>\n",
       "      <td>2300000000</td>\n",
       "    </tr>\n",
       "    <tr>\n",
       "      <th>404</th>\n",
       "      <td>404Coin</td>\n",
       "      <td>Scrypt</td>\n",
       "      <td>PoW/PoS</td>\n",
       "      <td>1.055185e+09</td>\n",
       "      <td>532000000</td>\n",
       "    </tr>\n",
       "    <tr>\n",
       "      <th>611</th>\n",
       "      <td>SixEleven</td>\n",
       "      <td>SHA-256</td>\n",
       "      <td>PoW</td>\n",
       "      <td>NaN</td>\n",
       "      <td>611000</td>\n",
       "    </tr>\n",
       "    <tr>\n",
       "      <th>808</th>\n",
       "      <td>808</td>\n",
       "      <td>SHA-256</td>\n",
       "      <td>PoW/PoS</td>\n",
       "      <td>0.000000e+00</td>\n",
       "      <td>0</td>\n",
       "    </tr>\n",
       "    <tr>\n",
       "      <th>1337</th>\n",
       "      <td>EliteCoin</td>\n",
       "      <td>X13</td>\n",
       "      <td>PoW/PoS</td>\n",
       "      <td>2.927942e+10</td>\n",
       "      <td>314159265359</td>\n",
       "    </tr>\n",
       "    <tr>\n",
       "      <th>2015</th>\n",
       "      <td>2015 coin</td>\n",
       "      <td>X11</td>\n",
       "      <td>PoW/PoS</td>\n",
       "      <td>NaN</td>\n",
       "      <td>0</td>\n",
       "    </tr>\n",
       "    <tr>\n",
       "      <th>BTC</th>\n",
       "      <td>Bitcoin</td>\n",
       "      <td>SHA-256</td>\n",
       "      <td>PoW</td>\n",
       "      <td>1.792718e+07</td>\n",
       "      <td>21000000</td>\n",
       "    </tr>\n",
       "    <tr>\n",
       "      <th>ETH</th>\n",
       "      <td>Ethereum</td>\n",
       "      <td>Ethash</td>\n",
       "      <td>PoW</td>\n",
       "      <td>1.076842e+08</td>\n",
       "      <td>0</td>\n",
       "    </tr>\n",
       "    <tr>\n",
       "      <th>LTC</th>\n",
       "      <td>Litecoin</td>\n",
       "      <td>Scrypt</td>\n",
       "      <td>PoW</td>\n",
       "      <td>6.303924e+07</td>\n",
       "      <td>84000000</td>\n",
       "    </tr>\n",
       "  </tbody>\n",
       "</table>\n",
       "</div>"
      ],
      "text/plain": [
       "       CoinName Algorithm ProofType  TotalCoinsMined TotalCoinSupply\n",
       "42      42 Coin    Scrypt   PoW/PoS     4.199995e+01              42\n",
       "365     365Coin       X11   PoW/PoS              NaN      2300000000\n",
       "404     404Coin    Scrypt   PoW/PoS     1.055185e+09       532000000\n",
       "611   SixEleven   SHA-256       PoW              NaN          611000\n",
       "808         808   SHA-256   PoW/PoS     0.000000e+00               0\n",
       "1337  EliteCoin       X13   PoW/PoS     2.927942e+10    314159265359\n",
       "2015  2015 coin       X11   PoW/PoS              NaN               0\n",
       "BTC     Bitcoin   SHA-256       PoW     1.792718e+07        21000000\n",
       "ETH    Ethereum    Ethash       PoW     1.076842e+08               0\n",
       "LTC    Litecoin    Scrypt       PoW     6.303924e+07        84000000"
      ]
     },
     "execution_count": 66,
     "metadata": {},
     "output_type": "execute_result"
    }
   ],
   "source": [
    "# Remove the \"IsTrading\" column. \n",
    "df_crypto = df_crypto.drop(columns='IsTrading')\n",
    "df_crypto.head(10)"
   ]
  },
  {
   "cell_type": "code",
   "execution_count": 67,
   "metadata": {},
   "outputs": [
    {
     "data": {
      "text/html": [
       "<div>\n",
       "<style scoped>\n",
       "    .dataframe tbody tr th:only-of-type {\n",
       "        vertical-align: middle;\n",
       "    }\n",
       "\n",
       "    .dataframe tbody tr th {\n",
       "        vertical-align: top;\n",
       "    }\n",
       "\n",
       "    .dataframe thead th {\n",
       "        text-align: right;\n",
       "    }\n",
       "</style>\n",
       "<table border=\"1\" class=\"dataframe\">\n",
       "  <thead>\n",
       "    <tr style=\"text-align: right;\">\n",
       "      <th></th>\n",
       "      <th>CoinName</th>\n",
       "      <th>Algorithm</th>\n",
       "      <th>ProofType</th>\n",
       "      <th>TotalCoinsMined</th>\n",
       "      <th>TotalCoinSupply</th>\n",
       "    </tr>\n",
       "  </thead>\n",
       "  <tbody>\n",
       "    <tr>\n",
       "      <th>42</th>\n",
       "      <td>42 Coin</td>\n",
       "      <td>Scrypt</td>\n",
       "      <td>PoW/PoS</td>\n",
       "      <td>4.199995e+01</td>\n",
       "      <td>42</td>\n",
       "    </tr>\n",
       "    <tr>\n",
       "      <th>404</th>\n",
       "      <td>404Coin</td>\n",
       "      <td>Scrypt</td>\n",
       "      <td>PoW/PoS</td>\n",
       "      <td>1.055185e+09</td>\n",
       "      <td>532000000</td>\n",
       "    </tr>\n",
       "    <tr>\n",
       "      <th>808</th>\n",
       "      <td>808</td>\n",
       "      <td>SHA-256</td>\n",
       "      <td>PoW/PoS</td>\n",
       "      <td>0.000000e+00</td>\n",
       "      <td>0</td>\n",
       "    </tr>\n",
       "    <tr>\n",
       "      <th>1337</th>\n",
       "      <td>EliteCoin</td>\n",
       "      <td>X13</td>\n",
       "      <td>PoW/PoS</td>\n",
       "      <td>2.927942e+10</td>\n",
       "      <td>314159265359</td>\n",
       "    </tr>\n",
       "    <tr>\n",
       "      <th>BTC</th>\n",
       "      <td>Bitcoin</td>\n",
       "      <td>SHA-256</td>\n",
       "      <td>PoW</td>\n",
       "      <td>1.792718e+07</td>\n",
       "      <td>21000000</td>\n",
       "    </tr>\n",
       "    <tr>\n",
       "      <th>ETH</th>\n",
       "      <td>Ethereum</td>\n",
       "      <td>Ethash</td>\n",
       "      <td>PoW</td>\n",
       "      <td>1.076842e+08</td>\n",
       "      <td>0</td>\n",
       "    </tr>\n",
       "    <tr>\n",
       "      <th>LTC</th>\n",
       "      <td>Litecoin</td>\n",
       "      <td>Scrypt</td>\n",
       "      <td>PoW</td>\n",
       "      <td>6.303924e+07</td>\n",
       "      <td>84000000</td>\n",
       "    </tr>\n",
       "    <tr>\n",
       "      <th>DASH</th>\n",
       "      <td>Dash</td>\n",
       "      <td>X11</td>\n",
       "      <td>PoW/PoS</td>\n",
       "      <td>9.031294e+06</td>\n",
       "      <td>22000000</td>\n",
       "    </tr>\n",
       "    <tr>\n",
       "      <th>XMR</th>\n",
       "      <td>Monero</td>\n",
       "      <td>CryptoNight-V7</td>\n",
       "      <td>PoW</td>\n",
       "      <td>1.720114e+07</td>\n",
       "      <td>0</td>\n",
       "    </tr>\n",
       "    <tr>\n",
       "      <th>ETC</th>\n",
       "      <td>Ethereum Classic</td>\n",
       "      <td>Ethash</td>\n",
       "      <td>PoW</td>\n",
       "      <td>1.133597e+08</td>\n",
       "      <td>210000000</td>\n",
       "    </tr>\n",
       "  </tbody>\n",
       "</table>\n",
       "</div>"
      ],
      "text/plain": [
       "              CoinName       Algorithm ProofType  TotalCoinsMined  \\\n",
       "42             42 Coin          Scrypt   PoW/PoS     4.199995e+01   \n",
       "404            404Coin          Scrypt   PoW/PoS     1.055185e+09   \n",
       "808                808         SHA-256   PoW/PoS     0.000000e+00   \n",
       "1337         EliteCoin             X13   PoW/PoS     2.927942e+10   \n",
       "BTC            Bitcoin         SHA-256       PoW     1.792718e+07   \n",
       "ETH           Ethereum          Ethash       PoW     1.076842e+08   \n",
       "LTC           Litecoin          Scrypt       PoW     6.303924e+07   \n",
       "DASH              Dash             X11   PoW/PoS     9.031294e+06   \n",
       "XMR             Monero  CryptoNight-V7       PoW     1.720114e+07   \n",
       "ETC   Ethereum Classic          Ethash       PoW     1.133597e+08   \n",
       "\n",
       "     TotalCoinSupply  \n",
       "42                42  \n",
       "404        532000000  \n",
       "808                0  \n",
       "1337    314159265359  \n",
       "BTC         21000000  \n",
       "ETH                0  \n",
       "LTC         84000000  \n",
       "DASH        22000000  \n",
       "XMR                0  \n",
       "ETC        210000000  "
      ]
     },
     "execution_count": 67,
     "metadata": {},
     "output_type": "execute_result"
    }
   ],
   "source": [
    "# Remove rows that have at least 1 null value.\n",
    "df_crypto = df_crypto.dropna()\n",
    "df_crypto.head(10)"
   ]
  },
  {
   "cell_type": "code",
   "execution_count": 68,
   "metadata": {},
   "outputs": [
    {
     "name": "stdout",
     "output_type": "stream",
     "text": [
      "<class 'pandas.core.frame.DataFrame'>\n",
      "Index: 685 entries, 42 to XBC\n",
      "Data columns (total 5 columns):\n",
      " #   Column           Non-Null Count  Dtype  \n",
      "---  ------           --------------  -----  \n",
      " 0   CoinName         685 non-null    object \n",
      " 1   Algorithm        685 non-null    object \n",
      " 2   ProofType        685 non-null    object \n",
      " 3   TotalCoinsMined  685 non-null    float64\n",
      " 4   TotalCoinSupply  685 non-null    object \n",
      "dtypes: float64(1), object(4)\n",
      "memory usage: 32.1+ KB\n"
     ]
    }
   ],
   "source": [
    "df_crypto.info()"
   ]
  },
  {
   "cell_type": "code",
   "execution_count": 69,
   "metadata": {},
   "outputs": [
    {
     "data": {
      "text/html": [
       "<div>\n",
       "<style scoped>\n",
       "    .dataframe tbody tr th:only-of-type {\n",
       "        vertical-align: middle;\n",
       "    }\n",
       "\n",
       "    .dataframe tbody tr th {\n",
       "        vertical-align: top;\n",
       "    }\n",
       "\n",
       "    .dataframe thead th {\n",
       "        text-align: right;\n",
       "    }\n",
       "</style>\n",
       "<table border=\"1\" class=\"dataframe\">\n",
       "  <thead>\n",
       "    <tr style=\"text-align: right;\">\n",
       "      <th></th>\n",
       "      <th>CoinName</th>\n",
       "      <th>Algorithm</th>\n",
       "      <th>ProofType</th>\n",
       "      <th>TotalCoinsMined</th>\n",
       "      <th>TotalCoinSupply</th>\n",
       "    </tr>\n",
       "  </thead>\n",
       "  <tbody>\n",
       "    <tr>\n",
       "      <th>42</th>\n",
       "      <td>42 Coin</td>\n",
       "      <td>Scrypt</td>\n",
       "      <td>PoW/PoS</td>\n",
       "      <td>4.199995e+01</td>\n",
       "      <td>42</td>\n",
       "    </tr>\n",
       "    <tr>\n",
       "      <th>404</th>\n",
       "      <td>404Coin</td>\n",
       "      <td>Scrypt</td>\n",
       "      <td>PoW/PoS</td>\n",
       "      <td>1.055185e+09</td>\n",
       "      <td>532000000</td>\n",
       "    </tr>\n",
       "    <tr>\n",
       "      <th>1337</th>\n",
       "      <td>EliteCoin</td>\n",
       "      <td>X13</td>\n",
       "      <td>PoW/PoS</td>\n",
       "      <td>2.927942e+10</td>\n",
       "      <td>314159265359</td>\n",
       "    </tr>\n",
       "    <tr>\n",
       "      <th>BTC</th>\n",
       "      <td>Bitcoin</td>\n",
       "      <td>SHA-256</td>\n",
       "      <td>PoW</td>\n",
       "      <td>1.792718e+07</td>\n",
       "      <td>21000000</td>\n",
       "    </tr>\n",
       "    <tr>\n",
       "      <th>ETH</th>\n",
       "      <td>Ethereum</td>\n",
       "      <td>Ethash</td>\n",
       "      <td>PoW</td>\n",
       "      <td>1.076842e+08</td>\n",
       "      <td>0</td>\n",
       "    </tr>\n",
       "    <tr>\n",
       "      <th>LTC</th>\n",
       "      <td>Litecoin</td>\n",
       "      <td>Scrypt</td>\n",
       "      <td>PoW</td>\n",
       "      <td>6.303924e+07</td>\n",
       "      <td>84000000</td>\n",
       "    </tr>\n",
       "    <tr>\n",
       "      <th>DASH</th>\n",
       "      <td>Dash</td>\n",
       "      <td>X11</td>\n",
       "      <td>PoW/PoS</td>\n",
       "      <td>9.031294e+06</td>\n",
       "      <td>22000000</td>\n",
       "    </tr>\n",
       "    <tr>\n",
       "      <th>XMR</th>\n",
       "      <td>Monero</td>\n",
       "      <td>CryptoNight-V7</td>\n",
       "      <td>PoW</td>\n",
       "      <td>1.720114e+07</td>\n",
       "      <td>0</td>\n",
       "    </tr>\n",
       "    <tr>\n",
       "      <th>ETC</th>\n",
       "      <td>Ethereum Classic</td>\n",
       "      <td>Ethash</td>\n",
       "      <td>PoW</td>\n",
       "      <td>1.133597e+08</td>\n",
       "      <td>210000000</td>\n",
       "    </tr>\n",
       "    <tr>\n",
       "      <th>ZEC</th>\n",
       "      <td>ZCash</td>\n",
       "      <td>Equihash</td>\n",
       "      <td>PoW</td>\n",
       "      <td>7.383056e+06</td>\n",
       "      <td>21000000</td>\n",
       "    </tr>\n",
       "  </tbody>\n",
       "</table>\n",
       "</div>"
      ],
      "text/plain": [
       "              CoinName       Algorithm ProofType  TotalCoinsMined  \\\n",
       "42             42 Coin          Scrypt   PoW/PoS     4.199995e+01   \n",
       "404            404Coin          Scrypt   PoW/PoS     1.055185e+09   \n",
       "1337         EliteCoin             X13   PoW/PoS     2.927942e+10   \n",
       "BTC            Bitcoin         SHA-256       PoW     1.792718e+07   \n",
       "ETH           Ethereum          Ethash       PoW     1.076842e+08   \n",
       "LTC           Litecoin          Scrypt       PoW     6.303924e+07   \n",
       "DASH              Dash             X11   PoW/PoS     9.031294e+06   \n",
       "XMR             Monero  CryptoNight-V7       PoW     1.720114e+07   \n",
       "ETC   Ethereum Classic          Ethash       PoW     1.133597e+08   \n",
       "ZEC              ZCash        Equihash       PoW     7.383056e+06   \n",
       "\n",
       "     TotalCoinSupply  \n",
       "42                42  \n",
       "404        532000000  \n",
       "1337    314159265359  \n",
       "BTC         21000000  \n",
       "ETH                0  \n",
       "LTC         84000000  \n",
       "DASH        22000000  \n",
       "XMR                0  \n",
       "ETC        210000000  \n",
       "ZEC         21000000  "
      ]
     },
     "execution_count": 69,
     "metadata": {},
     "output_type": "execute_result"
    }
   ],
   "source": [
    "# Keep the rows where coins are mined.\n",
    "df_crypto = df_crypto[df_crypto['TotalCoinsMined'] != 0]\n",
    "df_crypto.head(10)"
   ]
  },
  {
   "cell_type": "code",
   "execution_count": 73,
   "metadata": {},
   "outputs": [
    {
     "data": {
      "text/html": [
       "<div>\n",
       "<style scoped>\n",
       "    .dataframe tbody tr th:only-of-type {\n",
       "        vertical-align: middle;\n",
       "    }\n",
       "\n",
       "    .dataframe tbody tr th {\n",
       "        vertical-align: top;\n",
       "    }\n",
       "\n",
       "    .dataframe thead th {\n",
       "        text-align: right;\n",
       "    }\n",
       "</style>\n",
       "<table border=\"1\" class=\"dataframe\">\n",
       "  <thead>\n",
       "    <tr style=\"text-align: right;\">\n",
       "      <th></th>\n",
       "      <th>CoinName</th>\n",
       "    </tr>\n",
       "  </thead>\n",
       "  <tbody>\n",
       "    <tr>\n",
       "      <th>42</th>\n",
       "      <td>42 Coin</td>\n",
       "    </tr>\n",
       "    <tr>\n",
       "      <th>404</th>\n",
       "      <td>404Coin</td>\n",
       "    </tr>\n",
       "    <tr>\n",
       "      <th>1337</th>\n",
       "      <td>EliteCoin</td>\n",
       "    </tr>\n",
       "    <tr>\n",
       "      <th>BTC</th>\n",
       "      <td>Bitcoin</td>\n",
       "    </tr>\n",
       "    <tr>\n",
       "      <th>ETH</th>\n",
       "      <td>Ethereum</td>\n",
       "    </tr>\n",
       "  </tbody>\n",
       "</table>\n",
       "</div>"
      ],
      "text/plain": [
       "       CoinName\n",
       "42      42 Coin\n",
       "404     404Coin\n",
       "1337  EliteCoin\n",
       "BTC     Bitcoin\n",
       "ETH    Ethereum"
      ]
     },
     "execution_count": 73,
     "metadata": {},
     "output_type": "execute_result"
    }
   ],
   "source": [
    "# Create a new DataFrame that holds only the cryptocurrencies names.\n",
    "df_coinname = pd.DataFrame(df_crypto[\"CoinName\"], index=df_crypto.index)\n",
    "df_coinname.head()"
   ]
  },
  {
   "cell_type": "code",
   "execution_count": 74,
   "metadata": {},
   "outputs": [
    {
     "data": {
      "text/html": [
       "<div>\n",
       "<style scoped>\n",
       "    .dataframe tbody tr th:only-of-type {\n",
       "        vertical-align: middle;\n",
       "    }\n",
       "\n",
       "    .dataframe tbody tr th {\n",
       "        vertical-align: top;\n",
       "    }\n",
       "\n",
       "    .dataframe thead th {\n",
       "        text-align: right;\n",
       "    }\n",
       "</style>\n",
       "<table border=\"1\" class=\"dataframe\">\n",
       "  <thead>\n",
       "    <tr style=\"text-align: right;\">\n",
       "      <th></th>\n",
       "      <th>Algorithm</th>\n",
       "      <th>ProofType</th>\n",
       "      <th>TotalCoinsMined</th>\n",
       "      <th>TotalCoinSupply</th>\n",
       "    </tr>\n",
       "  </thead>\n",
       "  <tbody>\n",
       "    <tr>\n",
       "      <th>42</th>\n",
       "      <td>Scrypt</td>\n",
       "      <td>PoW/PoS</td>\n",
       "      <td>4.199995e+01</td>\n",
       "      <td>42</td>\n",
       "    </tr>\n",
       "    <tr>\n",
       "      <th>404</th>\n",
       "      <td>Scrypt</td>\n",
       "      <td>PoW/PoS</td>\n",
       "      <td>1.055185e+09</td>\n",
       "      <td>532000000</td>\n",
       "    </tr>\n",
       "    <tr>\n",
       "      <th>1337</th>\n",
       "      <td>X13</td>\n",
       "      <td>PoW/PoS</td>\n",
       "      <td>2.927942e+10</td>\n",
       "      <td>314159265359</td>\n",
       "    </tr>\n",
       "    <tr>\n",
       "      <th>BTC</th>\n",
       "      <td>SHA-256</td>\n",
       "      <td>PoW</td>\n",
       "      <td>1.792718e+07</td>\n",
       "      <td>21000000</td>\n",
       "    </tr>\n",
       "    <tr>\n",
       "      <th>ETH</th>\n",
       "      <td>Ethash</td>\n",
       "      <td>PoW</td>\n",
       "      <td>1.076842e+08</td>\n",
       "      <td>0</td>\n",
       "    </tr>\n",
       "    <tr>\n",
       "      <th>LTC</th>\n",
       "      <td>Scrypt</td>\n",
       "      <td>PoW</td>\n",
       "      <td>6.303924e+07</td>\n",
       "      <td>84000000</td>\n",
       "    </tr>\n",
       "    <tr>\n",
       "      <th>DASH</th>\n",
       "      <td>X11</td>\n",
       "      <td>PoW/PoS</td>\n",
       "      <td>9.031294e+06</td>\n",
       "      <td>22000000</td>\n",
       "    </tr>\n",
       "    <tr>\n",
       "      <th>XMR</th>\n",
       "      <td>CryptoNight-V7</td>\n",
       "      <td>PoW</td>\n",
       "      <td>1.720114e+07</td>\n",
       "      <td>0</td>\n",
       "    </tr>\n",
       "    <tr>\n",
       "      <th>ETC</th>\n",
       "      <td>Ethash</td>\n",
       "      <td>PoW</td>\n",
       "      <td>1.133597e+08</td>\n",
       "      <td>210000000</td>\n",
       "    </tr>\n",
       "    <tr>\n",
       "      <th>ZEC</th>\n",
       "      <td>Equihash</td>\n",
       "      <td>PoW</td>\n",
       "      <td>7.383056e+06</td>\n",
       "      <td>21000000</td>\n",
       "    </tr>\n",
       "  </tbody>\n",
       "</table>\n",
       "</div>"
      ],
      "text/plain": [
       "           Algorithm ProofType  TotalCoinsMined TotalCoinSupply\n",
       "42            Scrypt   PoW/PoS     4.199995e+01              42\n",
       "404           Scrypt   PoW/PoS     1.055185e+09       532000000\n",
       "1337             X13   PoW/PoS     2.927942e+10    314159265359\n",
       "BTC          SHA-256       PoW     1.792718e+07        21000000\n",
       "ETH           Ethash       PoW     1.076842e+08               0\n",
       "LTC           Scrypt       PoW     6.303924e+07        84000000\n",
       "DASH             X11   PoW/PoS     9.031294e+06        22000000\n",
       "XMR   CryptoNight-V7       PoW     1.720114e+07               0\n",
       "ETC           Ethash       PoW     1.133597e+08       210000000\n",
       "ZEC         Equihash       PoW     7.383056e+06        21000000"
      ]
     },
     "execution_count": 74,
     "metadata": {},
     "output_type": "execute_result"
    }
   ],
   "source": [
    "# Drop the 'CoinName' column since it's not going to be used on the clustering algorithm.\n",
    "df_crypto = df_crypto.drop(columns='CoinName')\n",
    "df_crypto.head(10)"
   ]
  },
  {
   "cell_type": "code",
   "execution_count": 77,
   "metadata": {},
   "outputs": [
    {
     "data": {
      "text/html": [
       "<div>\n",
       "<style scoped>\n",
       "    .dataframe tbody tr th:only-of-type {\n",
       "        vertical-align: middle;\n",
       "    }\n",
       "\n",
       "    .dataframe tbody tr th {\n",
       "        vertical-align: top;\n",
       "    }\n",
       "\n",
       "    .dataframe thead th {\n",
       "        text-align: right;\n",
       "    }\n",
       "</style>\n",
       "<table border=\"1\" class=\"dataframe\">\n",
       "  <thead>\n",
       "    <tr style=\"text-align: right;\">\n",
       "      <th></th>\n",
       "      <th>TotalCoinsMined</th>\n",
       "      <th>TotalCoinSupply</th>\n",
       "      <th>Algorithm_1GB AES Pattern Search</th>\n",
       "      <th>Algorithm_536</th>\n",
       "      <th>Algorithm_Argon2d</th>\n",
       "      <th>Algorithm_BLAKE256</th>\n",
       "      <th>Algorithm_Blake</th>\n",
       "      <th>Algorithm_Blake2S</th>\n",
       "      <th>Algorithm_Blake2b</th>\n",
       "      <th>Algorithm_C11</th>\n",
       "      <th>...</th>\n",
       "      <th>ProofType_PoW/PoS</th>\n",
       "      <th>ProofType_PoW/PoS</th>\n",
       "      <th>ProofType_PoW/PoW</th>\n",
       "      <th>ProofType_PoW/nPoS</th>\n",
       "      <th>ProofType_Pos</th>\n",
       "      <th>ProofType_Proof of Authority</th>\n",
       "      <th>ProofType_Proof of Trust</th>\n",
       "      <th>ProofType_TPoS</th>\n",
       "      <th>ProofType_Zero-Knowledge Proof</th>\n",
       "      <th>ProofType_dPoW/PoW</th>\n",
       "    </tr>\n",
       "  </thead>\n",
       "  <tbody>\n",
       "    <tr>\n",
       "      <th>42</th>\n",
       "      <td>4.199995e+01</td>\n",
       "      <td>42</td>\n",
       "      <td>0</td>\n",
       "      <td>0</td>\n",
       "      <td>0</td>\n",
       "      <td>0</td>\n",
       "      <td>0</td>\n",
       "      <td>0</td>\n",
       "      <td>0</td>\n",
       "      <td>0</td>\n",
       "      <td>...</td>\n",
       "      <td>1</td>\n",
       "      <td>0</td>\n",
       "      <td>0</td>\n",
       "      <td>0</td>\n",
       "      <td>0</td>\n",
       "      <td>0</td>\n",
       "      <td>0</td>\n",
       "      <td>0</td>\n",
       "      <td>0</td>\n",
       "      <td>0</td>\n",
       "    </tr>\n",
       "    <tr>\n",
       "      <th>404</th>\n",
       "      <td>1.055185e+09</td>\n",
       "      <td>532000000</td>\n",
       "      <td>0</td>\n",
       "      <td>0</td>\n",
       "      <td>0</td>\n",
       "      <td>0</td>\n",
       "      <td>0</td>\n",
       "      <td>0</td>\n",
       "      <td>0</td>\n",
       "      <td>0</td>\n",
       "      <td>...</td>\n",
       "      <td>1</td>\n",
       "      <td>0</td>\n",
       "      <td>0</td>\n",
       "      <td>0</td>\n",
       "      <td>0</td>\n",
       "      <td>0</td>\n",
       "      <td>0</td>\n",
       "      <td>0</td>\n",
       "      <td>0</td>\n",
       "      <td>0</td>\n",
       "    </tr>\n",
       "    <tr>\n",
       "      <th>1337</th>\n",
       "      <td>2.927942e+10</td>\n",
       "      <td>314159265359</td>\n",
       "      <td>0</td>\n",
       "      <td>0</td>\n",
       "      <td>0</td>\n",
       "      <td>0</td>\n",
       "      <td>0</td>\n",
       "      <td>0</td>\n",
       "      <td>0</td>\n",
       "      <td>0</td>\n",
       "      <td>...</td>\n",
       "      <td>1</td>\n",
       "      <td>0</td>\n",
       "      <td>0</td>\n",
       "      <td>0</td>\n",
       "      <td>0</td>\n",
       "      <td>0</td>\n",
       "      <td>0</td>\n",
       "      <td>0</td>\n",
       "      <td>0</td>\n",
       "      <td>0</td>\n",
       "    </tr>\n",
       "    <tr>\n",
       "      <th>BTC</th>\n",
       "      <td>1.792718e+07</td>\n",
       "      <td>21000000</td>\n",
       "      <td>0</td>\n",
       "      <td>0</td>\n",
       "      <td>0</td>\n",
       "      <td>0</td>\n",
       "      <td>0</td>\n",
       "      <td>0</td>\n",
       "      <td>0</td>\n",
       "      <td>0</td>\n",
       "      <td>...</td>\n",
       "      <td>0</td>\n",
       "      <td>0</td>\n",
       "      <td>0</td>\n",
       "      <td>0</td>\n",
       "      <td>0</td>\n",
       "      <td>0</td>\n",
       "      <td>0</td>\n",
       "      <td>0</td>\n",
       "      <td>0</td>\n",
       "      <td>0</td>\n",
       "    </tr>\n",
       "    <tr>\n",
       "      <th>ETH</th>\n",
       "      <td>1.076842e+08</td>\n",
       "      <td>0</td>\n",
       "      <td>0</td>\n",
       "      <td>0</td>\n",
       "      <td>0</td>\n",
       "      <td>0</td>\n",
       "      <td>0</td>\n",
       "      <td>0</td>\n",
       "      <td>0</td>\n",
       "      <td>0</td>\n",
       "      <td>...</td>\n",
       "      <td>0</td>\n",
       "      <td>0</td>\n",
       "      <td>0</td>\n",
       "      <td>0</td>\n",
       "      <td>0</td>\n",
       "      <td>0</td>\n",
       "      <td>0</td>\n",
       "      <td>0</td>\n",
       "      <td>0</td>\n",
       "      <td>0</td>\n",
       "    </tr>\n",
       "    <tr>\n",
       "      <th>LTC</th>\n",
       "      <td>6.303924e+07</td>\n",
       "      <td>84000000</td>\n",
       "      <td>0</td>\n",
       "      <td>0</td>\n",
       "      <td>0</td>\n",
       "      <td>0</td>\n",
       "      <td>0</td>\n",
       "      <td>0</td>\n",
       "      <td>0</td>\n",
       "      <td>0</td>\n",
       "      <td>...</td>\n",
       "      <td>0</td>\n",
       "      <td>0</td>\n",
       "      <td>0</td>\n",
       "      <td>0</td>\n",
       "      <td>0</td>\n",
       "      <td>0</td>\n",
       "      <td>0</td>\n",
       "      <td>0</td>\n",
       "      <td>0</td>\n",
       "      <td>0</td>\n",
       "    </tr>\n",
       "    <tr>\n",
       "      <th>DASH</th>\n",
       "      <td>9.031294e+06</td>\n",
       "      <td>22000000</td>\n",
       "      <td>0</td>\n",
       "      <td>0</td>\n",
       "      <td>0</td>\n",
       "      <td>0</td>\n",
       "      <td>0</td>\n",
       "      <td>0</td>\n",
       "      <td>0</td>\n",
       "      <td>0</td>\n",
       "      <td>...</td>\n",
       "      <td>1</td>\n",
       "      <td>0</td>\n",
       "      <td>0</td>\n",
       "      <td>0</td>\n",
       "      <td>0</td>\n",
       "      <td>0</td>\n",
       "      <td>0</td>\n",
       "      <td>0</td>\n",
       "      <td>0</td>\n",
       "      <td>0</td>\n",
       "    </tr>\n",
       "    <tr>\n",
       "      <th>XMR</th>\n",
       "      <td>1.720114e+07</td>\n",
       "      <td>0</td>\n",
       "      <td>0</td>\n",
       "      <td>0</td>\n",
       "      <td>0</td>\n",
       "      <td>0</td>\n",
       "      <td>0</td>\n",
       "      <td>0</td>\n",
       "      <td>0</td>\n",
       "      <td>0</td>\n",
       "      <td>...</td>\n",
       "      <td>0</td>\n",
       "      <td>0</td>\n",
       "      <td>0</td>\n",
       "      <td>0</td>\n",
       "      <td>0</td>\n",
       "      <td>0</td>\n",
       "      <td>0</td>\n",
       "      <td>0</td>\n",
       "      <td>0</td>\n",
       "      <td>0</td>\n",
       "    </tr>\n",
       "    <tr>\n",
       "      <th>ETC</th>\n",
       "      <td>1.133597e+08</td>\n",
       "      <td>210000000</td>\n",
       "      <td>0</td>\n",
       "      <td>0</td>\n",
       "      <td>0</td>\n",
       "      <td>0</td>\n",
       "      <td>0</td>\n",
       "      <td>0</td>\n",
       "      <td>0</td>\n",
       "      <td>0</td>\n",
       "      <td>...</td>\n",
       "      <td>0</td>\n",
       "      <td>0</td>\n",
       "      <td>0</td>\n",
       "      <td>0</td>\n",
       "      <td>0</td>\n",
       "      <td>0</td>\n",
       "      <td>0</td>\n",
       "      <td>0</td>\n",
       "      <td>0</td>\n",
       "      <td>0</td>\n",
       "    </tr>\n",
       "    <tr>\n",
       "      <th>ZEC</th>\n",
       "      <td>7.383056e+06</td>\n",
       "      <td>21000000</td>\n",
       "      <td>0</td>\n",
       "      <td>0</td>\n",
       "      <td>0</td>\n",
       "      <td>0</td>\n",
       "      <td>0</td>\n",
       "      <td>0</td>\n",
       "      <td>0</td>\n",
       "      <td>0</td>\n",
       "      <td>...</td>\n",
       "      <td>0</td>\n",
       "      <td>0</td>\n",
       "      <td>0</td>\n",
       "      <td>0</td>\n",
       "      <td>0</td>\n",
       "      <td>0</td>\n",
       "      <td>0</td>\n",
       "      <td>0</td>\n",
       "      <td>0</td>\n",
       "      <td>0</td>\n",
       "    </tr>\n",
       "  </tbody>\n",
       "</table>\n",
       "<p>10 rows × 100 columns</p>\n",
       "</div>"
      ],
      "text/plain": [
       "      TotalCoinsMined TotalCoinSupply  Algorithm_1GB AES Pattern Search  \\\n",
       "42       4.199995e+01              42                                 0   \n",
       "404      1.055185e+09       532000000                                 0   \n",
       "1337     2.927942e+10    314159265359                                 0   \n",
       "BTC      1.792718e+07        21000000                                 0   \n",
       "ETH      1.076842e+08               0                                 0   \n",
       "LTC      6.303924e+07        84000000                                 0   \n",
       "DASH     9.031294e+06        22000000                                 0   \n",
       "XMR      1.720114e+07               0                                 0   \n",
       "ETC      1.133597e+08       210000000                                 0   \n",
       "ZEC      7.383056e+06        21000000                                 0   \n",
       "\n",
       "      Algorithm_536  Algorithm_Argon2d  Algorithm_BLAKE256  Algorithm_Blake  \\\n",
       "42                0                  0                   0                0   \n",
       "404               0                  0                   0                0   \n",
       "1337              0                  0                   0                0   \n",
       "BTC               0                  0                   0                0   \n",
       "ETH               0                  0                   0                0   \n",
       "LTC               0                  0                   0                0   \n",
       "DASH              0                  0                   0                0   \n",
       "XMR               0                  0                   0                0   \n",
       "ETC               0                  0                   0                0   \n",
       "ZEC               0                  0                   0                0   \n",
       "\n",
       "      Algorithm_Blake2S  Algorithm_Blake2b  Algorithm_C11  ...  \\\n",
       "42                    0                  0              0  ...   \n",
       "404                   0                  0              0  ...   \n",
       "1337                  0                  0              0  ...   \n",
       "BTC                   0                  0              0  ...   \n",
       "ETH                   0                  0              0  ...   \n",
       "LTC                   0                  0              0  ...   \n",
       "DASH                  0                  0              0  ...   \n",
       "XMR                   0                  0              0  ...   \n",
       "ETC                   0                  0              0  ...   \n",
       "ZEC                   0                  0              0  ...   \n",
       "\n",
       "      ProofType_PoW/PoS  ProofType_PoW/PoS   ProofType_PoW/PoW  \\\n",
       "42                    1                   0                  0   \n",
       "404                   1                   0                  0   \n",
       "1337                  1                   0                  0   \n",
       "BTC                   0                   0                  0   \n",
       "ETH                   0                   0                  0   \n",
       "LTC                   0                   0                  0   \n",
       "DASH                  1                   0                  0   \n",
       "XMR                   0                   0                  0   \n",
       "ETC                   0                   0                  0   \n",
       "ZEC                   0                   0                  0   \n",
       "\n",
       "      ProofType_PoW/nPoS  ProofType_Pos  ProofType_Proof of Authority  \\\n",
       "42                     0              0                             0   \n",
       "404                    0              0                             0   \n",
       "1337                   0              0                             0   \n",
       "BTC                    0              0                             0   \n",
       "ETH                    0              0                             0   \n",
       "LTC                    0              0                             0   \n",
       "DASH                   0              0                             0   \n",
       "XMR                    0              0                             0   \n",
       "ETC                    0              0                             0   \n",
       "ZEC                    0              0                             0   \n",
       "\n",
       "      ProofType_Proof of Trust  ProofType_TPoS  \\\n",
       "42                           0               0   \n",
       "404                          0               0   \n",
       "1337                         0               0   \n",
       "BTC                          0               0   \n",
       "ETH                          0               0   \n",
       "LTC                          0               0   \n",
       "DASH                         0               0   \n",
       "XMR                          0               0   \n",
       "ETC                          0               0   \n",
       "ZEC                          0               0   \n",
       "\n",
       "      ProofType_Zero-Knowledge Proof  ProofType_dPoW/PoW  \n",
       "42                                 0                   0  \n",
       "404                                0                   0  \n",
       "1337                               0                   0  \n",
       "BTC                                0                   0  \n",
       "ETH                                0                   0  \n",
       "LTC                                0                   0  \n",
       "DASH                               0                   0  \n",
       "XMR                                0                   0  \n",
       "ETC                                0                   0  \n",
       "ZEC                                0                   0  \n",
       "\n",
       "[10 rows x 100 columns]"
      ]
     },
     "execution_count": 77,
     "metadata": {},
     "output_type": "execute_result"
    }
   ],
   "source": [
    "# Use get_dummies() to create variables for text features.\n",
    "X = pd.get_dummies(df_crypto,columns=['Algorithm', 'ProofType'])\n",
    "X.head(10)"
   ]
  },
  {
   "cell_type": "code",
   "execution_count": 78,
   "metadata": {},
   "outputs": [
    {
     "name": "stdout",
     "output_type": "stream",
     "text": [
      "[[-0.11674788 -0.15286468 -0.0433555  -0.0433555  -0.0433555  -0.06137164\n",
      "  -0.07523548 -0.0433555  -0.06137164 -0.06137164 -0.0433555  -0.0433555\n",
      "  -0.19226279 -0.06137164 -0.09731237 -0.0433555  -0.11536024 -0.07523548\n",
      "  -0.0433555  -0.0433555  -0.15176505 -0.0433555  -0.13105561 -0.0433555\n",
      "  -0.0433555  -0.08695652 -0.0433555  -0.0433555  -0.0433555  -0.0433555\n",
      "  -0.06137164 -0.0433555  -0.08695652 -0.08695652 -0.08695652 -0.0433555\n",
      "  -0.13105561 -0.13827675 -0.13827675 -0.0433555  -0.06137164 -0.0433555\n",
      "  -0.07523548 -0.1815096  -0.0433555  -0.0433555  -0.0433555  -0.07523548\n",
      "  -0.15811388 -0.3145935  -0.0433555  -0.08695652 -0.07523548 -0.06137164\n",
      "  -0.0433555   1.38873015 -0.0433555  -0.0433555  -0.06137164 -0.0433555\n",
      "  -0.0433555  -0.0433555  -0.0433555  -0.0433555  -0.0433555  -0.0433555\n",
      "  -0.0433555  -0.39836623 -0.0433555  -0.1815096  -0.0433555  -0.08695652\n",
      "  -0.08695652 -0.10670145 -0.0433555  -0.0433555  -0.13105561 -0.0433555\n",
      "  -0.0433555  -0.0433555  -0.0433555  -0.07523548 -0.4386271  -0.0433555\n",
      "  -0.06137164 -0.0433555  -0.0433555  -0.89480483 -0.0433555  -0.0433555\n",
      "   1.42422228 -0.0433555  -0.0433555  -0.0433555  -0.0433555  -0.0433555\n",
      "  -0.0433555  -0.0433555  -0.0433555  -0.0433555 ]\n",
      " [-0.09358885 -0.14499604 -0.0433555  -0.0433555  -0.0433555  -0.06137164\n",
      "  -0.07523548 -0.0433555  -0.06137164 -0.06137164 -0.0433555  -0.0433555\n",
      "  -0.19226279 -0.06137164 -0.09731237 -0.0433555  -0.11536024 -0.07523548\n",
      "  -0.0433555  -0.0433555  -0.15176505 -0.0433555  -0.13105561 -0.0433555\n",
      "  -0.0433555  -0.08695652 -0.0433555  -0.0433555  -0.0433555  -0.0433555\n",
      "  -0.06137164 -0.0433555  -0.08695652 -0.08695652 -0.08695652 -0.0433555\n",
      "  -0.13105561 -0.13827675 -0.13827675 -0.0433555  -0.06137164 -0.0433555\n",
      "  -0.07523548 -0.1815096  -0.0433555  -0.0433555  -0.0433555  -0.07523548\n",
      "  -0.15811388 -0.3145935  -0.0433555  -0.08695652 -0.07523548 -0.06137164\n",
      "  -0.0433555   1.38873015 -0.0433555  -0.0433555  -0.06137164 -0.0433555\n",
      "  -0.0433555  -0.0433555  -0.0433555  -0.0433555  -0.0433555  -0.0433555\n",
      "  -0.0433555  -0.39836623 -0.0433555  -0.1815096  -0.0433555  -0.08695652\n",
      "  -0.08695652 -0.10670145 -0.0433555  -0.0433555  -0.13105561 -0.0433555\n",
      "  -0.0433555  -0.0433555  -0.0433555  -0.07523548 -0.4386271  -0.0433555\n",
      "  -0.06137164 -0.0433555  -0.0433555  -0.89480483 -0.0433555  -0.0433555\n",
      "   1.42422228 -0.0433555  -0.0433555  -0.0433555  -0.0433555  -0.0433555\n",
      "  -0.0433555  -0.0433555  -0.0433555  -0.0433555 ]\n",
      " [ 0.52587231  4.4937636  -0.0433555  -0.0433555  -0.0433555  -0.06137164\n",
      "  -0.07523548 -0.0433555  -0.06137164 -0.06137164 -0.0433555  -0.0433555\n",
      "  -0.19226279 -0.06137164 -0.09731237 -0.0433555  -0.11536024 -0.07523548\n",
      "  -0.0433555  -0.0433555  -0.15176505 -0.0433555  -0.13105561 -0.0433555\n",
      "  -0.0433555  -0.08695652 -0.0433555  -0.0433555  -0.0433555  -0.0433555\n",
      "  -0.06137164 -0.0433555  -0.08695652 -0.08695652 -0.08695652 -0.0433555\n",
      "  -0.13105561 -0.13827675 -0.13827675 -0.0433555  -0.06137164 -0.0433555\n",
      "  -0.07523548 -0.1815096  -0.0433555  -0.0433555  -0.0433555  -0.07523548\n",
      "  -0.15811388 -0.3145935  -0.0433555  -0.08695652 -0.07523548 -0.06137164\n",
      "  -0.0433555  -0.7200823  -0.0433555  -0.0433555  -0.06137164 -0.0433555\n",
      "  -0.0433555  -0.0433555  -0.0433555  -0.0433555  -0.0433555  -0.0433555\n",
      "  -0.0433555  -0.39836623 -0.0433555   5.50935034 -0.0433555  -0.08695652\n",
      "  -0.08695652 -0.10670145 -0.0433555  -0.0433555  -0.13105561 -0.0433555\n",
      "  -0.0433555  -0.0433555  -0.0433555  -0.07523548 -0.4386271  -0.0433555\n",
      "  -0.06137164 -0.0433555  -0.0433555  -0.89480483 -0.0433555  -0.0433555\n",
      "   1.42422228 -0.0433555  -0.0433555  -0.0433555  -0.0433555  -0.0433555\n",
      "  -0.0433555  -0.0433555  -0.0433555  -0.0433555 ]\n",
      " [-0.11635442 -0.15255408 -0.0433555  -0.0433555  -0.0433555  -0.06137164\n",
      "  -0.07523548 -0.0433555  -0.06137164 -0.06137164 -0.0433555  -0.0433555\n",
      "  -0.19226279 -0.06137164 -0.09731237 -0.0433555  -0.11536024 -0.07523548\n",
      "  -0.0433555  -0.0433555  -0.15176505 -0.0433555  -0.13105561 -0.0433555\n",
      "  -0.0433555  -0.08695652 -0.0433555  -0.0433555  -0.0433555  -0.0433555\n",
      "  -0.06137164 -0.0433555  -0.08695652 -0.08695652 -0.08695652 -0.0433555\n",
      "  -0.13105561 -0.13827675 -0.13827675 -0.0433555  -0.06137164 -0.0433555\n",
      "  -0.07523548 -0.1815096  -0.0433555  -0.0433555  -0.0433555  -0.07523548\n",
      "  -0.15811388  3.17870519 -0.0433555  -0.08695652 -0.07523548 -0.06137164\n",
      "  -0.0433555  -0.7200823  -0.0433555  -0.0433555  -0.06137164 -0.0433555\n",
      "  -0.0433555  -0.0433555  -0.0433555  -0.0433555  -0.0433555  -0.0433555\n",
      "  -0.0433555  -0.39836623 -0.0433555  -0.1815096  -0.0433555  -0.08695652\n",
      "  -0.08695652 -0.10670145 -0.0433555  -0.0433555  -0.13105561 -0.0433555\n",
      "  -0.0433555  -0.0433555  -0.0433555  -0.07523548 -0.4386271  -0.0433555\n",
      "  -0.06137164 -0.0433555  -0.0433555   1.11756214 -0.0433555  -0.0433555\n",
      "  -0.70213759 -0.0433555  -0.0433555  -0.0433555  -0.0433555  -0.0433555\n",
      "  -0.0433555  -0.0433555  -0.0433555  -0.0433555 ]\n",
      " [-0.11438445 -0.15286468 -0.0433555  -0.0433555  -0.0433555  -0.06137164\n",
      "  -0.07523548 -0.0433555  -0.06137164 -0.06137164 -0.0433555  -0.0433555\n",
      "  -0.19226279 -0.06137164 -0.09731237 -0.0433555  -0.11536024 -0.07523548\n",
      "  -0.0433555  -0.0433555  -0.15176505 -0.0433555   7.63034876 -0.0433555\n",
      "  -0.0433555  -0.08695652 -0.0433555  -0.0433555  -0.0433555  -0.0433555\n",
      "  -0.06137164 -0.0433555  -0.08695652 -0.08695652 -0.08695652 -0.0433555\n",
      "  -0.13105561 -0.13827675 -0.13827675 -0.0433555  -0.06137164 -0.0433555\n",
      "  -0.07523548 -0.1815096  -0.0433555  -0.0433555  -0.0433555  -0.07523548\n",
      "  -0.15811388 -0.3145935  -0.0433555  -0.08695652 -0.07523548 -0.06137164\n",
      "  -0.0433555  -0.7200823  -0.0433555  -0.0433555  -0.06137164 -0.0433555\n",
      "  -0.0433555  -0.0433555  -0.0433555  -0.0433555  -0.0433555  -0.0433555\n",
      "  -0.0433555  -0.39836623 -0.0433555  -0.1815096  -0.0433555  -0.08695652\n",
      "  -0.08695652 -0.10670145 -0.0433555  -0.0433555  -0.13105561 -0.0433555\n",
      "  -0.0433555  -0.0433555  -0.0433555  -0.07523548 -0.4386271  -0.0433555\n",
      "  -0.06137164 -0.0433555  -0.0433555   1.11756214 -0.0433555  -0.0433555\n",
      "  -0.70213759 -0.0433555  -0.0433555  -0.0433555  -0.0433555  -0.0433555\n",
      "  -0.0433555  -0.0433555  -0.0433555  -0.0433555 ]]\n"
     ]
    }
   ],
   "source": [
    "# Standardize the data with StandardScaler().\n",
    "X_scaled = StandardScaler().fit_transform(X)\n",
    "print(X_scaled[0:5])"
   ]
  },
  {
   "cell_type": "markdown",
   "metadata": {},
   "source": [
    "### Deliverable 2: Reducing Data Dimensions Using PCA"
   ]
  },
  {
   "cell_type": "code",
   "execution_count": 79,
   "metadata": {},
   "outputs": [
    {
     "data": {
      "text/plain": [
       "array([[-0.33265853,  0.94118993, -0.5812782 ],\n",
       "       [-0.31598886,  0.94140583, -0.58158915],\n",
       "       [ 2.30687431,  1.66516348, -0.62078971],\n",
       "       ...,\n",
       "       [ 0.32421731, -2.27425357,  0.43147057],\n",
       "       [-0.14230845, -1.97987622,  0.32667836],\n",
       "       [-0.30487161,  0.80944745, -0.26923858]])"
      ]
     },
     "execution_count": 79,
     "metadata": {},
     "output_type": "execute_result"
    }
   ],
   "source": [
    "# Using PCA to reduce dimension to three principal components.\n",
    "pca = PCA(n_components=3)\n",
    "X_pca = pca.fit_transform(X_scaled)\n",
    "X_pca"
   ]
  },
  {
   "cell_type": "code",
   "execution_count": 82,
   "metadata": {},
   "outputs": [
    {
     "data": {
      "text/html": [
       "<div>\n",
       "<style scoped>\n",
       "    .dataframe tbody tr th:only-of-type {\n",
       "        vertical-align: middle;\n",
       "    }\n",
       "\n",
       "    .dataframe tbody tr th {\n",
       "        vertical-align: top;\n",
       "    }\n",
       "\n",
       "    .dataframe thead th {\n",
       "        text-align: right;\n",
       "    }\n",
       "</style>\n",
       "<table border=\"1\" class=\"dataframe\">\n",
       "  <thead>\n",
       "    <tr style=\"text-align: right;\">\n",
       "      <th></th>\n",
       "      <th>PCA 1</th>\n",
       "      <th>PCA 2</th>\n",
       "      <th>PCA 3</th>\n",
       "    </tr>\n",
       "  </thead>\n",
       "  <tbody>\n",
       "    <tr>\n",
       "      <th>42</th>\n",
       "      <td>-0.332659</td>\n",
       "      <td>0.941190</td>\n",
       "      <td>-0.581278</td>\n",
       "    </tr>\n",
       "    <tr>\n",
       "      <th>404</th>\n",
       "      <td>-0.315989</td>\n",
       "      <td>0.941406</td>\n",
       "      <td>-0.581589</td>\n",
       "    </tr>\n",
       "    <tr>\n",
       "      <th>1337</th>\n",
       "      <td>2.306874</td>\n",
       "      <td>1.665163</td>\n",
       "      <td>-0.620790</td>\n",
       "    </tr>\n",
       "    <tr>\n",
       "      <th>BTC</th>\n",
       "      <td>-0.144110</td>\n",
       "      <td>-1.294057</td>\n",
       "      <td>0.187215</td>\n",
       "    </tr>\n",
       "    <tr>\n",
       "      <th>ETH</th>\n",
       "      <td>-0.159054</td>\n",
       "      <td>-2.011207</td>\n",
       "      <td>0.412619</td>\n",
       "    </tr>\n",
       "  </tbody>\n",
       "</table>\n",
       "</div>"
      ],
      "text/plain": [
       "         PCA 1     PCA 2     PCA 3\n",
       "42   -0.332659  0.941190 -0.581278\n",
       "404  -0.315989  0.941406 -0.581589\n",
       "1337  2.306874  1.665163 -0.620790\n",
       "BTC  -0.144110 -1.294057  0.187215\n",
       "ETH  -0.159054 -2.011207  0.412619"
      ]
     },
     "execution_count": 82,
     "metadata": {},
     "output_type": "execute_result"
    }
   ],
   "source": [
    "# Create a DataFrame with the three principal components.\n",
    "pcs_df = pd.DataFrame(\n",
    "    data=X_pca, columns=['PCA 1','PCA 2','PCA 3'], index=X.index)\n",
    "pcs_df.head()"
   ]
  },
  {
   "cell_type": "markdown",
   "metadata": {},
   "source": [
    "### Deliverable 3: Clustering Crytocurrencies Using K-Means\n",
    "\n",
    "#### Finding the Best Value for `k` Using the Elbow Curve"
   ]
  },
  {
   "cell_type": "code",
   "execution_count": 83,
   "metadata": {
    "scrolled": true
   },
   "outputs": [
    {
     "name": "stderr",
     "output_type": "stream",
     "text": [
      "C:\\Users\\seanc\\anaconda3\\envs\\mlenv\\lib\\site-packages\\sklearn\\cluster\\_kmeans.py:882: UserWarning: KMeans is known to have a memory leak on Windows with MKL, when there are less chunks than available threads. You can avoid it by setting the environment variable OMP_NUM_THREADS=3.\n",
      "  f\"KMeans is known to have a memory leak on Windows \"\n"
     ]
    },
    {
     "data": {},
     "metadata": {},
     "output_type": "display_data"
    },
    {
     "data": {
      "application/vnd.holoviews_exec.v0+json": "",
      "text/html": [
       "<div id='1002'>\n",
       "\n",
       "\n",
       "\n",
       "\n",
       "\n",
       "  <div class=\"bk-root\" id=\"eff216ae-2b86-4426-9a65-0fbfdaa86243\" data-root-id=\"1002\"></div>\n",
       "</div>\n",
       "<script type=\"application/javascript\">(function(root) {\n",
       "  function embed_document(root) {\n",
       "    var docs_json = {\"43147111-c5e7-4a83-bec1-b33434b5744a\":{\"defs\":[{\"extends\":null,\"module\":null,\"name\":\"ReactiveHTML1\",\"overrides\":[],\"properties\":[]},{\"extends\":null,\"module\":null,\"name\":\"FlexBox1\",\"overrides\":[],\"properties\":[{\"default\":\"flex-start\",\"kind\":null,\"name\":\"align_content\"},{\"default\":\"flex-start\",\"kind\":null,\"name\":\"align_items\"},{\"default\":\"row\",\"kind\":null,\"name\":\"flex_direction\"},{\"default\":\"wrap\",\"kind\":null,\"name\":\"flex_wrap\"},{\"default\":\"flex-start\",\"kind\":null,\"name\":\"justify_content\"}]},{\"extends\":null,\"module\":null,\"name\":\"TemplateActions1\",\"overrides\":[],\"properties\":[{\"default\":0,\"kind\":null,\"name\":\"open_modal\"},{\"default\":0,\"kind\":null,\"name\":\"close_modal\"}]},{\"extends\":null,\"module\":null,\"name\":\"MaterialTemplateActions1\",\"overrides\":[],\"properties\":[{\"default\":0,\"kind\":null,\"name\":\"open_modal\"},{\"default\":0,\"kind\":null,\"name\":\"close_modal\"}]}],\"roots\":{\"references\":[{\"attributes\":{\"axis_label\":\"inertia\",\"formatter\":{\"id\":\"1052\"},\"major_label_policy\":{\"id\":\"1054\"},\"ticker\":{\"id\":\"1021\"}},\"id\":\"1020\",\"type\":\"LinearAxis\"},{\"attributes\":{\"source\":{\"id\":\"1037\"}},\"id\":\"1044\",\"type\":\"CDSView\"},{\"attributes\":{\"bottom_units\":\"screen\",\"fill_alpha\":0.5,\"fill_color\":\"lightgrey\",\"left_units\":\"screen\",\"level\":\"overlay\",\"line_alpha\":1.0,\"line_color\":\"black\",\"line_dash\":[4,4],\"line_width\":2,\"right_units\":\"screen\",\"syncable\":false,\"top_units\":\"screen\"},\"id\":\"1029\",\"type\":\"BoxAnnotation\"},{\"attributes\":{\"data_source\":{\"id\":\"1037\"},\"glyph\":{\"id\":\"1040\"},\"hover_glyph\":null,\"muted_glyph\":{\"id\":\"1042\"},\"nonselection_glyph\":{\"id\":\"1041\"},\"selection_glyph\":{\"id\":\"1045\"},\"view\":{\"id\":\"1044\"}},\"id\":\"1043\",\"type\":\"GlyphRenderer\"},{\"attributes\":{\"margin\":[5,5,5,5],\"name\":\"HSpacer01631\",\"sizing_mode\":\"stretch_width\"},\"id\":\"1003\",\"type\":\"Spacer\"},{\"attributes\":{\"below\":[{\"id\":\"1016\"}],\"center\":[{\"id\":\"1019\"},{\"id\":\"1023\"}],\"height\":300,\"left\":[{\"id\":\"1020\"}],\"margin\":[5,5,5,5],\"min_border_bottom\":10,\"min_border_left\":10,\"min_border_right\":10,\"min_border_top\":10,\"renderers\":[{\"id\":\"1043\"}],\"sizing_mode\":\"fixed\",\"title\":{\"id\":\"1008\"},\"toolbar\":{\"id\":\"1030\"},\"width\":700,\"x_range\":{\"id\":\"1004\"},\"x_scale\":{\"id\":\"1012\"},\"y_range\":{\"id\":\"1005\"},\"y_scale\":{\"id\":\"1014\"}},\"id\":\"1007\",\"subtype\":\"Figure\",\"type\":\"Plot\"},{\"attributes\":{\"active_multi\":null,\"tools\":[{\"id\":\"1006\"},{\"id\":\"1024\"},{\"id\":\"1025\"},{\"id\":\"1026\"},{\"id\":\"1027\"},{\"id\":\"1028\"}]},\"id\":\"1030\",\"type\":\"Toolbar\"},{\"attributes\":{},\"id\":\"1021\",\"type\":\"BasicTicker\"},{\"attributes\":{},\"id\":\"1049\",\"type\":\"AllLabels\"},{\"attributes\":{\"axis\":{\"id\":\"1020\"},\"dimension\":1,\"grid_line_color\":null,\"ticker\":null},\"id\":\"1023\",\"type\":\"Grid\"},{\"attributes\":{\"axis_label\":\"k\",\"formatter\":{\"id\":\"1047\"},\"major_label_policy\":{\"id\":\"1049\"},\"ticker\":{\"id\":\"1046\"}},\"id\":\"1016\",\"type\":\"LinearAxis\"},{\"attributes\":{\"data\":{\"inertia\":{\"__ndarray__\":\"4Btz4r59rEChcRlcfF6jQI34luEvSJdAOiSdMpRVgkBNWHF8iH14QGO1BZUASnJA3aB9UwFCbUBBxsWR38pnQOixTOOp8GJAIF4a+EveYEA=\",\"dtype\":\"float64\",\"order\":\"little\",\"shape\":[10]},\"k\":[1,2,3,4,5,6,7,8,9,10]},\"selected\":{\"id\":\"1038\"},\"selection_policy\":{\"id\":\"1062\"}},\"id\":\"1037\",\"type\":\"ColumnDataSource\"},{\"attributes\":{\"end\":10.0,\"reset_end\":10.0,\"reset_start\":1.0,\"start\":1.0,\"tags\":[[[\"k\",\"k\",null]]]},\"id\":\"1004\",\"type\":\"Range1d\"},{\"attributes\":{\"end\":3998.065426208227,\"reset_end\":3998.065426208227,\"reset_start\":-216.24583120638465,\"start\":-216.24583120638465,\"tags\":[[[\"inertia\",\"inertia\",null]]]},\"id\":\"1005\",\"type\":\"Range1d\"},{\"attributes\":{\"line_alpha\":0.2,\"line_color\":\"#30a2da\",\"line_width\":2,\"x\":{\"field\":\"k\"},\"y\":{\"field\":\"inertia\"}},\"id\":\"1042\",\"type\":\"Line\"},{\"attributes\":{\"line_color\":\"#30a2da\",\"line_width\":2,\"x\":{\"field\":\"k\"},\"y\":{\"field\":\"inertia\"}},\"id\":\"1045\",\"type\":\"Line\"},{\"attributes\":{},\"id\":\"1054\",\"type\":\"AllLabels\"},{\"attributes\":{\"ticks\":[1,2,3,4,5,6,7,8,9,10]},\"id\":\"1046\",\"type\":\"FixedTicker\"},{\"attributes\":{\"text\":\"Elbow Curve\",\"text_color\":\"black\",\"text_font_size\":\"12pt\"},\"id\":\"1008\",\"type\":\"Title\"},{\"attributes\":{\"line_alpha\":0.1,\"line_color\":\"#30a2da\",\"line_width\":2,\"x\":{\"field\":\"k\"},\"y\":{\"field\":\"inertia\"}},\"id\":\"1041\",\"type\":\"Line\"},{\"attributes\":{\"callback\":null,\"renderers\":[{\"id\":\"1043\"}],\"tags\":[\"hv_created\"],\"tooltips\":[[\"k\",\"@{k}\"],[\"inertia\",\"@{inertia}\"]]},\"id\":\"1006\",\"type\":\"HoverTool\"},{\"attributes\":{},\"id\":\"1024\",\"type\":\"SaveTool\"},{\"attributes\":{\"line_color\":\"#30a2da\",\"line_width\":2,\"x\":{\"field\":\"k\"},\"y\":{\"field\":\"inertia\"}},\"id\":\"1040\",\"type\":\"Line\"},{\"attributes\":{},\"id\":\"1025\",\"type\":\"PanTool\"},{\"attributes\":{\"margin\":[5,5,5,5],\"name\":\"HSpacer01632\",\"sizing_mode\":\"stretch_width\"},\"id\":\"1073\",\"type\":\"Spacer\"},{\"attributes\":{\"overlay\":{\"id\":\"1029\"}},\"id\":\"1027\",\"type\":\"BoxZoomTool\"},{\"attributes\":{},\"id\":\"1038\",\"type\":\"Selection\"},{\"attributes\":{},\"id\":\"1047\",\"type\":\"BasicTickFormatter\"},{\"attributes\":{},\"id\":\"1028\",\"type\":\"ResetTool\"},{\"attributes\":{},\"id\":\"1062\",\"type\":\"UnionRenderers\"},{\"attributes\":{},\"id\":\"1052\",\"type\":\"BasicTickFormatter\"},{\"attributes\":{},\"id\":\"1012\",\"type\":\"LinearScale\"},{\"attributes\":{\"children\":[{\"id\":\"1003\"},{\"id\":\"1007\"},{\"id\":\"1073\"}],\"margin\":[0,0,0,0],\"name\":\"Row01627\",\"tags\":[\"embedded\"]},\"id\":\"1002\",\"type\":\"Row\"},{\"attributes\":{\"axis\":{\"id\":\"1016\"},\"grid_line_color\":null,\"ticker\":null},\"id\":\"1019\",\"type\":\"Grid\"},{\"attributes\":{},\"id\":\"1014\",\"type\":\"LinearScale\"},{\"attributes\":{},\"id\":\"1026\",\"type\":\"WheelZoomTool\"}],\"root_ids\":[\"1002\"]},\"title\":\"Bokeh Application\",\"version\":\"2.3.2\"}};\n",
       "    var render_items = [{\"docid\":\"43147111-c5e7-4a83-bec1-b33434b5744a\",\"root_ids\":[\"1002\"],\"roots\":{\"1002\":\"eff216ae-2b86-4426-9a65-0fbfdaa86243\"}}];\n",
       "    root.Bokeh.embed.embed_items_notebook(docs_json, render_items);\n",
       "  }\n",
       "  if (root.Bokeh !== undefined && root.Bokeh.Panel !== undefined) {\n",
       "    embed_document(root);\n",
       "  } else {\n",
       "    var attempts = 0;\n",
       "    var timer = setInterval(function(root) {\n",
       "      if (root.Bokeh !== undefined && root.Bokeh.Panel !== undefined) {\n",
       "        clearInterval(timer);\n",
       "        embed_document(root);\n",
       "      } else if (document.readyState == \"complete\") {\n",
       "        attempts++;\n",
       "        if (attempts > 200) {\n",
       "          clearInterval(timer);\n",
       "          console.log(\"Bokeh: ERROR: Unable to run BokehJS code because BokehJS library is missing\");\n",
       "        }\n",
       "      }\n",
       "    }, 25, root)\n",
       "  }\n",
       "})(window);</script>"
      ],
      "text/plain": [
       ":Curve   [k]   (inertia)"
      ]
     },
     "execution_count": 83,
     "metadata": {
      "application/vnd.holoviews_exec.v0+json": {
       "id": "1002"
      }
     },
     "output_type": "execute_result"
    }
   ],
   "source": [
    "# Create an elbow curve to find the best value for K.\n",
    "inertia = []\n",
    "k = list(range(1, 11))\n",
    "\n",
    "for i in k:\n",
    "    km = KMeans(n_clusters=i, random_state=0)\n",
    "    km.fit(pcs_df)\n",
    "    inertia.append(km.inertia_)\n",
    "    \n",
    "elbow_data = {\"k\": k, \"inertia\": inertia}\n",
    "df_elbow = pd.DataFrame(elbow_data)\n",
    "df_elbow.hvplot.line(x=\"k\", y=\"inertia\", title=\"Elbow Curve\", xticks=k)"
   ]
  },
  {
   "cell_type": "markdown",
   "metadata": {},
   "source": [
    "Running K-Means with `k=4`"
   ]
  },
  {
   "cell_type": "code",
   "execution_count": 94,
   "metadata": {},
   "outputs": [
    {
     "data": {
      "text/plain": [
       "array([0, 0, 0, 3, 3, 3, 0, 3, 3, 3, 0, 3, 0, 0, 3, 0, 3, 3, 0, 0, 3, 3,\n",
       "       3, 3, 3, 0, 3, 3, 3, 0, 3, 0, 3, 3, 0, 0, 3, 3, 3, 3, 3, 3, 0, 0,\n",
       "       3, 3, 3, 3, 3, 0, 0, 3, 0, 3, 3, 3, 3, 0, 3, 3, 0, 3, 0, 0, 0, 3,\n",
       "       3, 3, 0, 0, 0, 0, 0, 3, 3, 3, 0, 0, 3, 0, 3, 0, 0, 3, 3, 3, 3, 0,\n",
       "       0, 3, 0, 3, 3, 0, 0, 3, 0, 0, 3, 3, 0, 0, 3, 0, 0, 3, 0, 3, 0, 3,\n",
       "       0, 3, 0, 0, 3, 3, 0, 3, 3, 3, 0, 3, 3, 3, 3, 3, 0, 0, 3, 3, 3, 0,\n",
       "       3, 0, 3, 3, 0, 3, 0, 3, 0, 0, 3, 3, 0, 3, 3, 0, 0, 3, 0, 3, 0, 0,\n",
       "       0, 3, 3, 3, 3, 0, 0, 0, 0, 0, 3, 3, 0, 0, 0, 0, 0, 3, 0, 0, 0, 0,\n",
       "       0, 3, 0, 3, 0, 0, 3, 0, 3, 0, 0, 3, 0, 3, 0, 3, 0, 3, 0, 0, 0, 0,\n",
       "       3, 0, 0, 0, 0, 0, 3, 3, 0, 0, 3, 3, 0, 0, 0, 0, 0, 3, 0, 0, 0, 0,\n",
       "       0, 0, 0, 0, 3, 0, 0, 0, 0, 0, 0, 3, 3, 3, 0, 0, 0, 0, 3, 0, 3, 0,\n",
       "       0, 3, 0, 3, 3, 0, 3, 3, 0, 3, 0, 0, 0, 3, 0, 0, 3, 0, 0, 0, 0, 0,\n",
       "       0, 0, 3, 0, 3, 0, 0, 0, 0, 3, 0, 3, 0, 3, 3, 3, 3, 0, 3, 0, 0, 3,\n",
       "       0, 3, 3, 3, 0, 3, 0, 3, 3, 3, 0, 3, 0, 3, 0, 0, 0, 3, 0, 3, 3, 3,\n",
       "       3, 3, 0, 0, 3, 0, 0, 0, 3, 0, 3, 0, 3, 0, 3, 0, 0, 0, 0, 3, 0, 0,\n",
       "       3, 0, 0, 0, 3, 3, 3, 3, 0, 0, 0, 0, 3, 0, 3, 3, 3, 0, 0, 3, 3, 0,\n",
       "       0, 3, 0, 3, 3, 3, 0, 3, 3, 0, 0, 0, 3, 3, 3, 0, 0, 0, 3, 3, 0, 3,\n",
       "       3, 3, 3, 0, 0, 0, 3, 3, 3, 0, 1, 0, 0, 0, 0, 3, 3, 3, 3, 0, 0, 0,\n",
       "       3, 0, 3, 0, 0, 0, 0, 3, 0, 0, 3, 0, 0, 3, 3, 0, 3, 0, 3, 3, 3, 3,\n",
       "       0, 0, 3, 0, 3, 0, 0, 0, 0, 0, 0, 3, 3, 3, 0, 0, 0, 0, 0, 0, 3, 0,\n",
       "       3, 3, 3, 3, 0, 0, 0, 0, 3, 0, 0, 3, 0, 0, 3, 1, 3, 0, 3, 3, 0, 0,\n",
       "       3, 0, 3, 3, 0, 3, 3, 0, 3, 0, 3, 0, 0, 3, 0, 0, 0, 0, 0, 3, 3, 3,\n",
       "       0, 0, 0, 3, 0, 3, 0, 3, 0, 0, 0, 0, 3, 0, 0, 0, 3, 0, 3, 0, 3, 0,\n",
       "       0, 0, 3, 3, 0, 0, 0, 0, 0, 0, 1, 3, 0, 3, 0, 3, 0, 0, 1, 0, 2, 0,\n",
       "       0, 0, 3, 3, 0])"
      ]
     },
     "execution_count": 94,
     "metadata": {},
     "output_type": "execute_result"
    }
   ],
   "source": [
    "# Initialize the K-Means model.\n",
    "model = KMeans(n_clusters=4, random_state=0)\n",
    "\n",
    "# Fit the model\n",
    "model.fit(pcs_df)\n",
    "\n",
    "# Predict clusters\n",
    "predictions = model.predict(pcs_df)\n",
    "predictions"
   ]
  },
  {
   "cell_type": "code",
   "execution_count": 95,
   "metadata": {},
   "outputs": [
    {
     "data": {
      "text/html": [
       "<div>\n",
       "<style scoped>\n",
       "    .dataframe tbody tr th:only-of-type {\n",
       "        vertical-align: middle;\n",
       "    }\n",
       "\n",
       "    .dataframe tbody tr th {\n",
       "        vertical-align: top;\n",
       "    }\n",
       "\n",
       "    .dataframe thead th {\n",
       "        text-align: right;\n",
       "    }\n",
       "</style>\n",
       "<table border=\"1\" class=\"dataframe\">\n",
       "  <thead>\n",
       "    <tr style=\"text-align: right;\">\n",
       "      <th></th>\n",
       "      <th>Algorithm</th>\n",
       "      <th>ProofType</th>\n",
       "      <th>TotalCoinsMined</th>\n",
       "      <th>TotalCoinSupply</th>\n",
       "      <th>PCA 1</th>\n",
       "      <th>PCA 2</th>\n",
       "      <th>PCA 3</th>\n",
       "      <th>CoinName</th>\n",
       "      <th>Class</th>\n",
       "    </tr>\n",
       "  </thead>\n",
       "  <tbody>\n",
       "    <tr>\n",
       "      <th>42</th>\n",
       "      <td>Scrypt</td>\n",
       "      <td>PoW/PoS</td>\n",
       "      <td>4.199995e+01</td>\n",
       "      <td>42</td>\n",
       "      <td>-0.332659</td>\n",
       "      <td>0.941190</td>\n",
       "      <td>-0.581278</td>\n",
       "      <td>42 Coin</td>\n",
       "      <td>0</td>\n",
       "    </tr>\n",
       "    <tr>\n",
       "      <th>404</th>\n",
       "      <td>Scrypt</td>\n",
       "      <td>PoW/PoS</td>\n",
       "      <td>1.055185e+09</td>\n",
       "      <td>532000000</td>\n",
       "      <td>-0.315989</td>\n",
       "      <td>0.941406</td>\n",
       "      <td>-0.581589</td>\n",
       "      <td>404Coin</td>\n",
       "      <td>0</td>\n",
       "    </tr>\n",
       "    <tr>\n",
       "      <th>1337</th>\n",
       "      <td>X13</td>\n",
       "      <td>PoW/PoS</td>\n",
       "      <td>2.927942e+10</td>\n",
       "      <td>314159265359</td>\n",
       "      <td>2.306874</td>\n",
       "      <td>1.665163</td>\n",
       "      <td>-0.620790</td>\n",
       "      <td>EliteCoin</td>\n",
       "      <td>0</td>\n",
       "    </tr>\n",
       "    <tr>\n",
       "      <th>BTC</th>\n",
       "      <td>SHA-256</td>\n",
       "      <td>PoW</td>\n",
       "      <td>1.792718e+07</td>\n",
       "      <td>21000000</td>\n",
       "      <td>-0.144110</td>\n",
       "      <td>-1.294057</td>\n",
       "      <td>0.187215</td>\n",
       "      <td>Bitcoin</td>\n",
       "      <td>3</td>\n",
       "    </tr>\n",
       "    <tr>\n",
       "      <th>ETH</th>\n",
       "      <td>Ethash</td>\n",
       "      <td>PoW</td>\n",
       "      <td>1.076842e+08</td>\n",
       "      <td>0</td>\n",
       "      <td>-0.159054</td>\n",
       "      <td>-2.011207</td>\n",
       "      <td>0.412619</td>\n",
       "      <td>Ethereum</td>\n",
       "      <td>3</td>\n",
       "    </tr>\n",
       "  </tbody>\n",
       "</table>\n",
       "</div>"
      ],
      "text/plain": [
       "     Algorithm ProofType  TotalCoinsMined TotalCoinSupply     PCA 1     PCA 2  \\\n",
       "42      Scrypt   PoW/PoS     4.199995e+01              42 -0.332659  0.941190   \n",
       "404     Scrypt   PoW/PoS     1.055185e+09       532000000 -0.315989  0.941406   \n",
       "1337       X13   PoW/PoS     2.927942e+10    314159265359  2.306874  1.665163   \n",
       "BTC    SHA-256       PoW     1.792718e+07        21000000 -0.144110 -1.294057   \n",
       "ETH     Ethash       PoW     1.076842e+08               0 -0.159054 -2.011207   \n",
       "\n",
       "         PCA 3   CoinName  Class  \n",
       "42   -0.581278    42 Coin      0  \n",
       "404  -0.581589    404Coin      0  \n",
       "1337 -0.620790  EliteCoin      0  \n",
       "BTC   0.187215    Bitcoin      3  \n",
       "ETH   0.412619   Ethereum      3  "
      ]
     },
     "execution_count": 95,
     "metadata": {},
     "output_type": "execute_result"
    }
   ],
   "source": [
    "clustered_df = pd.concat([df_crypto,pcs_df],axis=1)\n",
    "\n",
    "clustered_df['CoinName'] = df_coinname\n",
    "\n",
    "clustered_df['Class'] = predictions\n",
    "\n",
    "clustered_df.head()"
   ]
  },
  {
   "cell_type": "code",
   "execution_count": 96,
   "metadata": {},
   "outputs": [
    {
     "name": "stdout",
     "output_type": "stream",
     "text": [
      "(533, 9)\n"
     ]
    },
    {
     "data": {
      "text/html": [
       "<div>\n",
       "<style scoped>\n",
       "    .dataframe tbody tr th:only-of-type {\n",
       "        vertical-align: middle;\n",
       "    }\n",
       "\n",
       "    .dataframe tbody tr th {\n",
       "        vertical-align: top;\n",
       "    }\n",
       "\n",
       "    .dataframe thead th {\n",
       "        text-align: right;\n",
       "    }\n",
       "</style>\n",
       "<table border=\"1\" class=\"dataframe\">\n",
       "  <thead>\n",
       "    <tr style=\"text-align: right;\">\n",
       "      <th></th>\n",
       "      <th>Algorithm</th>\n",
       "      <th>ProofType</th>\n",
       "      <th>TotalCoinsMined</th>\n",
       "      <th>TotalCoinSupply</th>\n",
       "      <th>PCA 1</th>\n",
       "      <th>PCA 2</th>\n",
       "      <th>PCA 3</th>\n",
       "      <th>CoinName</th>\n",
       "      <th>Class</th>\n",
       "    </tr>\n",
       "  </thead>\n",
       "  <tbody>\n",
       "    <tr>\n",
       "      <th>42</th>\n",
       "      <td>Scrypt</td>\n",
       "      <td>PoW/PoS</td>\n",
       "      <td>4.199995e+01</td>\n",
       "      <td>42</td>\n",
       "      <td>-0.332659</td>\n",
       "      <td>0.941190</td>\n",
       "      <td>-0.581278</td>\n",
       "      <td>42 Coin</td>\n",
       "      <td>0</td>\n",
       "    </tr>\n",
       "    <tr>\n",
       "      <th>404</th>\n",
       "      <td>Scrypt</td>\n",
       "      <td>PoW/PoS</td>\n",
       "      <td>1.055185e+09</td>\n",
       "      <td>532000000</td>\n",
       "      <td>-0.315989</td>\n",
       "      <td>0.941406</td>\n",
       "      <td>-0.581589</td>\n",
       "      <td>404Coin</td>\n",
       "      <td>0</td>\n",
       "    </tr>\n",
       "    <tr>\n",
       "      <th>1337</th>\n",
       "      <td>X13</td>\n",
       "      <td>PoW/PoS</td>\n",
       "      <td>2.927942e+10</td>\n",
       "      <td>314159265359</td>\n",
       "      <td>2.306874</td>\n",
       "      <td>1.665163</td>\n",
       "      <td>-0.620790</td>\n",
       "      <td>EliteCoin</td>\n",
       "      <td>0</td>\n",
       "    </tr>\n",
       "    <tr>\n",
       "      <th>BTC</th>\n",
       "      <td>SHA-256</td>\n",
       "      <td>PoW</td>\n",
       "      <td>1.792718e+07</td>\n",
       "      <td>21000000</td>\n",
       "      <td>-0.144110</td>\n",
       "      <td>-1.294057</td>\n",
       "      <td>0.187215</td>\n",
       "      <td>Bitcoin</td>\n",
       "      <td>3</td>\n",
       "    </tr>\n",
       "    <tr>\n",
       "      <th>ETH</th>\n",
       "      <td>Ethash</td>\n",
       "      <td>PoW</td>\n",
       "      <td>1.076842e+08</td>\n",
       "      <td>0</td>\n",
       "      <td>-0.159054</td>\n",
       "      <td>-2.011207</td>\n",
       "      <td>0.412619</td>\n",
       "      <td>Ethereum</td>\n",
       "      <td>3</td>\n",
       "    </tr>\n",
       "    <tr>\n",
       "      <th>LTC</th>\n",
       "      <td>Scrypt</td>\n",
       "      <td>PoW</td>\n",
       "      <td>6.303924e+07</td>\n",
       "      <td>84000000</td>\n",
       "      <td>-0.168184</td>\n",
       "      <td>-1.185985</td>\n",
       "      <td>-0.006614</td>\n",
       "      <td>Litecoin</td>\n",
       "      <td>3</td>\n",
       "    </tr>\n",
       "    <tr>\n",
       "      <th>DASH</th>\n",
       "      <td>X11</td>\n",
       "      <td>PoW/PoS</td>\n",
       "      <td>9.031294e+06</td>\n",
       "      <td>22000000</td>\n",
       "      <td>-0.381481</td>\n",
       "      <td>1.262136</td>\n",
       "      <td>-0.511664</td>\n",
       "      <td>Dash</td>\n",
       "      <td>0</td>\n",
       "    </tr>\n",
       "    <tr>\n",
       "      <th>XMR</th>\n",
       "      <td>CryptoNight-V7</td>\n",
       "      <td>PoW</td>\n",
       "      <td>1.720114e+07</td>\n",
       "      <td>0</td>\n",
       "      <td>-0.148650</td>\n",
       "      <td>-2.227514</td>\n",
       "      <td>0.354595</td>\n",
       "      <td>Monero</td>\n",
       "      <td>3</td>\n",
       "    </tr>\n",
       "    <tr>\n",
       "      <th>ETC</th>\n",
       "      <td>Ethash</td>\n",
       "      <td>PoW</td>\n",
       "      <td>1.133597e+08</td>\n",
       "      <td>210000000</td>\n",
       "      <td>-0.157496</td>\n",
       "      <td>-2.011302</td>\n",
       "      <td>0.412616</td>\n",
       "      <td>Ethereum Classic</td>\n",
       "      <td>3</td>\n",
       "    </tr>\n",
       "    <tr>\n",
       "      <th>ZEC</th>\n",
       "      <td>Equihash</td>\n",
       "      <td>PoW</td>\n",
       "      <td>7.383056e+06</td>\n",
       "      <td>21000000</td>\n",
       "      <td>-0.142307</td>\n",
       "      <td>-1.979876</td>\n",
       "      <td>0.326678</td>\n",
       "      <td>ZCash</td>\n",
       "      <td>3</td>\n",
       "    </tr>\n",
       "  </tbody>\n",
       "</table>\n",
       "</div>"
      ],
      "text/plain": [
       "           Algorithm ProofType  TotalCoinsMined TotalCoinSupply     PCA 1  \\\n",
       "42            Scrypt   PoW/PoS     4.199995e+01              42 -0.332659   \n",
       "404           Scrypt   PoW/PoS     1.055185e+09       532000000 -0.315989   \n",
       "1337             X13   PoW/PoS     2.927942e+10    314159265359  2.306874   \n",
       "BTC          SHA-256       PoW     1.792718e+07        21000000 -0.144110   \n",
       "ETH           Ethash       PoW     1.076842e+08               0 -0.159054   \n",
       "LTC           Scrypt       PoW     6.303924e+07        84000000 -0.168184   \n",
       "DASH             X11   PoW/PoS     9.031294e+06        22000000 -0.381481   \n",
       "XMR   CryptoNight-V7       PoW     1.720114e+07               0 -0.148650   \n",
       "ETC           Ethash       PoW     1.133597e+08       210000000 -0.157496   \n",
       "ZEC         Equihash       PoW     7.383056e+06        21000000 -0.142307   \n",
       "\n",
       "         PCA 2     PCA 3          CoinName  Class  \n",
       "42    0.941190 -0.581278           42 Coin      0  \n",
       "404   0.941406 -0.581589           404Coin      0  \n",
       "1337  1.665163 -0.620790         EliteCoin      0  \n",
       "BTC  -1.294057  0.187215           Bitcoin      3  \n",
       "ETH  -2.011207  0.412619          Ethereum      3  \n",
       "LTC  -1.185985 -0.006614          Litecoin      3  \n",
       "DASH  1.262136 -0.511664              Dash      0  \n",
       "XMR  -2.227514  0.354595            Monero      3  \n",
       "ETC  -2.011302  0.412616  Ethereum Classic      3  \n",
       "ZEC  -1.979876  0.326678             ZCash      3  "
      ]
     },
     "execution_count": 96,
     "metadata": {},
     "output_type": "execute_result"
    }
   ],
   "source": [
    "# Create a new DataFrame including predicted clusters and cryptocurrencies features.\n",
    "# Concatentate the crypto_df and pcs_df DataFrames on the same columns.\n",
    "clustered_df = pd.concat([df_crypto,pcs_df],axis=1)\n",
    "\n",
    "#  Add a new column, \"CoinName\" to the clustered_df DataFrame that holds the names of the cryptocurrencies. \n",
    "clustered_df['CoinName'] = df_coinname\n",
    "\n",
    "#  Add a new column, \"Class\" to the clustered_df DataFrame that holds the predictions.\n",
    "clustered_df['Class'] = predictions\n",
    "\n",
    "# Print the shape of the clustered_df\n",
    "print(clustered_df.shape)\n",
    "clustered_df.head(10)"
   ]
  },
  {
   "cell_type": "markdown",
   "metadata": {},
   "source": [
    "### Deliverable 4: Visualizing Cryptocurrencies Results\n",
    "\n",
    "#### 3D-Scatter with Clusters"
   ]
  },
  {
   "cell_type": "code",
   "execution_count": 101,
   "metadata": {},
   "outputs": [
    {
     "data": {
      "application/vnd.plotly.v1+json": {
       "config": {
        "plotlyServerURL": "https://plot.ly"
       },
       "data": [
        {
         "customdata": [
          [
           "Scrypt"
          ],
          [
           "Scrypt"
          ],
          [
           "X13"
          ],
          [
           "X11"
          ],
          [
           "SHA-512"
          ],
          [
           "SHA-256"
          ],
          [
           "SHA-256"
          ],
          [
           "X15"
          ],
          [
           "Scrypt"
          ],
          [
           "Scrypt"
          ],
          [
           "Scrypt"
          ],
          [
           "Scrypt"
          ],
          [
           "Scrypt"
          ],
          [
           "Scrypt"
          ],
          [
           "Groestl"
          ],
          [
           "PoS"
          ],
          [
           "Scrypt"
          ],
          [
           "Scrypt"
          ],
          [
           "X11"
          ],
          [
           "X11"
          ],
          [
           "SHA3"
          ],
          [
           "Scrypt"
          ],
          [
           "SHA-256"
          ],
          [
           "Scrypt"
          ],
          [
           "X13"
          ],
          [
           "X13"
          ],
          [
           "NeoScrypt"
          ],
          [
           "Scrypt"
          ],
          [
           "Scrypt"
          ],
          [
           "Scrypt"
          ],
          [
           "X11"
          ],
          [
           "X11"
          ],
          [
           "Multiple"
          ],
          [
           "PHI1612"
          ],
          [
           "X11"
          ],
          [
           "Scrypt"
          ],
          [
           "Scrypt"
          ],
          [
           "Scrypt"
          ],
          [
           "X11"
          ],
          [
           "Multiple"
          ],
          [
           "X13"
          ],
          [
           "Scrypt"
          ],
          [
           "Shabal256"
          ],
          [
           "Counterparty"
          ],
          [
           "SHA-256"
          ],
          [
           "Groestl"
          ],
          [
           "Scrypt"
          ],
          [
           "X13"
          ],
          [
           "Scrypt"
          ],
          [
           "Scrypt"
          ],
          [
           "X13"
          ],
          [
           "X11"
          ],
          [
           "Scrypt"
          ],
          [
           "X11"
          ],
          [
           "SHA3"
          ],
          [
           "QUAIT"
          ],
          [
           "X11"
          ],
          [
           "Scrypt"
          ],
          [
           "X13"
          ],
          [
           "SHA-256"
          ],
          [
           "X15"
          ],
          [
           "BLAKE256"
          ],
          [
           "SHA-256"
          ],
          [
           "X11"
          ],
          [
           "SHA-256"
          ],
          [
           "NIST5"
          ],
          [
           "Scrypt"
          ],
          [
           "Scrypt"
          ],
          [
           "X11"
          ],
          [
           "Scrypt"
          ],
          [
           "SHA-256"
          ],
          [
           "Scrypt"
          ],
          [
           "PoS"
          ],
          [
           "X11"
          ],
          [
           "SHA-256"
          ],
          [
           "SHA-256"
          ],
          [
           "NIST5"
          ],
          [
           "X11"
          ],
          [
           "POS 3.0"
          ],
          [
           "Scrypt"
          ],
          [
           "Scrypt"
          ],
          [
           "Scrypt"
          ],
          [
           "X13"
          ],
          [
           "X11"
          ],
          [
           "X11"
          ],
          [
           "Scrypt"
          ],
          [
           "SHA-256"
          ],
          [
           "X11"
          ],
          [
           "Scrypt"
          ],
          [
           "Scrypt"
          ],
          [
           "Scrypt"
          ],
          [
           "Scrypt"
          ],
          [
           "SHA-256D"
          ],
          [
           "PoS"
          ],
          [
           "Scrypt"
          ],
          [
           "X11"
          ],
          [
           "PoS"
          ],
          [
           "X13"
          ],
          [
           "X14"
          ],
          [
           "PoS"
          ],
          [
           "SHA-256D"
          ],
          [
           "DPoS"
          ],
          [
           "X11"
          ],
          [
           "X13"
          ],
          [
           "X11"
          ],
          [
           "PoS"
          ],
          [
           "Scrypt"
          ],
          [
           "Scrypt"
          ],
          [
           "PoS"
          ],
          [
           "X11"
          ],
          [
           "SHA-256"
          ],
          [
           "Scrypt"
          ],
          [
           "X11"
          ],
          [
           "Scrypt"
          ],
          [
           "Scrypt"
          ],
          [
           "X11"
          ],
          [
           "Scrypt"
          ],
          [
           "Scrypt"
          ],
          [
           "Scrypt"
          ],
          [
           "Scrypt"
          ],
          [
           "Quark"
          ],
          [
           "QuBit"
          ],
          [
           "Scrypt"
          ],
          [
           "SHA-256"
          ],
          [
           "X11"
          ],
          [
           "Scrypt"
          ],
          [
           "Scrypt"
          ],
          [
           "Scrypt"
          ],
          [
           "Scrypt"
          ],
          [
           "X13"
          ],
          [
           "Scrypt"
          ],
          [
           "Scrypt"
          ],
          [
           "X11"
          ],
          [
           "Blake2S"
          ],
          [
           "X11"
          ],
          [
           "PoS"
          ],
          [
           "X11"
          ],
          [
           "PoS"
          ],
          [
           "X11"
          ],
          [
           "Scrypt"
          ],
          [
           "Scrypt"
          ],
          [
           "Scrypt"
          ],
          [
           "SHA-256"
          ],
          [
           "X11"
          ],
          [
           "Scrypt"
          ],
          [
           "PoS"
          ],
          [
           "Scrypt"
          ],
          [
           "X15"
          ],
          [
           "SHA-256"
          ],
          [
           "POS 3.0"
          ],
          [
           "536"
          ],
          [
           "NIST5"
          ],
          [
           "NIST5"
          ],
          [
           "Skein"
          ],
          [
           "X13"
          ],
          [
           "Scrypt"
          ],
          [
           "X13"
          ],
          [
           "SkunkHash v2 Raptor"
          ],
          [
           "Skein"
          ],
          [
           "X11"
          ],
          [
           "Scrypt"
          ],
          [
           "VeChainThor Authority"
          ],
          [
           "PoS"
          ],
          [
           "Scrypt"
          ],
          [
           "Scrypt"
          ],
          [
           "SHA-512"
          ],
          [
           "Ouroboros"
          ],
          [
           "X11"
          ],
          [
           "NeoScrypt"
          ],
          [
           "Scrypt"
          ],
          [
           "Lyra2REv2"
          ],
          [
           "Scrypt"
          ],
          [
           "SHA-256"
          ],
          [
           "NIST5"
          ],
          [
           "PHI1612"
          ],
          [
           "Scrypt"
          ],
          [
           "Quark"
          ],
          [
           "POS 2.0"
          ],
          [
           "Scrypt"
          ],
          [
           "SHA-256"
          ],
          [
           "X11"
          ],
          [
           "DPoS"
          ],
          [
           "NIST5"
          ],
          [
           "X13"
          ],
          [
           "Scrypt"
          ],
          [
           "NIST5"
          ],
          [
           "Quark"
          ],
          [
           "Scrypt"
          ],
          [
           "Scrypt"
          ],
          [
           "X11"
          ],
          [
           "Quark"
          ],
          [
           "Scrypt"
          ],
          [
           "Scrypt"
          ],
          [
           "X11"
          ],
          [
           "POS 3.0"
          ],
          [
           "Ethash"
          ],
          [
           "Scrypt"
          ],
          [
           "Scrypt"
          ],
          [
           "X13"
          ],
          [
           "Proof-of-BibleHash"
          ],
          [
           "SHA-256 + Hive"
          ],
          [
           "C11"
          ],
          [
           "X11"
          ],
          [
           "XEVAN"
          ],
          [
           "Scrypt"
          ],
          [
           "VBFT"
          ],
          [
           "NIST5"
          ],
          [
           "Scrypt"
          ],
          [
           "Scrypt"
          ],
          [
           "Scrypt"
          ],
          [
           "Green Protocol"
          ],
          [
           "PoS"
          ],
          [
           "Scrypt"
          ],
          [
           "Semux BFT consensus"
          ],
          [
           "Quark"
          ],
          [
           "PoS"
          ],
          [
           "X16R"
          ],
          [
           "Scrypt"
          ],
          [
           "XEVAN"
          ],
          [
           "Scrypt"
          ],
          [
           "Scrypt"
          ],
          [
           "Scrypt"
          ],
          [
           "SHA-256D"
          ],
          [
           "Scrypt"
          ],
          [
           "X15"
          ],
          [
           "Scrypt"
          ],
          [
           "Quark"
          ],
          [
           "SHA-256"
          ],
          [
           "DPoS"
          ],
          [
           "X16R"
          ],
          [
           "Quark"
          ],
          [
           "Quark"
          ],
          [
           "Scrypt"
          ],
          [
           "Lyra2REv2"
          ],
          [
           "Quark"
          ],
          [
           "Scrypt"
          ],
          [
           "X11"
          ],
          [
           "X11"
          ],
          [
           "Scrypt"
          ],
          [
           "PoS"
          ],
          [
           "Keccak"
          ],
          [
           "X11"
          ],
          [
           "Scrypt"
          ],
          [
           "SHA-512"
          ],
          [
           "XEVAN"
          ],
          [
           "XEVAN"
          ],
          [
           "X11"
          ],
          [
           "Quark"
          ],
          [
           "Equihash"
          ],
          [
           "Scrypt"
          ],
          [
           "Quark"
          ],
          [
           "Quark"
          ],
          [
           "Scrypt"
          ],
          [
           "X11"
          ],
          [
           "Scrypt"
          ],
          [
           "XEVAN"
          ],
          [
           "SHA-256D"
          ],
          [
           "X11"
          ],
          [
           "X11"
          ],
          [
           "DPoS"
          ],
          [
           "Scrypt"
          ],
          [
           "X11"
          ],
          [
           "Scrypt"
          ],
          [
           "Scrypt"
          ],
          [
           "SHA-256"
          ],
          [
           "Scrypt"
          ],
          [
           "X11"
          ],
          [
           "Scrypt"
          ],
          [
           "SHA-256"
          ],
          [
           "X11"
          ],
          [
           "Scrypt"
          ],
          [
           "Scrypt"
          ],
          [
           "X11"
          ],
          [
           "Scrypt"
          ],
          [
           "PoS"
          ],
          [
           "X11"
          ],
          [
           "SHA-256"
          ],
          [
           "DPoS"
          ],
          [
           "Scrypt"
          ],
          [
           "Scrypt"
          ],
          [
           "NeoScrypt"
          ],
          [
           "X13"
          ],
          [
           "DPoS"
          ],
          [
           "DPoS"
          ],
          [
           "SHA-256"
          ],
          [
           "PoS"
          ],
          [
           "PoS"
          ],
          [
           "SHA-256"
          ],
          [
           "Scrypt"
          ],
          [
           "Scrypt"
          ]
         ],
         "hovertemplate": "<b>%{hovertext}</b><br><br>Class=%{marker.color}<br>PCA 1=%{x}<br>PCA 2=%{y}<br>PCA 3=%{z}<br>Algorithm=%{customdata[0]}<extra></extra>",
         "hovertext": [
          "42 Coin",
          "404Coin",
          "EliteCoin",
          "Dash",
          "Bitshares",
          "BitcoinDark",
          "PayCoin",
          "KoboCoin",
          "Aurora Coin",
          "BlueCoin",
          "EnergyCoin",
          "BitBar",
          "CryptoBullion",
          "CasinoCoin",
          "Diamond",
          "Exclusive Coin",
          "FlutterCoin",
          "HoboNickels",
          "HyperStake",
          "IOCoin",
          "MaxCoin",
          "MintCoin",
          "MazaCoin",
          "Nautilus Coin",
          "NavCoin",
          "OpalCoin",
          "Orbitcoin",
          "PotCoin",
          "PhoenixCoin",
          "Reddcoin",
          "SuperCoin",
          "SyncCoin",
          "TeslaCoin",
          "TittieCoin",
          "TorCoin",
          "UnitaryStatus Dollar",
          "UltraCoin",
          "VeriCoin",
          "X11 Coin",
          "Crypti",
          "StealthCoin",
          "ZCC Coin",
          "BurstCoin",
          "StorjCoin",
          "Neutron",
          "FairCoin",
          "RubyCoin",
          "Kore",
          "Dnotes",
          "8BIT Coin",
          "Sativa Coin",
          "Ucoin",
          "Vtorrent",
          "IslaCoin",
          "Nexus",
          "Droidz",
          "Squall Coin",
          "Diggits",
          "Paycon",
          "Emercoin",
          "EverGreenCoin",
          "Decred",
          "EDRCoin",
          "Hitcoin",
          "DubaiCoin",
          "PWR Coin",
          "BillaryCoin",
          "GPU Coin",
          "EuropeCoin",
          "ZeitCoin",
          "SwingCoin",
          "SafeExchangeCoin",
          "Nebuchadnezzar",
          "Ratecoin",
          "Revenu",
          "Clockcoin",
          "VIP Tokens",
          "BitSend",
          "Let it Ride",
          "PutinCoin",
          "iBankCoin",
          "Frankywillcoin",
          "MudraCoin",
          "Lutetium Coin",
          "GoldBlocks",
          "CarterCoin",
          "BitTokens",
          "MustangCoin",
          "ZoneCoin",
          "RootCoin",
          "BitCurrency",
          "Swiscoin",
          "BuzzCoin",
          "Opair",
          "PesoBit",
          "Halloween Coin",
          "CoffeeCoin",
          "RoyalCoin",
          "GanjaCoin V2",
          "TeamUP",
          "LanaCoin",
          "ARK",
          "InsaneCoin",
          "EmberCoin",
          "XenixCoin",
          "FreeCoin",
          "PLNCoin",
          "AquariusCoin",
          "Creatio",
          "Eternity",
          "Eurocoin",
          "BitcoinFast",
          "Stakenet",
          "BitConnect Coin",
          "MoneyCoin",
          "Enigma",
          "Russiacoin",
          "PandaCoin",
          "GameUnits",
          "GAKHcoin",
          "Allsafe",
          "LiteCreed",
          "Klingon Empire Darsek",
          "Internet of People",
          "KushCoin",
          "Printerium",
          "Impeach",
          "Zilbercoin",
          "FirstCoin",
          "FindCoin",
          "OpenChat",
          "RenosCoin",
          "VirtacoinPlus",
          "TajCoin",
          "Impact",
          "Atmos",
          "HappyCoin",
          "MacronCoin",
          "Condensate",
          "Independent Money System",
          "ArgusCoin",
          "LomoCoin",
          "ProCurrency",
          "GoldReserve",
          "GrowthCoin",
          "Phreak",
          "Degas Coin",
          "HTML5 Coin",
          "Ultimate Secure Cash",
          "QTUM",
          "Espers",
          "Denarius",
          "Virta Unique Coin",
          "Bitcoin Planet",
          "BritCoin",
          "Linda",
          "DeepOnion",
          "Signatum",
          "Cream",
          "Monoeci",
          "Draftcoin",
          "Vechain",
          "Stakecoin",
          "CoinonatX",
          "Ethereum Dark",
          "Obsidian",
          "Cardano",
          "Regalcoin",
          "TrezarCoin",
          "TerraNovaCoin",
          "Rupee",
          "WomenCoin",
          "Theresa May Coin",
          "NamoCoin",
          "LUXCoin",
          "Xios",
          "Bitcloud 2.0",
          "KekCoin",
          "BlackholeCoin",
          "Infinity Economics",
          "Magnet",
          "Lamden Tau",
          "Electra",
          "Bitcoin Diamond",
          "Cash & Back Coin",
          "Bulwark",
          "Kalkulus",
          "GermanCoin",
          "LiteCoin Ultra",
          "PhantomX",
          "Digiwage",
          "Trollcoin",
          "Litecoin Plus",
          "Monkey Project",
          "TokenPay",
          "1717 Masonic Commemorative Token",
          "My Big Coin",
          "Unified Society USDEX",
          "Tokyo Coin",
          "BiblePay",
          "LitecoinCash",
          "Stipend",
          "Pushi",
          "Ellerium",
          "Velox",
          "Ontology",
          "Bitspace",
          "Briacoin",
          "Ignition",
          "MedicCoin",
          "Bitcoin Green",
          "Deviant Coin",
          "Abjcoin",
          "Semux",
          "Carebit",
          "Zealium",
          "Proton",
          "iDealCash",
          "Bitcoin Incognito",
          "HollyWoodCoin",
          "Swisscoin",
          "Xt3ch",
          "TheVig",
          "EmaratCoin",
          "Dekado",
          "Lynx",
          "Poseidon Quark",
          "BitcoinWSpectrum",
          "Muse",
          "Trivechain",
          "Dystem",
          "Giant",
          "Peony Coin",
          "Absolute Coin",
          "Vitae",
          "TPCash",
          "ARENON",
          "EUNO",
          "MMOCoin",
          "Ketan",
          "XDNA",
          "PAXEX",
          "ThunderStake",
          "Kcash",
          "Bettex coin",
          "BitMoney",
          "Junson Ming Chan Coin",
          "HerbCoin",
          "PirateCash",
          "Oduwa",
          "Galilel",
          "Crypto Sports",
          "Credit",
          "Dash Platinum",
          "Nasdacoin",
          "Beetle Coin",
          "Titan Coin",
          "Award",
          "Insane Coin",
          "ALAX",
          "LiteDoge",
          "TruckCoin",
          "OrangeCoin",
          "BitstarCoin",
          "NeosCoin",
          "HyperCoin",
          "PinkCoin",
          "AudioCoin",
          "IncaKoin",
          "Piggy Coin",
          "Genstake",
          "XiaoMiCoin",
          "CapriCoin",
          " ClubCoin",
          "Radium",
          "Creditbit ",
          "OKCash",
          "Lisk",
          "HiCoin",
          "WhiteCoin",
          "FriendshipCoin",
          "Triangles Coin",
          "EOS",
          "Oxycoin",
          "TigerCash",
          "Particl",
          "Nxt",
          "ZEPHYR",
          "Gapcoin",
          "BitcoinPlus"
         ],
         "legendgroup": "0",
         "marker": {
          "color": [
           0,
           0,
           0,
           0,
           0,
           0,
           0,
           0,
           0,
           0,
           0,
           0,
           0,
           0,
           0,
           0,
           0,
           0,
           0,
           0,
           0,
           0,
           0,
           0,
           0,
           0,
           0,
           0,
           0,
           0,
           0,
           0,
           0,
           0,
           0,
           0,
           0,
           0,
           0,
           0,
           0,
           0,
           0,
           0,
           0,
           0,
           0,
           0,
           0,
           0,
           0,
           0,
           0,
           0,
           0,
           0,
           0,
           0,
           0,
           0,
           0,
           0,
           0,
           0,
           0,
           0,
           0,
           0,
           0,
           0,
           0,
           0,
           0,
           0,
           0,
           0,
           0,
           0,
           0,
           0,
           0,
           0,
           0,
           0,
           0,
           0,
           0,
           0,
           0,
           0,
           0,
           0,
           0,
           0,
           0,
           0,
           0,
           0,
           0,
           0,
           0,
           0,
           0,
           0,
           0,
           0,
           0,
           0,
           0,
           0,
           0,
           0,
           0,
           0,
           0,
           0,
           0,
           0,
           0,
           0,
           0,
           0,
           0,
           0,
           0,
           0,
           0,
           0,
           0,
           0,
           0,
           0,
           0,
           0,
           0,
           0,
           0,
           0,
           0,
           0,
           0,
           0,
           0,
           0,
           0,
           0,
           0,
           0,
           0,
           0,
           0,
           0,
           0,
           0,
           0,
           0,
           0,
           0,
           0,
           0,
           0,
           0,
           0,
           0,
           0,
           0,
           0,
           0,
           0,
           0,
           0,
           0,
           0,
           0,
           0,
           0,
           0,
           0,
           0,
           0,
           0,
           0,
           0,
           0,
           0,
           0,
           0,
           0,
           0,
           0,
           0,
           0,
           0,
           0,
           0,
           0,
           0,
           0,
           0,
           0,
           0,
           0,
           0,
           0,
           0,
           0,
           0,
           0,
           0,
           0,
           0,
           0,
           0,
           0,
           0,
           0,
           0,
           0,
           0,
           0,
           0,
           0,
           0,
           0,
           0,
           0,
           0,
           0,
           0,
           0,
           0,
           0,
           0,
           0,
           0,
           0,
           0,
           0,
           0,
           0,
           0,
           0,
           0,
           0,
           0,
           0,
           0,
           0,
           0,
           0,
           0,
           0,
           0,
           0,
           0,
           0,
           0,
           0,
           0,
           0,
           0,
           0,
           0,
           0,
           0,
           0,
           0,
           0,
           0,
           0,
           0,
           0,
           0,
           0,
           0,
           0,
           0,
           0,
           0,
           0,
           0,
           0,
           0,
           0,
           0,
           0,
           0,
           0,
           0,
           0
          ],
          "coloraxis": "coloraxis",
          "symbol": "circle"
         },
         "mode": "markers",
         "name": "0",
         "scene": "scene",
         "showlegend": true,
         "type": "scatter3d",
         "x": [
          -0.3326585301424917,
          -0.31598885650151043,
          2.3068743115444916,
          -0.38148122568669307,
          -0.20950688323403802,
          -0.30741409402834263,
          -0.2795723454188335,
          -0.2333797991958065,
          -0.33231795806000625,
          -0.32489215697166796,
          -0.33115441419502073,
          -0.33265446463561255,
          -0.3326387387116669,
          0.6873508460294118,
          -0.359556077122073,
          -0.38569278257133166,
          -0.2907852885177616,
          -0.33071646393218207,
          -0.33345390459458696,
          -0.3813758736698959,
          -0.455742505974718,
          -0.0446184361920744,
          -0.2707045282086546,
          -0.3045677657172495,
          -0.27813398985779153,
          -0.2787564831428796,
          -0.34870756987368323,
          -0.32695833845504874,
          -0.33105957897210014,
          0.025646622707974378,
          -0.35334959957292106,
          -0.38174760731651886,
          -0.2601059375798479,
          -0.32095244349003493,
          -0.3816592102734765,
          -0.3078798769699231,
          -0.33133535921773094,
          -0.2645532253319551,
          -0.38162366843192547,
          -0.26057385338715405,
          -0.2785372464185281,
          -0.323757948816105,
          0.0754121828081661,
          -0.374451633279027,
          -0.30662546537304003,
          -0.35897737410985525,
          -0.30454801019111144,
          -0.27883190875082126,
          -0.29919978571202455,
          -0.33264059048566263,
          -0.27878407161706875,
          -0.35379465472013755,
          -0.3323748580974678,
          -0.38172912777232043,
          -0.5267168159752702,
          -0.39408044161351047,
          -0.32428225138759537,
          -0.30294885412012124,
          -0.2783055050783171,
          -0.29996778098555077,
          -0.23582224156000162,
          -0.081254544884137,
          -0.30738499469014746,
          -0.059059651266131184,
          -0.30744871396763623,
          -0.22375662796721843,
          -0.3322506898278505,
          -0.3028178843412137,
          -0.3788971787871161,
          0.8490827137197553,
          -0.30724869644120184,
          -0.043738093819352286,
          -0.3853759190285711,
          -0.3795711665534121,
          -0.30599173457673146,
          -0.3036590159886245,
          -0.34517074754757027,
          -0.3804637941677061,
          -0.375963536916216,
          -0.30853704395282194,
          -0.33228880579014397,
          -0.3307271164975449,
          -0.24968399671695815,
          -0.3412799734398209,
          -0.3812028119995276,
          -0.3314926856441937,
          -0.30742966120340454,
          -0.38171831555124697,
          -0.3324780455465055,
          -0.33263482094928626,
          -0.3028073747510634,
          -0.2846630075114493,
          0.05221415041260168,
          -0.38433254202374445,
          -0.3322488016044251,
          -0.3678749455151894,
          -0.3836608617686961,
          -0.251115179414844,
          -0.3985870530712259,
          -0.38340978588896624,
          -0.2624507348551462,
          3.7358079364608834,
          -0.38131068268914525,
          0.8538993400773813,
          -0.3816732050836052,
          -0.38479649469173194,
          -0.3321763381416047,
          -0.33233073603176855,
          -0.3853759190285711,
          -0.38124793784360556,
          -0.307292271057145,
          -0.33217707220441406,
          -0.33053693221987,
          -0.33232452825686304,
          -0.32791078593435774,
          -0.38170221263158094,
          -0.33153491538546154,
          0.33898492201782676,
          -0.33252388962077084,
          -0.3325944893255941,
          -0.38064913866126004,
          -0.3410025859803707,
          -0.32881972101637236,
          -0.307406064127731,
          -0.38161212468793865,
          -0.33237220577395227,
          -0.33249921761346246,
          -0.3044544987201478,
          -0.28527673170303824,
          -0.25088293208993273,
          -0.3133443863923735,
          -0.30419550327646483,
          -0.3808775697042345,
          -0.40206769271100734,
          -0.37961536807065965,
          -0.38362170658797484,
          -0.3807754082915389,
          -0.37801917123324796,
          -0.3767146941840598,
          -0.33244247797575927,
          -0.33244167044066436,
          -0.32556062628359544,
          0.2533058134529651,
          -0.3812540823951323,
          -0.28708943230503403,
          -0.3854102327743736,
          -0.33165283832478754,
          0.89903611422337,
          -0.2782622310455093,
          -0.3747413557312657,
          0.5887125827816586,
          -0.34670706705402465,
          -0.3452086537273421,
          -0.40677686667287966,
          -0.2784690296568441,
          0.1324814651364901,
          -0.2785398300156558,
          -0.3589781963993602,
          -0.4062815260675274,
          -0.38152657925202654,
          -0.3045287202180306,
          4.417759378965355,
          -0.38527645828447893,
          -0.3320775180297403,
          -0.3325774115465175,
          -0.26759614640147505,
          0.6090598704963511,
          -0.38146738674231356,
          -0.34370468139708493,
          -0.3325330109424306,
          -0.33423277881364255,
          0.4369249912525203,
          -0.3057516098660331,
          -0.3314674164208016,
          -0.38434345110476614,
          -0.33248332904886935,
          -0.40686860380067624,
          -0.38626463018883844,
          -0.3323536667849685,
          -0.10598030310215198,
          -0.3802595338944844,
          3.740666019219468,
          0.21302921959186394,
          -0.27520923562987215,
          -0.3298128547430131,
          -0.31869223802925795,
          -0.3805349922934075,
          0.081961224330815,
          -0.33149185703855344,
          -0.38084090401530113,
          -0.3796993859822212,
          -0.319052229294089,
          -0.3325995530697796,
          -0.3537665717720268,
          -0.3762455788524961,
          -0.2956693581548146,
          -0.3119623299397243,
          -0.3281428613558341,
          -0.24267523806391808,
          -0.07087286772971085,
          -0.31903993428170735,
          -0.36568357789518163,
          -0.38154383801278763,
          -0.2748442267565255,
          -0.30368836050561265,
          -0.3466565840157107,
          -0.3463058594097622,
          -0.33262691989095955,
          -0.3326086232911104,
          -0.2980673657897592,
          -0.37335663731080987,
          -0.3848707407676172,
          -0.33232501418013455,
          3.9290195557573484,
          -0.40553602474661915,
          -0.3850594927965554,
          -0.32472336479015446,
          -0.279172604334206,
          -0.21753129313816363,
          -0.30422279373141914,
          -0.13565425642840198,
          -0.30447497312366373,
          -0.32779288036833115,
          -0.3317988255878419,
          -0.20738744888426097,
          2.2444436797602023,
          -0.37624120255923554,
          -0.2783899788287187,
          1.012731765130316,
          -0.3518378921361829,
          -0.38064857632671056,
          -0.4085534499415877,
          -0.18515805854630804,
          -0.36193930556495535,
          -0.3793675544434215,
          -0.32550069028792855,
          -0.3533437990590249,
          -0.38101694361489313,
          -0.3017192744416681,
          -0.3841589258091171,
          -0.329565430798841,
          -0.35320512978785434,
          -0.1920511171661388,
          -0.1034209438246085,
          -0.2470590487959917,
          0.639943377734968,
          -0.14362363677690593,
          -0.4078477750721604,
          -0.27696721820977194,
          -0.33232898689368867,
          -0.4083040890983711,
          -0.3807656035924302,
          0.5745702719407142,
          -0.3538209110438045,
          -0.3318116934191963,
          -0.26929747030883494,
          -0.2824937001174318,
          -0.3785806040062436,
          -0.3812442768551935,
          3.7529131229785646,
          0.10278705721157659,
          -0.3787828029202697,
          -0.3311969399656899,
          -0.332022264164071,
          -0.2796049926459899,
          -0.33254081504616506,
          -0.37286846485897474,
          -0.24620784198916515,
          -0.0869728080999646,
          -0.36861505236780534,
          -0.33181881298725135,
          -0.32488011564966646,
          -0.3778113902450138,
          -0.33025734104583787,
          -0.38565167117138105,
          -0.3354579607632738,
          -0.3059285110100471,
          3.736199917193394,
          -0.11167317192767552,
          -0.32745089242897363,
          -0.3483332756398226,
          -0.2789391578982812,
          3.746072431857506,
          3.7473171287157174,
          -0.2604934594703385,
          -0.38558750861570523,
          -0.40331805695310147,
          2.4800385156501226,
          -0.33070309009214216,
          -0.30487160832515625
         ],
         "y": [
          0.9411899303693296,
          0.9414058335325625,
          1.6651634760899083,
          1.2621356166383,
          1.5481248938614578,
          0.8330990971368157,
          0.7013660746257874,
          1.8792295358985687,
          0.9411901269035742,
          0.9414675866188615,
          0.9412437041671575,
          0.9411897185504019,
          0.9411899235739573,
          0.2838208876249829,
          0.9228096730910434,
          1.7170672593879157,
          0.16630721071646776,
          0.9411736345156647,
          1.1311331800002893,
          1.2621393830865557,
          2.10045667477187,
          0.8187524927378256,
          0.8326989670943182,
          0.8094474649273525,
          1.7971789981661745,
          1.7971567433596625,
          0.5428572232182033,
          0.9410936744412176,
          0.9411770843712305,
          0.9539997261674354,
          1.1304218874405552,
          1.2621418090816665,
          0.1835484082868713,
          1.7014315630323904,
          1.2621378261818899,
          0.9409327693708774,
          0.9411657961491622,
          0.07668756374611825,
          1.2621423115977894,
          0.18360311883017766,
          1.7971645813090789,
          0.940793745401824,
          0.6214875392162054,
          1.7266310847897195,
          0.8330944295044639,
          0.9228334913779322,
          0.8094597300451091,
          1.7971454741282196,
          0.8092937396489976,
          0.9411905717614213,
          1.7971486131381242,
          1.130391688431255,
          0.9411857841733374,
          1.2621424704596989,
          2.4792012966640424,
          1.8780742493936686,
          0.7774855199095223,
          0.8094454625616571,
          1.7971371467928918,
          0.8326666370676526,
          1.8793734655445538,
          0.9078593381285147,
          0.8331001374695498,
          1.2547111877051864,
          0.8331060749260322,
          1.5032738958085572,
          0.9411745067345249,
          0.8093636660365039,
          1.2619693897843622,
          0.7799786251666342,
          0.8330921512521133,
          0.2847251429235626,
          1.7170642997937686,
          1.262166040622701,
          0.8330065520122357,
          0.8328740068656015,
          1.4988689149128303,
          1.2620884072380256,
          1.6960388796921226,
          0.9406235187893707,
          0.9411714771370984,
          0.9411875414826052,
          1.6653180562682623,
          1.1303840351148777,
          1.262125567297275,
          0.9411673154635084,
          0.8330992549838949,
          1.2621407138371197,
          0.9411813807203299,
          0.9411907780285715,
          0.8095219596399569,
          0.16152417928913365,
          1.8854337011903677,
          1.717063024566688,
          0.9412045786366027,
          1.2615661868484866,
          1.7171113272063026,
          1.665407981954703,
          1.9224178529940386,
          1.7169338474772455,
          1.8831096855047347,
          1.7581027544420706,
          1.26213599861139,
          1.8370431791685566,
          1.2621417169765625,
          1.7170635831274492,
          0.9411796366782442,
          0.9411716449963777,
          1.7170642997937686,
          1.262116810095843,
          0.8331048812202279,
          0.9411835681574245,
          0.8804801981259949,
          0.9411818683963793,
          0.9408948422500332,
          1.2621398607531058,
          0.9411272286240587,
          0.8092383827293739,
          0.9411854568682738,
          0.9411898511598588,
          1.5726072272332279,
          0.6215624130489339,
          0.9409699767759393,
          0.8331000986048078,
          1.2621399710385572,
          0.9411858789967644,
          0.9411799570319758,
          0.8094237817100572,
          0.060169211339163524,
          1.665407694697463,
          0.9411660414930336,
          0.8094477386421206,
          1.2621014755411044,
          1.9249074239727348,
          1.2621394567073947,
          1.7170625124519903,
          1.2621051279218234,
          1.7170558431189535,
          1.2619645466791334,
          0.941182500762153,
          0.9411772518027013,
          0.9407292977375622,
          0.666846694908109,
          1.262130878229142,
          0.8086551122750829,
          1.7170559291365148,
          0.9411508739766649,
          1.8556695287314682,
          0.7012789042796986,
          1.696035067027604,
          1.9021881231957005,
          1.4988711410636104,
          1.4988461280145422,
          1.8551900341662921,
          1.7971455884204373,
          0.9220996679305226,
          1.7971509882592165,
          1.649337410450431,
          1.8552077431273266,
          1.2621429198848526,
          0.8094479850811924,
          2.8599739194853266,
          1.717038137007775,
          0.9411762314444623,
          0.9411898300370508,
          1.5485550655873361,
          1.6596907054867422,
          1.262132539443578,
          0.5427530189774048,
          0.9411831781043775,
          0.7681713452185519,
          0.9508436119905057,
          0.8331028102893578,
          1.4985658504600328,
          1.8335006823468625,
          0.9411811918294203,
          1.7042728726164147,
          1.66383690632879,
          0.9411902649911282,
          0.7011515938562658,
          1.2620921378112457,
          1.7580085397484433,
          1.4974577496137322,
          1.797133539304895,
          0.9411416443846261,
          1.36712486342907,
          1.5726077361371131,
          0.9202935148184961,
          0.9411244816641204,
          1.2621385058981511,
          1.5725661709260002,
          0.9410334189896745,
          0.9411891813317833,
          1.1303919780365645,
          1.6960348687068711,
          -0.01583291937948739,
          0.18340496505996678,
          0.9411856318614632,
          1.6651399927220967,
          2.0539470047303814,
          2.415198116214173,
          0.9151526589931231,
          1.262131235008944,
          1.2512719493179654,
          0.8094018790413934,
          1.6393439920010002,
          1.4988569090544426,
          0.9411889173287837,
          0.9411881426712032,
          0.809334224882918,
          1.734538840634061,
          1.7170337819156118,
          0.9411804222433333,
          1.7773489026036513,
          1.7043205137552357,
          1.717032748950003,
          0.795176664986579,
          0.9394430372598979,
          0.7666380713942964,
          0.8094527827344616,
          0.9409462638218576,
          0.8094309080222477,
          1.8860644084797364,
          0.9411606569725405,
          1.7476093501939332,
          0.04710100310043903,
          1.5723111778116163,
          0.7013456490317923,
          1.6715806012633534,
          0.9269156502467556,
          1.5726029609950012,
          1.7043518358007852,
          0.8016691399669917,
          0.8998956286396311,
          1.5725923220691498,
          0.9407314405140685,
          1.1303828033441625,
          1.2621322122925474,
          0.8093751189005239,
          1.7169720744416808,
          0.917971753938191,
          1.1303556133530086,
          0.9333577702259587,
          1.4865503902002029,
          1.1195372615403973,
          0.48254600402406816,
          1.1379198168711324,
          1.7043421671828958,
          0.01550943231919649,
          0.9411867097279781,
          1.7043508314102074,
          1.5726042279426145,
          0.9201879382373346,
          1.1303909640564722,
          0.9411601969336874,
          1.2511559200768492,
          1.88418339017133,
          1.2619549896205515,
          1.2621383726915953,
          1.758089191729375,
          0.9317539165451201,
          1.262247804751771,
          0.9410993057485321,
          0.9411739175449025,
          0.7013588351339463,
          0.9411941388410252,
          1.262102053526969,
          0.9367795367538346,
          0.8408600933452729,
          1.2618969224211636,
          0.9412092353378223,
          0.9411822609562231,
          1.262133940603406,
          0.941161473038882,
          1.7170622996513758,
          0.8900788085913993,
          0.8330929139307004,
          1.758091822807019,
          0.8092049976790531,
          0.9411617919511304,
          0.5428303143485039,
          1.7971501268132342,
          1.7585590200240189,
          1.7586035192795277,
          0.701342704879049,
          1.7170648548988268,
          1.9698000982945292,
          0.7878509128225147,
          0.9410812418951846,
          0.8094474466723246
         ],
         "z": [
          -0.5812781971701988,
          -0.5815891518240545,
          -0.620789705813622,
          -0.5116636494805176,
          -0.17924296647749216,
          -0.38746330832647724,
          -0.07542670405047434,
          -0.6682656039656923,
          -0.5812835903975776,
          -0.5814633942012826,
          -0.5813140643432737,
          -0.5812782127786251,
          -0.5812785064346562,
          -0.4228903078851088,
          -0.5506969934954326,
          -0.03470145642878827,
          -0.3114023859534156,
          -0.5813049850224021,
          -0.20011042421218114,
          -0.5116661617059266,
          -0.49602586384683667,
          -0.2754447401003602,
          -0.3879486868281384,
          -0.2692433530798373,
          -0.6102578454148355,
          -0.6102430014327763,
          -0.33941110404933195,
          -0.5813457946061634,
          -0.5813003822566479,
          -0.5898223459864257,
          -0.19963599124014936,
          -0.5116608763378581,
          0.15235518974240655,
          -0.2624144896769958,
          -0.5116613575267975,
          -0.5816087667212739,
          -0.5812934806195967,
          -0.4039799899108065,
          -0.5116629371587575,
          0.15235007876156942,
          -0.6102482293542352,
          -0.5813277514762749,
          -0.46255895002803005,
          -0.2229819024464301,
          -0.3874746302774662,
          -0.5507115058322475,
          -0.2692464564794256,
          -0.6102392505640699,
          -0.2692926457691812,
          -0.5812786249662977,
          -0.610240716667045,
          -0.19962212466865795,
          -0.5812817078425774,
          -0.5116613171639712,
          -0.11526993594436913,
          -0.832713361447281,
          -0.04324788797376455,
          -0.26926832106697,
          -0.6102456210076194,
          -0.3874817632868938,
          -0.6682600242328608,
          -0.326877523318452,
          -0.38746400222963173,
          -0.5150363025277855,
          -0.387464353703262,
          -0.5693117066922946,
          -0.5812810896011203,
          -0.26925175023421977,
          -0.5116663752508939,
          -0.2806497305221574,
          -0.38746432399606495,
          -0.4116149431119852,
          -0.034705758579169216,
          -0.5117005742521653,
          -0.3874645701636459,
          -0.38747101936065903,
          -0.566401822179852,
          -0.5116688765435651,
          -0.2598381787797896,
          -0.5815280202835078,
          -0.5812798010796781,
          -0.5813079847825212,
          -0.2982016619856659,
          -0.1998169169679792,
          -0.5116657332426738,
          -0.5812913559024737,
          -0.387463099800507,
          -0.5116610869251222,
          -0.5812790845444115,
          -0.5812787625467288,
          -0.26928796369221414,
          -0.17523122618368156,
          -0.8531525654499034,
          -0.034721853749713955,
          -0.5812879675684807,
          -0.51174765055528,
          -0.03474340208965699,
          -0.29819966505685436,
          -0.7717274069333224,
          -0.034706927385221666,
          -0.8476817001526236,
          -0.19818256822136113,
          -0.51166641473828,
          -0.6371140395572097,
          -0.511662023802918,
          -0.03471469486661847,
          -0.5812834254964564,
          -0.5812791808184183,
          -0.034705758579169216,
          -0.5116630302806173,
          -0.3874665386965859,
          -0.5812843092894108,
          -0.19769006028938002,
          -0.5812816064960112,
          -0.5812855566998394,
          -0.511661145537399,
          -0.5812815636820242,
          -0.27930232875285543,
          -0.5812792928586135,
          -0.5812791848524781,
          -0.18080317984804126,
          -0.23840345888883008,
          -0.5812883929308655,
          -0.38746366249664593,
          -0.5116625854273502,
          -0.5812817710899146,
          -0.5812784278319847,
          -0.26923973845642374,
          -0.3076879302194367,
          -0.29820324693756334,
          -0.5815760734059945,
          -0.26924926156078427,
          -0.5116653545209119,
          -0.7046590299552609,
          -0.5116938261049728,
          -0.03473290034864014,
          -0.5116677906631376,
          -0.03481936582699285,
          -0.5116995468722926,
          -0.5812798981793464,
          -0.581278715508705,
          -0.5812847648085837,
          -0.07593407645622746,
          -0.5116661375388865,
          -0.26933739579760785,
          -0.034703313442533176,
          -0.5812850965638175,
          -0.6806841321576146,
          -0.07542742715468638,
          -0.2598565041035551,
          -0.9074462242362765,
          -0.5663782022124351,
          -0.5663960375966788,
          -0.6044167821801243,
          -0.6102449753799479,
          -0.5842354775831137,
          -0.6102450932172593,
          -0.23127580493302677,
          -0.6044285940779153,
          -0.5116646004092864,
          -0.26924408472016836,
          5.509333280238376,
          -0.03470136246177836,
          -0.5812842019257775,
          -0.5812794482379334,
          -0.17842867470667517,
          -0.14437571691298265,
          -0.5116631660388171,
          -0.3394659406971424,
          -0.5812786306680798,
          -0.07430391545623305,
          -0.5955624680642011,
          -0.38749026219586513,
          -0.566548007109017,
          -0.5739693549660096,
          -0.5812789585539532,
          -0.49284991718334875,
          -0.09735205984829183,
          -0.5812830610613702,
          -0.07810401391602105,
          -0.5116729338910685,
          -0.19823740571921408,
          -0.5748466350801198,
          -0.6102934244340914,
          -0.5813118904816343,
          -0.25434129744871214,
          -0.18080508833831713,
          -0.5830307713379033,
          -0.5812816143174672,
          -0.5116743633046418,
          -0.1808087453094786,
          -0.5814562330248741,
          -0.5812789527887274,
          -0.19962263164589675,
          -0.2598328360615823,
          0.15000652046423069,
          -0.35855413654097457,
          -0.5813481340037681,
          -0.2982711794859172,
          5.982223039186769,
          2.5693689084865494,
          -0.5010554687684831,
          -0.5116616683590708,
          -0.37511796265199954,
          -0.2692467822515898,
          -0.1383259237199413,
          -0.5663812618519188,
          -0.5812784628882594,
          -0.5812785738110591,
          -0.26931964946771475,
          -0.23414751062866548,
          -0.03470674220933664,
          -0.5812812695305475,
          -0.14152633272503448,
          -0.4928816938788486,
          -0.03470354273880271,
          -0.033011174186074604,
          -0.5817203377221221,
          0.09329231566539387,
          -0.269249981679166,
          -0.5843165348903896,
          -0.2692410398032848,
          -0.8473284258178402,
          -0.5812850318202396,
          -0.35622565252751204,
          -0.45733469869219034,
          -0.1808049839864283,
          -0.07544062082668397,
          -0.16431330167444133,
          -0.34506055691942267,
          -0.18080221712308253,
          -0.4928414401246076,
          -0.2693472392137554,
          -0.3863406531419771,
          -0.1808199119494974,
          -0.5812861940430283,
          -0.1996271816606533,
          -0.5116701654623186,
          -0.2692716113876469,
          -0.03470386809102656,
          -0.511974135197149,
          -0.19962316736173377,
          -0.5817027199854407,
          -0.24718958827848642,
          -0.06308009073618123,
          0.11148694795184907,
          -0.20463711896903233,
          -0.49285032045751315,
          0.06403283287890692,
          -0.5812826389987664,
          -0.4928451274486369,
          -0.18080066780712573,
          -0.5907428435403085,
          -0.19962154736678048,
          -0.5812847249737847,
          -0.3751786474813156,
          -0.847611454170528,
          -0.5116680674904035,
          -0.5116679982525626,
          -0.19844810576388888,
          -0.5859677203756813,
          -0.5117315752603913,
          -0.581280512460101,
          -0.5812845427055848,
          -0.07542454268725972,
          -0.5812810042125794,
          -0.5117912641011606,
          -0.5816314660936871,
          -0.39269262201136995,
          -0.5118113464916192,
          -0.581295780746021,
          -0.5813986057124767,
          -0.5117209002525737,
          -0.5813094257094166,
          -0.03470097257011335,
          -0.3296384081373557,
          -0.387485230363815,
          -0.1981862345565573,
          -0.27221742397932586,
          -0.5813535718463101,
          -0.33941085411243027,
          -0.6102386258457635,
          -0.19844767163025354,
          -0.19847735268589695,
          -0.07572100393250462,
          -0.03470256211257787,
          0.3110283044153787,
          -0.10986122713334641,
          -0.5812841543565955,
          -0.2692385772655215
         ]
        },
        {
         "customdata": [
          [
           "SHA-256"
          ],
          [
           "Ethash"
          ],
          [
           "Scrypt"
          ],
          [
           "CryptoNight-V7"
          ],
          [
           "Ethash"
          ],
          [
           "Equihash"
          ],
          [
           "Multiple"
          ],
          [
           "Scrypt"
          ],
          [
           "X11"
          ],
          [
           "Scrypt"
          ],
          [
           "Multiple"
          ],
          [
           "Scrypt"
          ],
          [
           "SHA-256"
          ],
          [
           "Scrypt"
          ],
          [
           "Scrypt"
          ],
          [
           "Quark"
          ],
          [
           "Groestl"
          ],
          [
           "Scrypt"
          ],
          [
           "Scrypt"
          ],
          [
           "Scrypt"
          ],
          [
           "X11"
          ],
          [
           "Multiple"
          ],
          [
           "SHA-256"
          ],
          [
           "Scrypt"
          ],
          [
           "Scrypt"
          ],
          [
           "Scrypt"
          ],
          [
           "Scrypt"
          ],
          [
           "Scrypt"
          ],
          [
           "NeoScrypt"
          ],
          [
           "Scrypt"
          ],
          [
           "Scrypt"
          ],
          [
           "Scrypt"
          ],
          [
           "Scrypt"
          ],
          [
           "SHA-256"
          ],
          [
           "Scrypt"
          ],
          [
           "Scrypt"
          ],
          [
           "Scrypt"
          ],
          [
           "Scrypt"
          ],
          [
           "HybridScryptHash256"
          ],
          [
           "Scrypt"
          ],
          [
           "Scrypt"
          ],
          [
           "SHA-256"
          ],
          [
           "Scrypt"
          ],
          [
           "Scrypt"
          ],
          [
           "Scrypt"
          ],
          [
           "Scrypt"
          ],
          [
           "SHA-256"
          ],
          [
           "SHA-256"
          ],
          [
           "SHA-256"
          ],
          [
           "SHA-256"
          ],
          [
           "SHA-256"
          ],
          [
           "X11"
          ],
          [
           "Scrypt"
          ],
          [
           "Lyra2REv2"
          ],
          [
           "Scrypt"
          ],
          [
           "SHA-256"
          ],
          [
           "CryptoNight"
          ],
          [
           "CryptoNight"
          ],
          [
           "Scrypt"
          ],
          [
           "Scrypt"
          ],
          [
           "Scrypt"
          ],
          [
           "Scrypt"
          ],
          [
           "Scrypt"
          ],
          [
           "Scrypt"
          ],
          [
           "Stanford Folding"
          ],
          [
           "Multiple"
          ],
          [
           "QuBit"
          ],
          [
           "Scrypt"
          ],
          [
           "Scrypt"
          ],
          [
           "M7 POW"
          ],
          [
           "Scrypt"
          ],
          [
           "SHA-256"
          ],
          [
           "Scrypt"
          ],
          [
           "X11"
          ],
          [
           "Lyra2RE"
          ],
          [
           "SHA-256"
          ],
          [
           "X11"
          ],
          [
           "Scrypt"
          ],
          [
           "Scrypt"
          ],
          [
           "Ethash"
          ],
          [
           "Blake2b"
          ],
          [
           "X11"
          ],
          [
           "SHA-256"
          ],
          [
           "Scrypt"
          ],
          [
           "1GB AES Pattern Search"
          ],
          [
           "Scrypt"
          ],
          [
           "SHA-256"
          ],
          [
           "X11"
          ],
          [
           "Dagger"
          ],
          [
           "Scrypt"
          ],
          [
           "X11GOST"
          ],
          [
           "Scrypt"
          ],
          [
           "X11"
          ],
          [
           "Scrypt"
          ],
          [
           "X11"
          ],
          [
           "Equihash"
          ],
          [
           "CryptoNight"
          ],
          [
           "SHA-256"
          ],
          [
           "Multiple"
          ],
          [
           "Scrypt"
          ],
          [
           "SHA-256"
          ],
          [
           "Scrypt"
          ],
          [
           "Lyra2Z"
          ],
          [
           "Ethash"
          ],
          [
           "Equihash"
          ],
          [
           "Scrypt"
          ],
          [
           "X11"
          ],
          [
           "X11"
          ],
          [
           "CryptoNight"
          ],
          [
           "Scrypt"
          ],
          [
           "CryptoNight"
          ],
          [
           "Lyra2RE"
          ],
          [
           "X11"
          ],
          [
           "CryptoNight-V7"
          ],
          [
           "Scrypt"
          ],
          [
           "X11"
          ],
          [
           "Equihash"
          ],
          [
           "Scrypt"
          ],
          [
           "Lyra2RE"
          ],
          [
           "Dagger-Hashimoto"
          ],
          [
           "Scrypt"
          ],
          [
           "NIST5"
          ],
          [
           "Scrypt"
          ],
          [
           "SHA-256"
          ],
          [
           "Scrypt"
          ],
          [
           "CryptoNight-V7"
          ],
          [
           "Argon2d"
          ],
          [
           "Blake2b"
          ],
          [
           "Cloverhash"
          ],
          [
           "CryptoNight"
          ],
          [
           "X11"
          ],
          [
           "Scrypt"
          ],
          [
           "Scrypt"
          ],
          [
           "X11"
          ],
          [
           "X11"
          ],
          [
           "CryptoNight"
          ],
          [
           "Time Travel"
          ],
          [
           "Scrypt"
          ],
          [
           "Keccak"
          ],
          [
           "X11"
          ],
          [
           "SHA-256"
          ],
          [
           "Scrypt"
          ],
          [
           "Scrypt"
          ],
          [
           "Scrypt"
          ],
          [
           "Scrypt"
          ],
          [
           "Scrypt"
          ],
          [
           "Scrypt"
          ],
          [
           "CryptoNight"
          ],
          [
           "Equihash"
          ],
          [
           "X11"
          ],
          [
           "NeoScrypt"
          ],
          [
           "Equihash"
          ],
          [
           "Dagger"
          ],
          [
           "Scrypt"
          ],
          [
           "X11"
          ],
          [
           "NeoScrypt"
          ],
          [
           "Ethash"
          ],
          [
           "NeoScrypt"
          ],
          [
           "Multiple"
          ],
          [
           "CryptoNight"
          ],
          [
           "CryptoNight"
          ],
          [
           "Ethash"
          ],
          [
           "X11"
          ],
          [
           "CryptoNight-V7"
          ],
          [
           "Scrypt"
          ],
          [
           "BLAKE256"
          ],
          [
           "X11"
          ],
          [
           "NeoScrypt"
          ],
          [
           "NeoScrypt"
          ],
          [
           "Scrypt"
          ],
          [
           "X11"
          ],
          [
           "SHA-256"
          ],
          [
           "C11"
          ],
          [
           "CryptoNight"
          ],
          [
           "SkunkHash"
          ],
          [
           "CryptoNight"
          ],
          [
           "Scrypt"
          ],
          [
           "Dagger"
          ],
          [
           "Lyra2REv2"
          ],
          [
           "Scrypt"
          ],
          [
           "Scrypt"
          ],
          [
           "X11"
          ],
          [
           "Ethash"
          ],
          [
           "CryptoNight"
          ],
          [
           "Scrypt"
          ],
          [
           "IMesh"
          ],
          [
           "Equihash"
          ],
          [
           "Lyra2Z"
          ],
          [
           "X11"
          ],
          [
           "CryptoNight"
          ],
          [
           "NIST5"
          ],
          [
           "Lyra2RE"
          ],
          [
           "Tribus"
          ],
          [
           "Lyra2Z"
          ],
          [
           "CryptoNight"
          ],
          [
           "CryptoNight Heavy"
          ],
          [
           "CryptoNight"
          ],
          [
           "Jump Consistent Hash"
          ],
          [
           "CryptoNight"
          ],
          [
           "X16R"
          ],
          [
           "HMQ1725"
          ],
          [
           "X11"
          ],
          [
           "Scrypt"
          ],
          [
           "CryptoNight-V7"
          ],
          [
           "Cryptonight-GPU"
          ],
          [
           "XEVAN"
          ],
          [
           "CryptoNight Heavy"
          ],
          [
           "SHA-256"
          ],
          [
           "X11"
          ],
          [
           "X16R"
          ],
          [
           "Equihash"
          ],
          [
           "Lyra2Z"
          ],
          [
           "SHA-256"
          ],
          [
           "CryptoNight"
          ],
          [
           "Blake"
          ],
          [
           "Blake"
          ],
          [
           "Exosis"
          ],
          [
           "Scrypt"
          ],
          [
           "Equihash"
          ],
          [
           "Equihash"
          ],
          [
           "QuBit"
          ],
          [
           "SHA-256"
          ],
          [
           "X13"
          ],
          [
           "SHA-256"
          ],
          [
           "Scrypt"
          ],
          [
           "NeoScrypt"
          ],
          [
           "Blake"
          ],
          [
           "Scrypt"
          ],
          [
           "SHA-256"
          ],
          [
           "Scrypt"
          ],
          [
           "Groestl"
          ],
          [
           "Scrypt"
          ],
          [
           "Scrypt"
          ],
          [
           "Multiple"
          ],
          [
           "Equihash+Scrypt"
          ],
          [
           "Ethash"
          ],
          [
           "CryptoNight"
          ],
          [
           "Equihash"
          ]
         ],
         "hovertemplate": "<b>%{hovertext}</b><br><br>Class=%{marker.color}<br>PCA 1=%{x}<br>PCA 2=%{y}<br>PCA 3=%{z}<br>Algorithm=%{customdata[0]}<extra></extra>",
         "hovertext": [
          "Bitcoin",
          "Ethereum",
          "Litecoin",
          "Monero",
          "Ethereum Classic",
          "ZCash",
          "DigiByte",
          "ProsperCoin",
          "Spreadcoin",
          "Argentum",
          "MyriadCoin",
          "MoonCoin",
          "ZetaCoin",
          "SexCoin",
          "Quatloo",
          "QuarkCoin",
          "Riecoin",
          "Digitalcoin ",
          "Catcoin",
          "CannaCoin",
          "CryptCoin",
          "Verge",
          "DevCoin",
          "EarthCoin",
          "E-Gulden",
          "Einsteinium",
          "Emerald",
          "Franko",
          "FeatherCoin",
          "GrandCoin",
          "GlobalCoin",
          "GoldCoin",
          "Infinite Coin",
          "IXcoin",
          "KrugerCoin",
          "LuckyCoin",
          "Litebar ",
          "MegaCoin",
          "MediterraneanCoin",
          "MinCoin",
          "NobleCoin",
          "Namecoin",
          "NyanCoin",
          "RonPaulCoin",
          "StableCoin",
          "SmartCoin",
          "SysCoin",
          "TigerCoin",
          "TerraCoin",
          "UnbreakableCoin",
          "Unobtanium",
          "UroCoin",
          "ViaCoin",
          "Vertcoin",
          "WorldCoin",
          "JouleCoin",
          "ByteCoin",
          "DigitalNote ",
          "MonaCoin",
          "Gulden",
          "PesetaCoin",
          "Wild Beast Coin",
          "Flo",
          "ArtByte",
          "Folding Coin",
          "Unitus",
          "CypherPunkCoin",
          "OmniCron",
          "GreenCoin",
          "Cryptonite",
          "MasterCoin",
          "SoonCoin",
          "1Credit",
          "MarsCoin ",
          "Crypto",
          "Anarchists Prime",
          "BowsCoin",
          "Song Coin",
          "BitZeny",
          "Expanse",
          "Siacoin",
          "MindCoin",
          "I0coin",
          "Revolution VR",
          "HOdlcoin",
          "Gamecredits",
          "CarpeDiemCoin",
          "Adzcoin",
          "SoilCoin",
          "YoCoin",
          "SibCoin",
          "Francs",
          "BolivarCoin",
          "Omni",
          "PizzaCoin",
          "Komodo",
          "Karbo",
          "ZayedCoin",
          "Circuits of Value",
          "DopeCoin",
          "DollarCoin",
          "Shilling",
          "ZCoin",
          "Elementrem",
          "ZClassic",
          "KiloCoin",
          "ArtexCoin",
          "Kurrent",
          "Cannabis Industry Coin",
          "OsmiumCoin",
          "Bikercoins",
          "HexxCoin",
          "PacCoin",
          "Citadel",
          "BeaverCoin",
          "VaultCoin",
          "Zero",
          "Canada eCoin",
          "Zoin",
          "DubaiCoin",
          "EB3coin",
          "Coinonat",
          "BenjiRolls",
          "ILCoin",
          "EquiTrader",
          "Quantum Resistant Ledger",
          "Dynamic",
          "Nano",
          "ChanCoin",
          "Dinastycoin",
          "DigitalPrice",
          "Unify",
          "SocialCoin",
          "ArcticCoin",
          "DAS",
          "LeviarCoin",
          "Bitcore",
          "gCn Coin",
          "SmartCash",
          "Onix",
          "Bitcoin Cash",
          "Sojourn Coin",
          "NewYorkCoin",
          "FrazCoin",
          "Kronecoin",
          "AdCoin",
          "Linx",
          "Sumokoin",
          "BitcoinZ",
          "Elements",
          "VIVO Coin",
          "Bitcoin Gold",
          "Pirl",
          "eBoost",
          "Pura",
          "Innova",
          "Ellaism",
          "GoByte",
          "SHIELD",
          "UltraNote",
          "BitCoal",
          "DaxxCoin",
          "AC3",
          "Lethean",
          "PopularCoin",
          "Photon",
          "Sucre",
          "SparksPay",
          "GunCoin",
          "IrishCoin",
          "Pioneer Coin",
          "UnitedBitcoin",
          "Interzone",
          "TurtleCoin",
          "MUNcoin",
          "Niobio Cash",
          "ShareChain",
          "Travelflex",
          "KREDS",
          "BitFlip",
          "LottoCoin",
          "Crypto Improvement Fund",
          "Callisto Network",
          "BitTube",
          "Poseidon",
          "Aidos Kuneen",
          "Bitrolium",
          "Alpenschillling",
          "FuturoCoin",
          "Monero Classic",
          "Jumpcoin",
          "Infinex",
          "KEYCO",
          "GINcoin",
          "PlatinCoin",
          "Loki",
          "Newton Coin",
          "MassGrid",
          "PluraCoin",
          "Motion",
          "PlusOneCoin",
          "Axe",
          "HexCoin",
          "Webchain",
          "Ryo",
          "Urals Coin",
          "Qwertycoin",
          "Project Pai",
          "Azart",
          "Xchange",
          "CrypticCoin",
          "Actinium",
          "Bitcoin SV",
          "FREDEnergy",
          "Universal Molecule",
          "Lithium",
          "Exosis",
          "Block-Logic",
          "Beam",
          "Bithereum",
          "SLICE",
          "BLAST",
          "Bitcoin Rhodium",
          "GlobalToken",
          "SolarCoin",
          "UFO Coin",
          "BlakeCoin",
          "Crypto Escudo",
          "Crown Coin",
          "SmileyCoin",
          "Groestlcoin",
          "Bata",
          "Pakcoin",
          "JoinCoin",
          "Vollar",
          "Reality Clash",
          "Beldex",
          "Horizen"
         ],
         "legendgroup": "3",
         "marker": {
          "color": [
           3,
           3,
           3,
           3,
           3,
           3,
           3,
           3,
           3,
           3,
           3,
           3,
           3,
           3,
           3,
           3,
           3,
           3,
           3,
           3,
           3,
           3,
           3,
           3,
           3,
           3,
           3,
           3,
           3,
           3,
           3,
           3,
           3,
           3,
           3,
           3,
           3,
           3,
           3,
           3,
           3,
           3,
           3,
           3,
           3,
           3,
           3,
           3,
           3,
           3,
           3,
           3,
           3,
           3,
           3,
           3,
           3,
           3,
           3,
           3,
           3,
           3,
           3,
           3,
           3,
           3,
           3,
           3,
           3,
           3,
           3,
           3,
           3,
           3,
           3,
           3,
           3,
           3,
           3,
           3,
           3,
           3,
           3,
           3,
           3,
           3,
           3,
           3,
           3,
           3,
           3,
           3,
           3,
           3,
           3,
           3,
           3,
           3,
           3,
           3,
           3,
           3,
           3,
           3,
           3,
           3,
           3,
           3,
           3,
           3,
           3,
           3,
           3,
           3,
           3,
           3,
           3,
           3,
           3,
           3,
           3,
           3,
           3,
           3,
           3,
           3,
           3,
           3,
           3,
           3,
           3,
           3,
           3,
           3,
           3,
           3,
           3,
           3,
           3,
           3,
           3,
           3,
           3,
           3,
           3,
           3,
           3,
           3,
           3,
           3,
           3,
           3,
           3,
           3,
           3,
           3,
           3,
           3,
           3,
           3,
           3,
           3,
           3,
           3,
           3,
           3,
           3,
           3,
           3,
           3,
           3,
           3,
           3,
           3,
           3,
           3,
           3,
           3,
           3,
           3,
           3,
           3,
           3,
           3,
           3,
           3,
           3,
           3,
           3,
           3,
           3,
           3,
           3,
           3,
           3,
           3,
           3,
           3,
           3,
           3,
           3,
           3,
           3,
           3,
           3,
           3,
           3,
           3,
           3,
           3,
           3,
           3,
           3,
           3,
           3,
           3,
           3,
           3,
           3,
           3,
           3,
           3,
           3,
           3,
           3,
           3,
           3,
           3,
           3,
           3,
           3,
           3,
           3,
           3,
           3,
           3,
           3,
           3
          ],
          "coloraxis": "coloraxis",
          "symbol": "diamond"
         },
         "mode": "markers",
         "name": "3",
         "scene": "scene",
         "showlegend": true,
         "type": "scatter3d",
         "x": [
          -0.14410956016668516,
          -0.15905445072896965,
          -0.16818406618502812,
          -0.1486504548126494,
          -0.15749580638225097,
          -0.14230739400798156,
          0.16187239355236818,
          -0.16933083462789736,
          -0.21836125060839845,
          -0.16894720630053653,
          -0.0916480613962091,
          2.5536984383800467,
          -0.14119314700548558,
          -0.16620135465528754,
          -0.168751155700679,
          -0.24062999171481714,
          -0.19531795057841317,
          -0.16879992933144422,
          -0.16931309209296178,
          -0.1693995859677986,
          -0.2184506352389249,
          0.18563487295010286,
          0.2339107405711489,
          0.07944519321992054,
          -0.1691457617248353,
          -0.1647490692401368,
          -0.16908503064238178,
          -0.1694566156621233,
          -0.18073213355977436,
          -0.14866949864308934,
          -0.16825116401144255,
          -0.1685287463950737,
          1.5802593245554681,
          -0.14407091096593252,
          -0.16581690875431682,
          -0.16917221567387064,
          -0.16952719299707703,
          -0.16878610213657919,
          -0.14846961738071385,
          -0.1694084056364154,
          -0.03425446914669689,
          -0.14414855893890735,
          -0.16306939655881067,
          -0.1693878415381382,
          -0.16748134977533988,
          -0.16887434913386357,
          -0.13129479045689646,
          -0.1436120788338018,
          -0.1438994202680151,
          -0.14388241222790668,
          -0.1444733714937301,
          -0.21862460627484281,
          -0.16910419501920457,
          -0.19814514043660514,
          -0.1662060770754847,
          -0.14367940526249398,
          3.8602409907241233,
          0.45763926644791264,
          -0.16797127601185935,
          -0.15256337958900235,
          -0.16668950039865674,
          -0.16952940388699994,
          -0.16655447211894214,
          -0.15277180260363787,
          -0.14011986502586954,
          -0.12567024688258313,
          -0.17874505801090995,
          -0.16940242059234503,
          -0.04228312780541793,
          -0.12447150249122395,
          -0.16953829991352012,
          -0.1441763498763161,
          0.4828958150673176,
          -0.2180115098568033,
          -0.15487234168445788,
          -0.14391609978263217,
          -0.21829654138693283,
          -0.16766126140767706,
          -0.16685312926279097,
          -0.1601224314544749,
          0.37663293217033855,
          -0.21833195320668633,
          -0.1440720338594072,
          -0.16549429424329132,
          -0.15183812175474298,
          -0.1681009926162898,
          0.27460508085631974,
          -0.21749229757130437,
          -0.16827349935061212,
          -0.1683485728781791,
          -0.1505309161863757,
          -0.16932811801330058,
          -0.21829518261435074,
          -0.16953835843537807,
          -0.21844522621883083,
          -0.22218645999715914,
          0.3024731195089497,
          -0.14433223995060543,
          -0.1057335812585322,
          -0.16670378250516438,
          -0.1442908499884311,
          -0.16920160803034676,
          -0.14398442290426025,
          -0.159864467534442,
          -0.14232902153458363,
          -0.09623310694045137,
          -0.20502224841522987,
          -0.216272411237121,
          0.30246747595001994,
          -0.16952008834573273,
          0.3025982535069126,
          -0.15541302411596442,
          0.4971031704380681,
          -0.14741464056447426,
          -0.16948836039808332,
          -0.21117618620973042,
          -0.14234140060346662,
          -0.16762076406357226,
          -0.15513127254195497,
          -0.1443125945605972,
          -0.14039968617344373,
          -0.18325478020767955,
          -0.16905053965748792,
          -0.11064214375784907,
          -0.16887253429586047,
          -0.14727227247199287,
          -0.16459581286647104,
          -0.023864247989309747,
          -0.1769509363879455,
          0.3386061227096472,
          -0.21750070220347867,
          -0.16919192724107704,
          -0.16895521772878958,
          -0.21789555591185453,
          -0.21847326971096231,
          0.30286264043176003,
          -0.15483741218246266,
          3.24172507917704,
          -0.10626050193156554,
          -0.20934144934798435,
          -0.1441087239788498,
          -0.09508050245258162,
          1.578327457869267,
          -0.16928982252318311,
          -0.1687412280949727,
          -0.16844206544347567,
          -0.16842899003418677,
          0.3030463238265448,
          0.0700785369312184,
          -0.17283888328383687,
          -0.18542300674287662,
          -0.14218737901700781,
          -0.16703204971645874,
          -0.16761897235029158,
          -0.2140156849772571,
          -0.1852683517240806,
          -0.15822899012871175,
          -0.18536859955018165,
          -0.11589762070818381,
          1.1407782306136405,
          0.30245024105353246,
          -0.08308614795458831,
          -0.21375722314120482,
          -0.13637946144920676,
          -0.08563943777255237,
          1.087606052001146,
          -0.21844725611260257,
          -0.18542056153245992,
          -0.17845527050753007,
          -0.16854048002089586,
          -0.21837262882351435,
          -0.14408811101732977,
          -0.20254122892198806,
          8.043593809213224,
          -0.15765880574299682,
          0.30632640530959,
          0.023591181011847907,
          -0.16653499915872505,
          -0.1836966418178418,
          -0.169114472257737,
          0.13810250084926165,
          -0.21251091177690704,
          -0.11124754105937978,
          0.31037677454344187,
          -0.1693515893759742,
          -0.13432715611434015,
          -0.141178002741752,
          -0.14176698621755832,
          -0.21754149446899398,
          0.3026328457901466,
          -0.18331425812166982,
          -0.15525819487799328,
          -0.15277428337657703,
          -0.14406883541387613,
          0.3065627031695219,
          0.584688890428891,
          2.111912716832434,
          -0.14930103284886023,
          0.3162439536874438,
          -0.189510442831295,
          -0.13801930922014663,
          -0.21842940820405343,
          -0.16937618368749008,
          -0.136259627941819,
          -0.15240164777406986,
          -0.11049708325069454,
          3.108387231599608,
          -0.10391789647782032,
          -0.2184007617410936,
          -0.18893792316159233,
          -0.03688590980950885,
          -0.1434663288984631,
          -0.1441087615625792,
          0.38242808461315486,
          -0.12993828586482056,
          -0.13033046388540515,
          -0.13832618223259122,
          -0.16826798718122796,
          -0.14024665124829147,
          -0.14202012108849696,
          -0.1779556938610038,
          -0.14338457164300958,
          -0.1158042667039902,
          -0.14225200773642294,
          0.5268338130844384,
          -0.11055158617085863,
          -0.08077503616465344,
          -0.15292246202517967,
          -0.14389879041255346,
          0.5466253135860178,
          -0.1948787467370116,
          -0.16945305152145557,
          -0.16740785030688995,
          -0.12640549134808485,
          -0.11559436649535007,
          -0.15989764141139862,
          0.3242173073312204,
          -0.1423084514705177
         ],
         "y": [
          -1.2940569143967604,
          -2.0112074905659134,
          -1.1859849780536396,
          -2.227514283014399,
          -2.0113017893292544,
          -1.9798761823168103,
          -1.8165560275365205,
          -1.1859809696685673,
          -0.8650262786805095,
          -1.1859979733284267,
          -1.812046240046455,
          -1.3629406400246686,
          -1.2940589476168896,
          -1.1860326827808705,
          -1.1860166823617344,
          -0.4228125331935929,
          -1.2043705556495679,
          -1.1859813963605814,
          -1.1859803353538025,
          -1.1859778124947362,
          -0.8650280454967182,
          -1.812531028013154,
          -1.2955294766509549,
          -1.186716226245683,
          -1.185974353112619,
          -1.186016333263599,
          -1.185980040205107,
          -1.1859784910349553,
          -1.5843698548206189,
          -1.1862421722639627,
          -1.1859773754079668,
          -1.1859889035841302,
          -1.18814000038283,
          -1.2940555326461356,
          -1.186029954896362,
          -1.1859745844794543,
          -1.185973951921094,
          -1.185976497092351,
          -2.171653667200035,
          -1.1859758846216042,
          -1.1918526974122996,
          -1.2940583086449395,
          -1.1859828638632959,
          -1.18598300772711,
          -1.1860784439873215,
          -1.1859862244092245,
          -1.2942181490159472,
          -1.2940577116021679,
          -1.2940644038667013,
          -1.2940909426454426,
          -1.2940550974437635,
          -0.8650214061220589,
          -1.1859742958388133,
          -1.2272660957353483,
          -1.1860438680836936,
          -1.2940586812640398,
          -2.278618364432898,
          -2.2756271852634877,
          -1.1859924585002517,
          -1.1865666887056519,
          -1.185990401480407,
          -1.1859749439537024,
          -1.1859810119767522,
          -1.1860883545933656,
          -2.1360674244278033,
          -1.8118337891176102,
          -1.5055754253565592,
          -1.1859709351967276,
          -1.1885677787098452,
          -2.1817240586311972,
          -1.1859738271274487,
          -1.2940593022009337,
          -1.228372076261076,
          -0.865023062146295,
          -2.166491828668857,
          -1.2940734014082382,
          -0.8650246796464137,
          -1.1860564718606759,
          -1.186055984426249,
          -2.011257749796438,
          -2.154993058388958,
          -0.8650223737052628,
          -1.294055572790789,
          -1.1859788289930482,
          -2.183607853149093,
          -1.185982008083931,
          -1.2945220184916857,
          -0.8650409336564353,
          -2.143121918295745,
          -1.1860511191028413,
          -2.2386860268146034,
          -1.1859801581562825,
          -0.8650274886303569,
          -1.1859738270550653,
          -0.8650328528510899,
          -1.2314030669464693,
          -2.274037782497449,
          -1.2940568285460043,
          -1.8119783002717638,
          -1.186014925599431,
          -1.294055993403217,
          -1.1859827791917303,
          -2.2151176290114143,
          -2.0112551705256028,
          -1.979876955524218,
          -1.1904965486672825,
          -0.8648923023449328,
          -0.8651001936189675,
          -2.2740458425549734,
          -1.1859746725549407,
          -2.2740440246777553,
          -2.166471303451906,
          -0.9108724041720155,
          -2.227602263542496,
          -1.185973999538454,
          -0.8654695074513099,
          -1.9798745405277571,
          -1.1859762696411973,
          -2.166469088824089,
          -2.1971169410170073,
          -1.1877892092301416,
          -0.6283076293926427,
          -1.1859813220550883,
          -1.294631391911719,
          -1.1860010188467585,
          -2.2275400224990194,
          -2.1944956881383026,
          -2.1695543591020057,
          -2.1148502797964026,
          -2.274167625511951,
          -0.8650526643772183,
          -1.1859747725421232,
          -1.1860061180398345,
          -0.8650382052079877,
          -0.8650294976548564,
          -2.274055289881046,
          -2.191465791231137,
          -1.2068951150161504,
          -1.2103503781647693,
          -0.8654753526673389,
          -1.2940568845021416,
          -1.1908125370044798,
          -1.123485298071245,
          -1.1859787890511964,
          -1.186004897193005,
          -1.1860056320515808,
          -1.1860051645915928,
          -2.274073647287552,
          -1.987270351984182,
          -0.8646704198177004,
          -1.5843168119695055,
          -1.9798718916514053,
          -2.1431677674470575,
          -1.1859762055855145,
          -0.8651066688471641,
          -1.5843241419126155,
          -2.0113780087659316,
          -1.5843182959275048,
          -1.8119559048410516,
          -2.3047835089644173,
          -2.2740403864028678,
          -2.0156354456064016,
          -0.865240306634132,
          -2.227789601745472,
          -1.1865458616538125,
          -1.2476278059113337,
          -0.8650292105919947,
          -1.5843124382083018,
          -1.5844056145328174,
          -1.1859834324251375,
          -0.865028828635122,
          -1.2940555517649508,
          -1.2120124794600189,
          -2.711667604738418,
          -2.231101056989261,
          -2.2741329146376055,
          -1.186212701101832,
          -2.1431097723650785,
          -1.2274753669504617,
          -1.1859868078976765,
          -1.1881246634196019,
          -0.8651600301391774,
          -2.014141879453721,
          -2.274462464781596,
          -1.1859817116732025,
          -2.1992710898098524,
          -1.9798708104893399,
          -2.2152373824180955,
          -0.8650541227447188,
          -2.2740380729897876,
          -0.6282902872255385,
          -2.16647739841575,
          -2.230000575314795,
          -2.2151128599945342,
          -2.2743130661651483,
          -2.287908561827211,
          -2.340789051224505,
          -2.179417666855596,
          -2.2742527067974545,
          -1.2002328077005766,
          -2.218946357257709,
          -0.8650294297784678,
          -1.1859833805356292,
          -2.228321480754955,
          -2.075293808183935,
          -0.8759546607437386,
          -2.32936005871743,
          -1.2941052366641845,
          -0.8650312631980408,
          -1.20026800787519,
          -1.98152161523077,
          -2.215143827429694,
          -1.2940568858458006,
          -2.276944436620985,
          -2.202284200068531,
          -2.2022411473499304,
          -2.2659003590391067,
          -1.1860136963735481,
          -1.979975248134363,
          -1.9798729744633359,
          -1.5056186437748256,
          -1.294061714061327,
          -0.33001407851205466,
          -1.2940955202795639,
          -1.2311590267615093,
          -1.5844783508984108,
          -2.2054521968100858,
          -1.1860937408302223,
          -1.294064381348689,
          -1.1960892818815962,
          -1.2043698558364344,
          -1.185973908808249,
          -1.186027237756039,
          -1.8118620751935328,
          -2.2495606111432878,
          -2.011255129494145,
          -2.274253565986056,
          -1.9798762201222362
         ],
         "z": [
          0.18721470018662004,
          0.4126188050893433,
          -0.006614258259909785,
          0.35459479959517665,
          0.4126158023420772,
          0.32667833579589106,
          0.4115631595839068,
          -0.0065971618175314425,
          0.06301859733439209,
          -0.006599314193224132,
          0.4145175190283256,
          -0.009061364496610639,
          0.18716936277992938,
          -0.006634531637007654,
          -0.006598132411722831,
          0.08176593434171611,
          0.023971868548280907,
          -0.006605402180195979,
          -0.006597584906224161,
          -0.006596801108343667,
          0.06302040342319158,
          0.41027336632863065,
          0.18161347764406024,
          -0.010336591930690505,
          -0.006601575068113368,
          -0.0066610621633008855,
          -0.006601233682482759,
          -0.00659575096799886,
          0.23520973494737998,
          -0.006862151093290096,
          -0.006614935891286956,
          -0.006607951307728759,
          -0.03358169605348127,
          0.18721377855733407,
          -0.006641190342852807,
          -0.006601106936005175,
          -0.006595676293736536,
          -0.0066067350444238265,
          0.40906342135475116,
          -0.006597101638090692,
          -0.0073812748712450745,
          0.18721563015179393,
          -0.006695062397193999,
          -0.006595802430091882,
          -0.006604008858604998,
          -0.006603133966103139,
          0.18705017046027583,
          0.1872070691037897,
          0.18721310565855404,
          0.18721888226913264,
          0.1872199998376092,
          0.06302162353533762,
          -0.0066022408901239855,
          0.1883309670129239,
          -0.006631910230575596,
          0.18720834724539095,
          0.37693354240120946,
          0.42968807744031595,
          -0.006615896463764807,
          -0.0067270975837530915,
          -0.006636494391523919,
          -0.0065954156562039404,
          -0.006640753209814307,
          -0.006832756090866666,
          0.39670504699018966,
          0.4150034343244734,
          0.3362868536028833,
          -0.006598322768511429,
          -0.008003268713089743,
          0.5580030819592127,
          -0.0065955302860206,
          0.18721629285480784,
          -0.007186188451555368,
          0.06301237237024897,
          0.38094894978640764,
          0.18721541662186555,
          0.0630172169666162,
          -0.006606187200999274,
          -0.0066189894121962255,
          0.41264702265597913,
          0.356441872434276,
          0.06301724795194978,
          0.187213805333865,
          -0.006657899770381921,
          0.5215386351310035,
          -0.006616239233187709,
          0.18074496884415617,
          0.0630082883704521,
          0.53582569217459,
          -0.006596612397212132,
          0.4077728834064036,
          -0.006597389287020181,
          0.06301783532157268,
          -0.0065955293834555635,
          0.06302141326309642,
          0.11885328408195638,
          0.4317629074036297,
          0.18721817768168147,
          0.4147232512448787,
          -0.006630685189990522,
          0.18721733749018446,
          -0.006598779154875624,
          0.32540495344009795,
          0.41264238411408977,
          0.32667885152613996,
          -0.006716776888101492,
          0.0627786060857447,
          0.06300262617232204,
          0.43176483155972445,
          -0.006595623756919718,
          0.4317623637928571,
          0.3809527666291865,
          0.0622232772902672,
          0.3545954278315264,
          -0.0065962752913180595,
          0.06300669749028968,
          0.3266784959612964,
          -0.0066250877437448626,
          0.38094783755778744,
          0.5525480935226917,
          -0.006639714524705673,
          0.00830266885249576,
          -0.006601483424319534,
          0.1868199419828033,
          -0.00659979331018309,
          0.35457901779508877,
          0.5062641424282581,
          0.3660474930341264,
          0.7155283177394357,
          0.4312250306332515,
          0.06301109181246022,
          -0.00660075455047843,
          -0.006597333572889998,
          0.0630139999359156,
          0.06302108958523213,
          0.4317607772021036,
          0.39885400169308227,
          -0.05540284381446214,
          0.06202716702415256,
          0.06297921524049047,
          0.18721468024687662,
          -0.00666291737513278,
          -0.0482752580972063,
          -0.00659830248171937,
          -0.00660097217057532,
          -0.006605502981562766,
          -0.0066058147779234746,
          0.4317620731263467,
          0.3250268323468197,
          0.062222656974959045,
          0.2352713226421088,
          0.3266754739170314,
          0.5358166372766341,
          -0.006625130468960489,
          0.06296866031791305,
          0.23527056313993003,
          0.4126446740847591,
          0.2352708061550797,
          0.41487777095136136,
          0.4255996177509703,
          0.43176385968620595,
          0.41243415472250594,
          0.06299503484714263,
          0.354464790059935,
          -0.0077828389743474155,
          0.23846074585080992,
          0.06302061568482471,
          0.23527028819919854,
          0.23518212185154994,
          -0.006609012992781623,
          0.0630193567266384,
          0.18721405302727756,
          0.07362716524174659,
          0.4098554929935203,
          0.542157958787265,
          0.4317240585414061,
          -0.009574108241276568,
          0.5357956241135575,
          0.1881517200389634,
          -0.006599230104857255,
          -0.010937022799336945,
          0.06295718083867968,
          0.4125362798972351,
          0.4317354989295912,
          -0.006596666899569163,
          0.47383254105072264,
          0.3266593760829474,
          0.32539740159300407,
          0.06301206454529439,
          0.4317604651570376,
          0.008299653561098592,
          0.3809517231475446,
          0.40577694733323266,
          0.3254051930309595,
          0.43176137377754853,
          0.37476555182996757,
          0.4185481510980863,
          0.4580145739896599,
          0.43159559010802134,
          0.2296310759039867,
          0.284888414888237,
          0.06302038531027043,
          -0.00659590060912821,
          0.35458403365974217,
          0.6647581134323386,
          0.19955974982842534,
          0.34457226066844504,
          0.18659451987826287,
          0.06302035296264726,
          0.2296301010249046,
          0.32539747429671706,
          0.3254027832999748,
          0.18721468114309864,
          0.431169201143933,
          0.3309873446070692,
          0.3309836990637478,
          0.39246822268895243,
          -0.00660640027249741,
          0.32666853351636826,
          0.3266730938266425,
          0.3362842993228335,
          0.18720440773174835,
          -0.035556087218245096,
          0.18719432026260338,
          -0.007241531158062657,
          0.23413230154151515,
          0.3309367187730007,
          -0.006829163464562075,
          0.18721309063901337,
          -0.0155388235710713,
          0.023964811758792212,
          -0.006596850457129764,
          -0.006616824384250279,
          0.4150214225018661,
          0.43347754124974386,
          0.41264289574481655,
          0.4314705692675486,
          0.3266783610121547
         ]
        },
        {
         "customdata": [
          [
           "Proof-of-Authority"
          ],
          [
           "ECC 256K1"
          ],
          [
           "SHA3-256"
          ],
          [
           "Leased POS"
          ]
         ],
         "hovertemplate": "<b>%{hovertext}</b><br><br>Class=%{marker.color}<br>PCA 1=%{x}<br>PCA 2=%{y}<br>PCA 3=%{z}<br>Algorithm=%{customdata[0]}<extra></extra>",
         "hovertext": [
          "Poa Network",
          "Acute Angle Cloud",
          "Fiii",
          "Waves"
         ],
         "legendgroup": "1",
         "marker": {
          "color": [
           1,
           1,
           1,
           1
          ],
          "coloraxis": "coloraxis",
          "symbol": "square"
         },
         "mode": "markers",
         "name": "1",
         "scene": "scene",
         "showlegend": true,
         "type": "scatter3d",
         "x": [
          -0.44473550737749695,
          -0.2834973083104158,
          -0.503595155468125,
          -0.46198901879179766
         ],
         "y": [
          3.9527190467938538,
          3.720467823175284,
          3.2011908302775676,
          2.202847482110438
         ],
         "z": [
          19.796910291619735,
          8.907717583613149,
          13.379999127707883,
          16.4516121256082
         ]
        },
        {
         "customdata": [
          [
           "TRC10"
          ]
         ],
         "hovertemplate": "<b>%{hovertext}</b><br><br>Class=%{marker.color}<br>PCA 1=%{x}<br>PCA 2=%{y}<br>PCA 3=%{z}<br>Algorithm=%{customdata[0]}<extra></extra>",
         "hovertext": [
          "BitTorrent"
         ],
         "legendgroup": "2",
         "marker": {
          "color": [
           2
          ],
          "coloraxis": "coloraxis",
          "symbol": "x"
         },
         "mode": "markers",
         "name": "2",
         "scene": "scene",
         "showlegend": true,
         "type": "scatter3d",
         "x": [
          34.0822963517479
         ],
         "y": [
          1.814591578400716
         ],
         "z": [
          -0.7372847232590795
         ]
        }
       ],
       "layout": {
        "coloraxis": {
         "colorbar": {
          "title": {
           "text": "Class"
          }
         },
         "colorscale": [
          [
           0,
           "#0d0887"
          ],
          [
           0.1111111111111111,
           "#46039f"
          ],
          [
           0.2222222222222222,
           "#7201a8"
          ],
          [
           0.3333333333333333,
           "#9c179e"
          ],
          [
           0.4444444444444444,
           "#bd3786"
          ],
          [
           0.5555555555555556,
           "#d8576b"
          ],
          [
           0.6666666666666666,
           "#ed7953"
          ],
          [
           0.7777777777777778,
           "#fb9f3a"
          ],
          [
           0.8888888888888888,
           "#fdca26"
          ],
          [
           1,
           "#f0f921"
          ]
         ]
        },
        "legend": {
         "title": {
          "text": "Class"
         },
         "tracegroupgap": 0,
         "x": 0,
         "y": 1
        },
        "margin": {
         "t": 60
        },
        "scene": {
         "domain": {
          "x": [
           0,
           1
          ],
          "y": [
           0,
           1
          ]
         },
         "xaxis": {
          "title": {
           "text": "PCA 1"
          }
         },
         "yaxis": {
          "title": {
           "text": "PCA 2"
          }
         },
         "zaxis": {
          "title": {
           "text": "PCA 3"
          }
         }
        },
        "template": {
         "data": {
          "bar": [
           {
            "error_x": {
             "color": "#2a3f5f"
            },
            "error_y": {
             "color": "#2a3f5f"
            },
            "marker": {
             "line": {
              "color": "#E5ECF6",
              "width": 0.5
             },
             "pattern": {
              "fillmode": "overlay",
              "size": 10,
              "solidity": 0.2
             }
            },
            "type": "bar"
           }
          ],
          "barpolar": [
           {
            "marker": {
             "line": {
              "color": "#E5ECF6",
              "width": 0.5
             },
             "pattern": {
              "fillmode": "overlay",
              "size": 10,
              "solidity": 0.2
             }
            },
            "type": "barpolar"
           }
          ],
          "carpet": [
           {
            "aaxis": {
             "endlinecolor": "#2a3f5f",
             "gridcolor": "white",
             "linecolor": "white",
             "minorgridcolor": "white",
             "startlinecolor": "#2a3f5f"
            },
            "baxis": {
             "endlinecolor": "#2a3f5f",
             "gridcolor": "white",
             "linecolor": "white",
             "minorgridcolor": "white",
             "startlinecolor": "#2a3f5f"
            },
            "type": "carpet"
           }
          ],
          "choropleth": [
           {
            "colorbar": {
             "outlinewidth": 0,
             "ticks": ""
            },
            "type": "choropleth"
           }
          ],
          "contour": [
           {
            "colorbar": {
             "outlinewidth": 0,
             "ticks": ""
            },
            "colorscale": [
             [
              0,
              "#0d0887"
             ],
             [
              0.1111111111111111,
              "#46039f"
             ],
             [
              0.2222222222222222,
              "#7201a8"
             ],
             [
              0.3333333333333333,
              "#9c179e"
             ],
             [
              0.4444444444444444,
              "#bd3786"
             ],
             [
              0.5555555555555556,
              "#d8576b"
             ],
             [
              0.6666666666666666,
              "#ed7953"
             ],
             [
              0.7777777777777778,
              "#fb9f3a"
             ],
             [
              0.8888888888888888,
              "#fdca26"
             ],
             [
              1,
              "#f0f921"
             ]
            ],
            "type": "contour"
           }
          ],
          "contourcarpet": [
           {
            "colorbar": {
             "outlinewidth": 0,
             "ticks": ""
            },
            "type": "contourcarpet"
           }
          ],
          "heatmap": [
           {
            "colorbar": {
             "outlinewidth": 0,
             "ticks": ""
            },
            "colorscale": [
             [
              0,
              "#0d0887"
             ],
             [
              0.1111111111111111,
              "#46039f"
             ],
             [
              0.2222222222222222,
              "#7201a8"
             ],
             [
              0.3333333333333333,
              "#9c179e"
             ],
             [
              0.4444444444444444,
              "#bd3786"
             ],
             [
              0.5555555555555556,
              "#d8576b"
             ],
             [
              0.6666666666666666,
              "#ed7953"
             ],
             [
              0.7777777777777778,
              "#fb9f3a"
             ],
             [
              0.8888888888888888,
              "#fdca26"
             ],
             [
              1,
              "#f0f921"
             ]
            ],
            "type": "heatmap"
           }
          ],
          "heatmapgl": [
           {
            "colorbar": {
             "outlinewidth": 0,
             "ticks": ""
            },
            "colorscale": [
             [
              0,
              "#0d0887"
             ],
             [
              0.1111111111111111,
              "#46039f"
             ],
             [
              0.2222222222222222,
              "#7201a8"
             ],
             [
              0.3333333333333333,
              "#9c179e"
             ],
             [
              0.4444444444444444,
              "#bd3786"
             ],
             [
              0.5555555555555556,
              "#d8576b"
             ],
             [
              0.6666666666666666,
              "#ed7953"
             ],
             [
              0.7777777777777778,
              "#fb9f3a"
             ],
             [
              0.8888888888888888,
              "#fdca26"
             ],
             [
              1,
              "#f0f921"
             ]
            ],
            "type": "heatmapgl"
           }
          ],
          "histogram": [
           {
            "marker": {
             "pattern": {
              "fillmode": "overlay",
              "size": 10,
              "solidity": 0.2
             }
            },
            "type": "histogram"
           }
          ],
          "histogram2d": [
           {
            "colorbar": {
             "outlinewidth": 0,
             "ticks": ""
            },
            "colorscale": [
             [
              0,
              "#0d0887"
             ],
             [
              0.1111111111111111,
              "#46039f"
             ],
             [
              0.2222222222222222,
              "#7201a8"
             ],
             [
              0.3333333333333333,
              "#9c179e"
             ],
             [
              0.4444444444444444,
              "#bd3786"
             ],
             [
              0.5555555555555556,
              "#d8576b"
             ],
             [
              0.6666666666666666,
              "#ed7953"
             ],
             [
              0.7777777777777778,
              "#fb9f3a"
             ],
             [
              0.8888888888888888,
              "#fdca26"
             ],
             [
              1,
              "#f0f921"
             ]
            ],
            "type": "histogram2d"
           }
          ],
          "histogram2dcontour": [
           {
            "colorbar": {
             "outlinewidth": 0,
             "ticks": ""
            },
            "colorscale": [
             [
              0,
              "#0d0887"
             ],
             [
              0.1111111111111111,
              "#46039f"
             ],
             [
              0.2222222222222222,
              "#7201a8"
             ],
             [
              0.3333333333333333,
              "#9c179e"
             ],
             [
              0.4444444444444444,
              "#bd3786"
             ],
             [
              0.5555555555555556,
              "#d8576b"
             ],
             [
              0.6666666666666666,
              "#ed7953"
             ],
             [
              0.7777777777777778,
              "#fb9f3a"
             ],
             [
              0.8888888888888888,
              "#fdca26"
             ],
             [
              1,
              "#f0f921"
             ]
            ],
            "type": "histogram2dcontour"
           }
          ],
          "mesh3d": [
           {
            "colorbar": {
             "outlinewidth": 0,
             "ticks": ""
            },
            "type": "mesh3d"
           }
          ],
          "parcoords": [
           {
            "line": {
             "colorbar": {
              "outlinewidth": 0,
              "ticks": ""
             }
            },
            "type": "parcoords"
           }
          ],
          "pie": [
           {
            "automargin": true,
            "type": "pie"
           }
          ],
          "scatter": [
           {
            "marker": {
             "colorbar": {
              "outlinewidth": 0,
              "ticks": ""
             }
            },
            "type": "scatter"
           }
          ],
          "scatter3d": [
           {
            "line": {
             "colorbar": {
              "outlinewidth": 0,
              "ticks": ""
             }
            },
            "marker": {
             "colorbar": {
              "outlinewidth": 0,
              "ticks": ""
             }
            },
            "type": "scatter3d"
           }
          ],
          "scattercarpet": [
           {
            "marker": {
             "colorbar": {
              "outlinewidth": 0,
              "ticks": ""
             }
            },
            "type": "scattercarpet"
           }
          ],
          "scattergeo": [
           {
            "marker": {
             "colorbar": {
              "outlinewidth": 0,
              "ticks": ""
             }
            },
            "type": "scattergeo"
           }
          ],
          "scattergl": [
           {
            "marker": {
             "colorbar": {
              "outlinewidth": 0,
              "ticks": ""
             }
            },
            "type": "scattergl"
           }
          ],
          "scattermapbox": [
           {
            "marker": {
             "colorbar": {
              "outlinewidth": 0,
              "ticks": ""
             }
            },
            "type": "scattermapbox"
           }
          ],
          "scatterpolar": [
           {
            "marker": {
             "colorbar": {
              "outlinewidth": 0,
              "ticks": ""
             }
            },
            "type": "scatterpolar"
           }
          ],
          "scatterpolargl": [
           {
            "marker": {
             "colorbar": {
              "outlinewidth": 0,
              "ticks": ""
             }
            },
            "type": "scatterpolargl"
           }
          ],
          "scatterternary": [
           {
            "marker": {
             "colorbar": {
              "outlinewidth": 0,
              "ticks": ""
             }
            },
            "type": "scatterternary"
           }
          ],
          "surface": [
           {
            "colorbar": {
             "outlinewidth": 0,
             "ticks": ""
            },
            "colorscale": [
             [
              0,
              "#0d0887"
             ],
             [
              0.1111111111111111,
              "#46039f"
             ],
             [
              0.2222222222222222,
              "#7201a8"
             ],
             [
              0.3333333333333333,
              "#9c179e"
             ],
             [
              0.4444444444444444,
              "#bd3786"
             ],
             [
              0.5555555555555556,
              "#d8576b"
             ],
             [
              0.6666666666666666,
              "#ed7953"
             ],
             [
              0.7777777777777778,
              "#fb9f3a"
             ],
             [
              0.8888888888888888,
              "#fdca26"
             ],
             [
              1,
              "#f0f921"
             ]
            ],
            "type": "surface"
           }
          ],
          "table": [
           {
            "cells": {
             "fill": {
              "color": "#EBF0F8"
             },
             "line": {
              "color": "white"
             }
            },
            "header": {
             "fill": {
              "color": "#C8D4E3"
             },
             "line": {
              "color": "white"
             }
            },
            "type": "table"
           }
          ]
         },
         "layout": {
          "annotationdefaults": {
           "arrowcolor": "#2a3f5f",
           "arrowhead": 0,
           "arrowwidth": 1
          },
          "autotypenumbers": "strict",
          "coloraxis": {
           "colorbar": {
            "outlinewidth": 0,
            "ticks": ""
           }
          },
          "colorscale": {
           "diverging": [
            [
             0,
             "#8e0152"
            ],
            [
             0.1,
             "#c51b7d"
            ],
            [
             0.2,
             "#de77ae"
            ],
            [
             0.3,
             "#f1b6da"
            ],
            [
             0.4,
             "#fde0ef"
            ],
            [
             0.5,
             "#f7f7f7"
            ],
            [
             0.6,
             "#e6f5d0"
            ],
            [
             0.7,
             "#b8e186"
            ],
            [
             0.8,
             "#7fbc41"
            ],
            [
             0.9,
             "#4d9221"
            ],
            [
             1,
             "#276419"
            ]
           ],
           "sequential": [
            [
             0,
             "#0d0887"
            ],
            [
             0.1111111111111111,
             "#46039f"
            ],
            [
             0.2222222222222222,
             "#7201a8"
            ],
            [
             0.3333333333333333,
             "#9c179e"
            ],
            [
             0.4444444444444444,
             "#bd3786"
            ],
            [
             0.5555555555555556,
             "#d8576b"
            ],
            [
             0.6666666666666666,
             "#ed7953"
            ],
            [
             0.7777777777777778,
             "#fb9f3a"
            ],
            [
             0.8888888888888888,
             "#fdca26"
            ],
            [
             1,
             "#f0f921"
            ]
           ],
           "sequentialminus": [
            [
             0,
             "#0d0887"
            ],
            [
             0.1111111111111111,
             "#46039f"
            ],
            [
             0.2222222222222222,
             "#7201a8"
            ],
            [
             0.3333333333333333,
             "#9c179e"
            ],
            [
             0.4444444444444444,
             "#bd3786"
            ],
            [
             0.5555555555555556,
             "#d8576b"
            ],
            [
             0.6666666666666666,
             "#ed7953"
            ],
            [
             0.7777777777777778,
             "#fb9f3a"
            ],
            [
             0.8888888888888888,
             "#fdca26"
            ],
            [
             1,
             "#f0f921"
            ]
           ]
          },
          "colorway": [
           "#636efa",
           "#EF553B",
           "#00cc96",
           "#ab63fa",
           "#FFA15A",
           "#19d3f3",
           "#FF6692",
           "#B6E880",
           "#FF97FF",
           "#FECB52"
          ],
          "font": {
           "color": "#2a3f5f"
          },
          "geo": {
           "bgcolor": "white",
           "lakecolor": "white",
           "landcolor": "#E5ECF6",
           "showlakes": true,
           "showland": true,
           "subunitcolor": "white"
          },
          "hoverlabel": {
           "align": "left"
          },
          "hovermode": "closest",
          "mapbox": {
           "style": "light"
          },
          "paper_bgcolor": "white",
          "plot_bgcolor": "#E5ECF6",
          "polar": {
           "angularaxis": {
            "gridcolor": "white",
            "linecolor": "white",
            "ticks": ""
           },
           "bgcolor": "#E5ECF6",
           "radialaxis": {
            "gridcolor": "white",
            "linecolor": "white",
            "ticks": ""
           }
          },
          "scene": {
           "xaxis": {
            "backgroundcolor": "#E5ECF6",
            "gridcolor": "white",
            "gridwidth": 2,
            "linecolor": "white",
            "showbackground": true,
            "ticks": "",
            "zerolinecolor": "white"
           },
           "yaxis": {
            "backgroundcolor": "#E5ECF6",
            "gridcolor": "white",
            "gridwidth": 2,
            "linecolor": "white",
            "showbackground": true,
            "ticks": "",
            "zerolinecolor": "white"
           },
           "zaxis": {
            "backgroundcolor": "#E5ECF6",
            "gridcolor": "white",
            "gridwidth": 2,
            "linecolor": "white",
            "showbackground": true,
            "ticks": "",
            "zerolinecolor": "white"
           }
          },
          "shapedefaults": {
           "line": {
            "color": "#2a3f5f"
           }
          },
          "ternary": {
           "aaxis": {
            "gridcolor": "white",
            "linecolor": "white",
            "ticks": ""
           },
           "baxis": {
            "gridcolor": "white",
            "linecolor": "white",
            "ticks": ""
           },
           "bgcolor": "#E5ECF6",
           "caxis": {
            "gridcolor": "white",
            "linecolor": "white",
            "ticks": ""
           }
          },
          "title": {
           "x": 0.05
          },
          "xaxis": {
           "automargin": true,
           "gridcolor": "white",
           "linecolor": "white",
           "ticks": "",
           "title": {
            "standoff": 15
           },
           "zerolinecolor": "white",
           "zerolinewidth": 2
          },
          "yaxis": {
           "automargin": true,
           "gridcolor": "white",
           "linecolor": "white",
           "ticks": "",
           "title": {
            "standoff": 15
           },
           "zerolinecolor": "white",
           "zerolinewidth": 2
          }
         }
        },
        "width": 800
       }
      },
      "text/html": [
       "<div>                            <div id=\"6704d8e7-74a7-44ce-ab91-eb0d04815cf5\" class=\"plotly-graph-div\" style=\"height:525px; width:800px;\"></div>            <script type=\"text/javascript\">                require([\"plotly\"], function(Plotly) {                    window.PLOTLYENV=window.PLOTLYENV || {};                                    if (document.getElementById(\"6704d8e7-74a7-44ce-ab91-eb0d04815cf5\")) {                    Plotly.newPlot(                        \"6704d8e7-74a7-44ce-ab91-eb0d04815cf5\",                        [{\"customdata\":[[\"Scrypt\"],[\"Scrypt\"],[\"X13\"],[\"X11\"],[\"SHA-512\"],[\"SHA-256\"],[\"SHA-256\"],[\"X15\"],[\"Scrypt\"],[\"Scrypt\"],[\"Scrypt\"],[\"Scrypt\"],[\"Scrypt\"],[\"Scrypt\"],[\"Groestl\"],[\"PoS\"],[\"Scrypt\"],[\"Scrypt\"],[\"X11\"],[\"X11\"],[\"SHA3\"],[\"Scrypt\"],[\"SHA-256\"],[\"Scrypt\"],[\"X13\"],[\"X13\"],[\"NeoScrypt\"],[\"Scrypt\"],[\"Scrypt\"],[\"Scrypt\"],[\"X11\"],[\"X11\"],[\"Multiple\"],[\"PHI1612\"],[\"X11\"],[\"Scrypt\"],[\"Scrypt\"],[\"Scrypt\"],[\"X11\"],[\"Multiple\"],[\"X13\"],[\"Scrypt\"],[\"Shabal256\"],[\"Counterparty\"],[\"SHA-256\"],[\"Groestl\"],[\"Scrypt\"],[\"X13\"],[\"Scrypt\"],[\"Scrypt\"],[\"X13\"],[\"X11\"],[\"Scrypt\"],[\"X11\"],[\"SHA3\"],[\"QUAIT\"],[\"X11\"],[\"Scrypt\"],[\"X13\"],[\"SHA-256\"],[\"X15\"],[\"BLAKE256\"],[\"SHA-256\"],[\"X11\"],[\"SHA-256\"],[\"NIST5\"],[\"Scrypt\"],[\"Scrypt\"],[\"X11\"],[\"Scrypt\"],[\"SHA-256\"],[\"Scrypt\"],[\"PoS\"],[\"X11\"],[\"SHA-256\"],[\"SHA-256\"],[\"NIST5\"],[\"X11\"],[\"POS 3.0\"],[\"Scrypt\"],[\"Scrypt\"],[\"Scrypt\"],[\"X13\"],[\"X11\"],[\"X11\"],[\"Scrypt\"],[\"SHA-256\"],[\"X11\"],[\"Scrypt\"],[\"Scrypt\"],[\"Scrypt\"],[\"Scrypt\"],[\"SHA-256D\"],[\"PoS\"],[\"Scrypt\"],[\"X11\"],[\"PoS\"],[\"X13\"],[\"X14\"],[\"PoS\"],[\"SHA-256D\"],[\"DPoS\"],[\"X11\"],[\"X13\"],[\"X11\"],[\"PoS\"],[\"Scrypt\"],[\"Scrypt\"],[\"PoS\"],[\"X11\"],[\"SHA-256\"],[\"Scrypt\"],[\"X11\"],[\"Scrypt\"],[\"Scrypt\"],[\"X11\"],[\"Scrypt\"],[\"Scrypt\"],[\"Scrypt\"],[\"Scrypt\"],[\"Quark\"],[\"QuBit\"],[\"Scrypt\"],[\"SHA-256\"],[\"X11\"],[\"Scrypt\"],[\"Scrypt\"],[\"Scrypt\"],[\"Scrypt\"],[\"X13\"],[\"Scrypt\"],[\"Scrypt\"],[\"X11\"],[\"Blake2S\"],[\"X11\"],[\"PoS\"],[\"X11\"],[\"PoS\"],[\"X11\"],[\"Scrypt\"],[\"Scrypt\"],[\"Scrypt\"],[\"SHA-256\"],[\"X11\"],[\"Scrypt\"],[\"PoS\"],[\"Scrypt\"],[\"X15\"],[\"SHA-256\"],[\"POS 3.0\"],[\"536\"],[\"NIST5\"],[\"NIST5\"],[\"Skein\"],[\"X13\"],[\"Scrypt\"],[\"X13\"],[\"SkunkHash v2 Raptor\"],[\"Skein\"],[\"X11\"],[\"Scrypt\"],[\"VeChainThor Authority\"],[\"PoS\"],[\"Scrypt\"],[\"Scrypt\"],[\"SHA-512\"],[\"Ouroboros\"],[\"X11\"],[\"NeoScrypt\"],[\"Scrypt\"],[\"Lyra2REv2\"],[\"Scrypt\"],[\"SHA-256\"],[\"NIST5\"],[\"PHI1612\"],[\"Scrypt\"],[\"Quark\"],[\"POS 2.0\"],[\"Scrypt\"],[\"SHA-256\"],[\"X11\"],[\"DPoS\"],[\"NIST5\"],[\"X13\"],[\"Scrypt\"],[\"NIST5\"],[\"Quark\"],[\"Scrypt\"],[\"Scrypt\"],[\"X11\"],[\"Quark\"],[\"Scrypt\"],[\"Scrypt\"],[\"X11\"],[\"POS 3.0\"],[\"Ethash\"],[\"Scrypt\"],[\"Scrypt\"],[\"X13\"],[\"Proof-of-BibleHash\"],[\"SHA-256 + Hive\"],[\"C11\"],[\"X11\"],[\"XEVAN\"],[\"Scrypt\"],[\"VBFT\"],[\"NIST5\"],[\"Scrypt\"],[\"Scrypt\"],[\"Scrypt\"],[\"Green Protocol\"],[\"PoS\"],[\"Scrypt\"],[\"Semux BFT consensus\"],[\"Quark\"],[\"PoS\"],[\"X16R\"],[\"Scrypt\"],[\"XEVAN\"],[\"Scrypt\"],[\"Scrypt\"],[\"Scrypt\"],[\"SHA-256D\"],[\"Scrypt\"],[\"X15\"],[\"Scrypt\"],[\"Quark\"],[\"SHA-256\"],[\"DPoS\"],[\"X16R\"],[\"Quark\"],[\"Quark\"],[\"Scrypt\"],[\"Lyra2REv2\"],[\"Quark\"],[\"Scrypt\"],[\"X11\"],[\"X11\"],[\"Scrypt\"],[\"PoS\"],[\"Keccak\"],[\"X11\"],[\"Scrypt\"],[\"SHA-512\"],[\"XEVAN\"],[\"XEVAN\"],[\"X11\"],[\"Quark\"],[\"Equihash\"],[\"Scrypt\"],[\"Quark\"],[\"Quark\"],[\"Scrypt\"],[\"X11\"],[\"Scrypt\"],[\"XEVAN\"],[\"SHA-256D\"],[\"X11\"],[\"X11\"],[\"DPoS\"],[\"Scrypt\"],[\"X11\"],[\"Scrypt\"],[\"Scrypt\"],[\"SHA-256\"],[\"Scrypt\"],[\"X11\"],[\"Scrypt\"],[\"SHA-256\"],[\"X11\"],[\"Scrypt\"],[\"Scrypt\"],[\"X11\"],[\"Scrypt\"],[\"PoS\"],[\"X11\"],[\"SHA-256\"],[\"DPoS\"],[\"Scrypt\"],[\"Scrypt\"],[\"NeoScrypt\"],[\"X13\"],[\"DPoS\"],[\"DPoS\"],[\"SHA-256\"],[\"PoS\"],[\"PoS\"],[\"SHA-256\"],[\"Scrypt\"],[\"Scrypt\"]],\"hovertemplate\":\"<b>%{hovertext}</b><br><br>Class=%{marker.color}<br>PCA 1=%{x}<br>PCA 2=%{y}<br>PCA 3=%{z}<br>Algorithm=%{customdata[0]}<extra></extra>\",\"hovertext\":[\"42 Coin\",\"404Coin\",\"EliteCoin\",\"Dash\",\"Bitshares\",\"BitcoinDark\",\"PayCoin\",\"KoboCoin\",\"Aurora Coin\",\"BlueCoin\",\"EnergyCoin\",\"BitBar\",\"CryptoBullion\",\"CasinoCoin\",\"Diamond\",\"Exclusive Coin\",\"FlutterCoin\",\"HoboNickels\",\"HyperStake\",\"IOCoin\",\"MaxCoin\",\"MintCoin\",\"MazaCoin\",\"Nautilus Coin\",\"NavCoin\",\"OpalCoin\",\"Orbitcoin\",\"PotCoin\",\"PhoenixCoin\",\"Reddcoin\",\"SuperCoin\",\"SyncCoin\",\"TeslaCoin\",\"TittieCoin\",\"TorCoin\",\"UnitaryStatus Dollar\",\"UltraCoin\",\"VeriCoin\",\"X11 Coin\",\"Crypti\",\"StealthCoin\",\"ZCC Coin\",\"BurstCoin\",\"StorjCoin\",\"Neutron\",\"FairCoin\",\"RubyCoin\",\"Kore\",\"Dnotes\",\"8BIT Coin\",\"Sativa Coin\",\"Ucoin\",\"Vtorrent\",\"IslaCoin\",\"Nexus\",\"Droidz\",\"Squall Coin\",\"Diggits\",\"Paycon\",\"Emercoin\",\"EverGreenCoin\",\"Decred\",\"EDRCoin\",\"Hitcoin\",\"DubaiCoin\",\"PWR Coin\",\"BillaryCoin\",\"GPU Coin\",\"EuropeCoin\",\"ZeitCoin\",\"SwingCoin\",\"SafeExchangeCoin\",\"Nebuchadnezzar\",\"Ratecoin\",\"Revenu\",\"Clockcoin\",\"VIP Tokens\",\"BitSend\",\"Let it Ride\",\"PutinCoin\",\"iBankCoin\",\"Frankywillcoin\",\"MudraCoin\",\"Lutetium Coin\",\"GoldBlocks\",\"CarterCoin\",\"BitTokens\",\"MustangCoin\",\"ZoneCoin\",\"RootCoin\",\"BitCurrency\",\"Swiscoin\",\"BuzzCoin\",\"Opair\",\"PesoBit\",\"Halloween Coin\",\"CoffeeCoin\",\"RoyalCoin\",\"GanjaCoin V2\",\"TeamUP\",\"LanaCoin\",\"ARK\",\"InsaneCoin\",\"EmberCoin\",\"XenixCoin\",\"FreeCoin\",\"PLNCoin\",\"AquariusCoin\",\"Creatio\",\"Eternity\",\"Eurocoin\",\"BitcoinFast\",\"Stakenet\",\"BitConnect Coin\",\"MoneyCoin\",\"Enigma\",\"Russiacoin\",\"PandaCoin\",\"GameUnits\",\"GAKHcoin\",\"Allsafe\",\"LiteCreed\",\"Klingon Empire Darsek\",\"Internet of People\",\"KushCoin\",\"Printerium\",\"Impeach\",\"Zilbercoin\",\"FirstCoin\",\"FindCoin\",\"OpenChat\",\"RenosCoin\",\"VirtacoinPlus\",\"TajCoin\",\"Impact\",\"Atmos\",\"HappyCoin\",\"MacronCoin\",\"Condensate\",\"Independent Money System\",\"ArgusCoin\",\"LomoCoin\",\"ProCurrency\",\"GoldReserve\",\"GrowthCoin\",\"Phreak\",\"Degas Coin\",\"HTML5 Coin\",\"Ultimate Secure Cash\",\"QTUM\",\"Espers\",\"Denarius\",\"Virta Unique Coin\",\"Bitcoin Planet\",\"BritCoin\",\"Linda\",\"DeepOnion\",\"Signatum\",\"Cream\",\"Monoeci\",\"Draftcoin\",\"Vechain\",\"Stakecoin\",\"CoinonatX\",\"Ethereum Dark\",\"Obsidian\",\"Cardano\",\"Regalcoin\",\"TrezarCoin\",\"TerraNovaCoin\",\"Rupee\",\"WomenCoin\",\"Theresa May Coin\",\"NamoCoin\",\"LUXCoin\",\"Xios\",\"Bitcloud 2.0\",\"KekCoin\",\"BlackholeCoin\",\"Infinity Economics\",\"Magnet\",\"Lamden Tau\",\"Electra\",\"Bitcoin Diamond\",\"Cash & Back Coin\",\"Bulwark\",\"Kalkulus\",\"GermanCoin\",\"LiteCoin Ultra\",\"PhantomX\",\"Digiwage\",\"Trollcoin\",\"Litecoin Plus\",\"Monkey Project\",\"TokenPay\",\"1717 Masonic Commemorative Token\",\"My Big Coin\",\"Unified Society USDEX\",\"Tokyo Coin\",\"BiblePay\",\"LitecoinCash\",\"Stipend\",\"Pushi\",\"Ellerium\",\"Velox\",\"Ontology\",\"Bitspace\",\"Briacoin\",\"Ignition\",\"MedicCoin\",\"Bitcoin Green\",\"Deviant Coin\",\"Abjcoin\",\"Semux\",\"Carebit\",\"Zealium\",\"Proton\",\"iDealCash\",\"Bitcoin Incognito\",\"HollyWoodCoin\",\"Swisscoin\",\"Xt3ch\",\"TheVig\",\"EmaratCoin\",\"Dekado\",\"Lynx\",\"Poseidon Quark\",\"BitcoinWSpectrum\",\"Muse\",\"Trivechain\",\"Dystem\",\"Giant\",\"Peony Coin\",\"Absolute Coin\",\"Vitae\",\"TPCash\",\"ARENON\",\"EUNO\",\"MMOCoin\",\"Ketan\",\"XDNA\",\"PAXEX\",\"ThunderStake\",\"Kcash\",\"Bettex coin\",\"BitMoney\",\"Junson Ming Chan Coin\",\"HerbCoin\",\"PirateCash\",\"Oduwa\",\"Galilel\",\"Crypto Sports\",\"Credit\",\"Dash Platinum\",\"Nasdacoin\",\"Beetle Coin\",\"Titan Coin\",\"Award\",\"Insane Coin\",\"ALAX\",\"LiteDoge\",\"TruckCoin\",\"OrangeCoin\",\"BitstarCoin\",\"NeosCoin\",\"HyperCoin\",\"PinkCoin\",\"AudioCoin\",\"IncaKoin\",\"Piggy Coin\",\"Genstake\",\"XiaoMiCoin\",\"CapriCoin\",\" ClubCoin\",\"Radium\",\"Creditbit \",\"OKCash\",\"Lisk\",\"HiCoin\",\"WhiteCoin\",\"FriendshipCoin\",\"Triangles Coin\",\"EOS\",\"Oxycoin\",\"TigerCash\",\"Particl\",\"Nxt\",\"ZEPHYR\",\"Gapcoin\",\"BitcoinPlus\"],\"legendgroup\":\"0\",\"marker\":{\"color\":[0,0,0,0,0,0,0,0,0,0,0,0,0,0,0,0,0,0,0,0,0,0,0,0,0,0,0,0,0,0,0,0,0,0,0,0,0,0,0,0,0,0,0,0,0,0,0,0,0,0,0,0,0,0,0,0,0,0,0,0,0,0,0,0,0,0,0,0,0,0,0,0,0,0,0,0,0,0,0,0,0,0,0,0,0,0,0,0,0,0,0,0,0,0,0,0,0,0,0,0,0,0,0,0,0,0,0,0,0,0,0,0,0,0,0,0,0,0,0,0,0,0,0,0,0,0,0,0,0,0,0,0,0,0,0,0,0,0,0,0,0,0,0,0,0,0,0,0,0,0,0,0,0,0,0,0,0,0,0,0,0,0,0,0,0,0,0,0,0,0,0,0,0,0,0,0,0,0,0,0,0,0,0,0,0,0,0,0,0,0,0,0,0,0,0,0,0,0,0,0,0,0,0,0,0,0,0,0,0,0,0,0,0,0,0,0,0,0,0,0,0,0,0,0,0,0,0,0,0,0,0,0,0,0,0,0,0,0,0,0,0,0,0,0,0,0,0,0,0,0,0,0,0,0,0,0,0,0,0,0,0,0,0,0,0,0,0,0,0,0,0,0,0,0,0,0,0,0,0,0,0,0,0,0,0,0,0,0,0,0],\"coloraxis\":\"coloraxis\",\"symbol\":\"circle\"},\"mode\":\"markers\",\"name\":\"0\",\"scene\":\"scene\",\"showlegend\":true,\"type\":\"scatter3d\",\"x\":[-0.3326585301424917,-0.31598885650151043,2.3068743115444916,-0.38148122568669307,-0.20950688323403802,-0.30741409402834263,-0.2795723454188335,-0.2333797991958065,-0.33231795806000625,-0.32489215697166796,-0.33115441419502073,-0.33265446463561255,-0.3326387387116669,0.6873508460294118,-0.359556077122073,-0.38569278257133166,-0.2907852885177616,-0.33071646393218207,-0.33345390459458696,-0.3813758736698959,-0.455742505974718,-0.0446184361920744,-0.2707045282086546,-0.3045677657172495,-0.27813398985779153,-0.2787564831428796,-0.34870756987368323,-0.32695833845504874,-0.33105957897210014,0.025646622707974378,-0.35334959957292106,-0.38174760731651886,-0.2601059375798479,-0.32095244349003493,-0.3816592102734765,-0.3078798769699231,-0.33133535921773094,-0.2645532253319551,-0.38162366843192547,-0.26057385338715405,-0.2785372464185281,-0.323757948816105,0.0754121828081661,-0.374451633279027,-0.30662546537304003,-0.35897737410985525,-0.30454801019111144,-0.27883190875082126,-0.29919978571202455,-0.33264059048566263,-0.27878407161706875,-0.35379465472013755,-0.3323748580974678,-0.38172912777232043,-0.5267168159752702,-0.39408044161351047,-0.32428225138759537,-0.30294885412012124,-0.2783055050783171,-0.29996778098555077,-0.23582224156000162,-0.081254544884137,-0.30738499469014746,-0.059059651266131184,-0.30744871396763623,-0.22375662796721843,-0.3322506898278505,-0.3028178843412137,-0.3788971787871161,0.8490827137197553,-0.30724869644120184,-0.043738093819352286,-0.3853759190285711,-0.3795711665534121,-0.30599173457673146,-0.3036590159886245,-0.34517074754757027,-0.3804637941677061,-0.375963536916216,-0.30853704395282194,-0.33228880579014397,-0.3307271164975449,-0.24968399671695815,-0.3412799734398209,-0.3812028119995276,-0.3314926856441937,-0.30742966120340454,-0.38171831555124697,-0.3324780455465055,-0.33263482094928626,-0.3028073747510634,-0.2846630075114493,0.05221415041260168,-0.38433254202374445,-0.3322488016044251,-0.3678749455151894,-0.3836608617686961,-0.251115179414844,-0.3985870530712259,-0.38340978588896624,-0.2624507348551462,3.7358079364608834,-0.38131068268914525,0.8538993400773813,-0.3816732050836052,-0.38479649469173194,-0.3321763381416047,-0.33233073603176855,-0.3853759190285711,-0.38124793784360556,-0.307292271057145,-0.33217707220441406,-0.33053693221987,-0.33232452825686304,-0.32791078593435774,-0.38170221263158094,-0.33153491538546154,0.33898492201782676,-0.33252388962077084,-0.3325944893255941,-0.38064913866126004,-0.3410025859803707,-0.32881972101637236,-0.307406064127731,-0.38161212468793865,-0.33237220577395227,-0.33249921761346246,-0.3044544987201478,-0.28527673170303824,-0.25088293208993273,-0.3133443863923735,-0.30419550327646483,-0.3808775697042345,-0.40206769271100734,-0.37961536807065965,-0.38362170658797484,-0.3807754082915389,-0.37801917123324796,-0.3767146941840598,-0.33244247797575927,-0.33244167044066436,-0.32556062628359544,0.2533058134529651,-0.3812540823951323,-0.28708943230503403,-0.3854102327743736,-0.33165283832478754,0.89903611422337,-0.2782622310455093,-0.3747413557312657,0.5887125827816586,-0.34670706705402465,-0.3452086537273421,-0.40677686667287966,-0.2784690296568441,0.1324814651364901,-0.2785398300156558,-0.3589781963993602,-0.4062815260675274,-0.38152657925202654,-0.3045287202180306,4.417759378965355,-0.38527645828447893,-0.3320775180297403,-0.3325774115465175,-0.26759614640147505,0.6090598704963511,-0.38146738674231356,-0.34370468139708493,-0.3325330109424306,-0.33423277881364255,0.4369249912525203,-0.3057516098660331,-0.3314674164208016,-0.38434345110476614,-0.33248332904886935,-0.40686860380067624,-0.38626463018883844,-0.3323536667849685,-0.10598030310215198,-0.3802595338944844,3.740666019219468,0.21302921959186394,-0.27520923562987215,-0.3298128547430131,-0.31869223802925795,-0.3805349922934075,0.081961224330815,-0.33149185703855344,-0.38084090401530113,-0.3796993859822212,-0.319052229294089,-0.3325995530697796,-0.3537665717720268,-0.3762455788524961,-0.2956693581548146,-0.3119623299397243,-0.3281428613558341,-0.24267523806391808,-0.07087286772971085,-0.31903993428170735,-0.36568357789518163,-0.38154383801278763,-0.2748442267565255,-0.30368836050561265,-0.3466565840157107,-0.3463058594097622,-0.33262691989095955,-0.3326086232911104,-0.2980673657897592,-0.37335663731080987,-0.3848707407676172,-0.33232501418013455,3.9290195557573484,-0.40553602474661915,-0.3850594927965554,-0.32472336479015446,-0.279172604334206,-0.21753129313816363,-0.30422279373141914,-0.13565425642840198,-0.30447497312366373,-0.32779288036833115,-0.3317988255878419,-0.20738744888426097,2.2444436797602023,-0.37624120255923554,-0.2783899788287187,1.012731765130316,-0.3518378921361829,-0.38064857632671056,-0.4085534499415877,-0.18515805854630804,-0.36193930556495535,-0.3793675544434215,-0.32550069028792855,-0.3533437990590249,-0.38101694361489313,-0.3017192744416681,-0.3841589258091171,-0.329565430798841,-0.35320512978785434,-0.1920511171661388,-0.1034209438246085,-0.2470590487959917,0.639943377734968,-0.14362363677690593,-0.4078477750721604,-0.27696721820977194,-0.33232898689368867,-0.4083040890983711,-0.3807656035924302,0.5745702719407142,-0.3538209110438045,-0.3318116934191963,-0.26929747030883494,-0.2824937001174318,-0.3785806040062436,-0.3812442768551935,3.7529131229785646,0.10278705721157659,-0.3787828029202697,-0.3311969399656899,-0.332022264164071,-0.2796049926459899,-0.33254081504616506,-0.37286846485897474,-0.24620784198916515,-0.0869728080999646,-0.36861505236780534,-0.33181881298725135,-0.32488011564966646,-0.3778113902450138,-0.33025734104583787,-0.38565167117138105,-0.3354579607632738,-0.3059285110100471,3.736199917193394,-0.11167317192767552,-0.32745089242897363,-0.3483332756398226,-0.2789391578982812,3.746072431857506,3.7473171287157174,-0.2604934594703385,-0.38558750861570523,-0.40331805695310147,2.4800385156501226,-0.33070309009214216,-0.30487160832515625],\"y\":[0.9411899303693296,0.9414058335325625,1.6651634760899083,1.2621356166383,1.5481248938614578,0.8330990971368157,0.7013660746257874,1.8792295358985687,0.9411901269035742,0.9414675866188615,0.9412437041671575,0.9411897185504019,0.9411899235739573,0.2838208876249829,0.9228096730910434,1.7170672593879157,0.16630721071646776,0.9411736345156647,1.1311331800002893,1.2621393830865557,2.10045667477187,0.8187524927378256,0.8326989670943182,0.8094474649273525,1.7971789981661745,1.7971567433596625,0.5428572232182033,0.9410936744412176,0.9411770843712305,0.9539997261674354,1.1304218874405552,1.2621418090816665,0.1835484082868713,1.7014315630323904,1.2621378261818899,0.9409327693708774,0.9411657961491622,0.07668756374611825,1.2621423115977894,0.18360311883017766,1.7971645813090789,0.940793745401824,0.6214875392162054,1.7266310847897195,0.8330944295044639,0.9228334913779322,0.8094597300451091,1.7971454741282196,0.8092937396489976,0.9411905717614213,1.7971486131381242,1.130391688431255,0.9411857841733374,1.2621424704596989,2.4792012966640424,1.8780742493936686,0.7774855199095223,0.8094454625616571,1.7971371467928918,0.8326666370676526,1.8793734655445538,0.9078593381285147,0.8331001374695498,1.2547111877051864,0.8331060749260322,1.5032738958085572,0.9411745067345249,0.8093636660365039,1.2619693897843622,0.7799786251666342,0.8330921512521133,0.2847251429235626,1.7170642997937686,1.262166040622701,0.8330065520122357,0.8328740068656015,1.4988689149128303,1.2620884072380256,1.6960388796921226,0.9406235187893707,0.9411714771370984,0.9411875414826052,1.6653180562682623,1.1303840351148777,1.262125567297275,0.9411673154635084,0.8330992549838949,1.2621407138371197,0.9411813807203299,0.9411907780285715,0.8095219596399569,0.16152417928913365,1.8854337011903677,1.717063024566688,0.9412045786366027,1.2615661868484866,1.7171113272063026,1.665407981954703,1.9224178529940386,1.7169338474772455,1.8831096855047347,1.7581027544420706,1.26213599861139,1.8370431791685566,1.2621417169765625,1.7170635831274492,0.9411796366782442,0.9411716449963777,1.7170642997937686,1.262116810095843,0.8331048812202279,0.9411835681574245,0.8804801981259949,0.9411818683963793,0.9408948422500332,1.2621398607531058,0.9411272286240587,0.8092383827293739,0.9411854568682738,0.9411898511598588,1.5726072272332279,0.6215624130489339,0.9409699767759393,0.8331000986048078,1.2621399710385572,0.9411858789967644,0.9411799570319758,0.8094237817100572,0.060169211339163524,1.665407694697463,0.9411660414930336,0.8094477386421206,1.2621014755411044,1.9249074239727348,1.2621394567073947,1.7170625124519903,1.2621051279218234,1.7170558431189535,1.2619645466791334,0.941182500762153,0.9411772518027013,0.9407292977375622,0.666846694908109,1.262130878229142,0.8086551122750829,1.7170559291365148,0.9411508739766649,1.8556695287314682,0.7012789042796986,1.696035067027604,1.9021881231957005,1.4988711410636104,1.4988461280145422,1.8551900341662921,1.7971455884204373,0.9220996679305226,1.7971509882592165,1.649337410450431,1.8552077431273266,1.2621429198848526,0.8094479850811924,2.8599739194853266,1.717038137007775,0.9411762314444623,0.9411898300370508,1.5485550655873361,1.6596907054867422,1.262132539443578,0.5427530189774048,0.9411831781043775,0.7681713452185519,0.9508436119905057,0.8331028102893578,1.4985658504600328,1.8335006823468625,0.9411811918294203,1.7042728726164147,1.66383690632879,0.9411902649911282,0.7011515938562658,1.2620921378112457,1.7580085397484433,1.4974577496137322,1.797133539304895,0.9411416443846261,1.36712486342907,1.5726077361371131,0.9202935148184961,0.9411244816641204,1.2621385058981511,1.5725661709260002,0.9410334189896745,0.9411891813317833,1.1303919780365645,1.6960348687068711,-0.01583291937948739,0.18340496505996678,0.9411856318614632,1.6651399927220967,2.0539470047303814,2.415198116214173,0.9151526589931231,1.262131235008944,1.2512719493179654,0.8094018790413934,1.6393439920010002,1.4988569090544426,0.9411889173287837,0.9411881426712032,0.809334224882918,1.734538840634061,1.7170337819156118,0.9411804222433333,1.7773489026036513,1.7043205137552357,1.717032748950003,0.795176664986579,0.9394430372598979,0.7666380713942964,0.8094527827344616,0.9409462638218576,0.8094309080222477,1.8860644084797364,0.9411606569725405,1.7476093501939332,0.04710100310043903,1.5723111778116163,0.7013456490317923,1.6715806012633534,0.9269156502467556,1.5726029609950012,1.7043518358007852,0.8016691399669917,0.8998956286396311,1.5725923220691498,0.9407314405140685,1.1303828033441625,1.2621322122925474,0.8093751189005239,1.7169720744416808,0.917971753938191,1.1303556133530086,0.9333577702259587,1.4865503902002029,1.1195372615403973,0.48254600402406816,1.1379198168711324,1.7043421671828958,0.01550943231919649,0.9411867097279781,1.7043508314102074,1.5726042279426145,0.9201879382373346,1.1303909640564722,0.9411601969336874,1.2511559200768492,1.88418339017133,1.2619549896205515,1.2621383726915953,1.758089191729375,0.9317539165451201,1.262247804751771,0.9410993057485321,0.9411739175449025,0.7013588351339463,0.9411941388410252,1.262102053526969,0.9367795367538346,0.8408600933452729,1.2618969224211636,0.9412092353378223,0.9411822609562231,1.262133940603406,0.941161473038882,1.7170622996513758,0.8900788085913993,0.8330929139307004,1.758091822807019,0.8092049976790531,0.9411617919511304,0.5428303143485039,1.7971501268132342,1.7585590200240189,1.7586035192795277,0.701342704879049,1.7170648548988268,1.9698000982945292,0.7878509128225147,0.9410812418951846,0.8094474466723246],\"z\":[-0.5812781971701988,-0.5815891518240545,-0.620789705813622,-0.5116636494805176,-0.17924296647749216,-0.38746330832647724,-0.07542670405047434,-0.6682656039656923,-0.5812835903975776,-0.5814633942012826,-0.5813140643432737,-0.5812782127786251,-0.5812785064346562,-0.4228903078851088,-0.5506969934954326,-0.03470145642878827,-0.3114023859534156,-0.5813049850224021,-0.20011042421218114,-0.5116661617059266,-0.49602586384683667,-0.2754447401003602,-0.3879486868281384,-0.2692433530798373,-0.6102578454148355,-0.6102430014327763,-0.33941110404933195,-0.5813457946061634,-0.5813003822566479,-0.5898223459864257,-0.19963599124014936,-0.5116608763378581,0.15235518974240655,-0.2624144896769958,-0.5116613575267975,-0.5816087667212739,-0.5812934806195967,-0.4039799899108065,-0.5116629371587575,0.15235007876156942,-0.6102482293542352,-0.5813277514762749,-0.46255895002803005,-0.2229819024464301,-0.3874746302774662,-0.5507115058322475,-0.2692464564794256,-0.6102392505640699,-0.2692926457691812,-0.5812786249662977,-0.610240716667045,-0.19962212466865795,-0.5812817078425774,-0.5116613171639712,-0.11526993594436913,-0.832713361447281,-0.04324788797376455,-0.26926832106697,-0.6102456210076194,-0.3874817632868938,-0.6682600242328608,-0.326877523318452,-0.38746400222963173,-0.5150363025277855,-0.387464353703262,-0.5693117066922946,-0.5812810896011203,-0.26925175023421977,-0.5116663752508939,-0.2806497305221574,-0.38746432399606495,-0.4116149431119852,-0.034705758579169216,-0.5117005742521653,-0.3874645701636459,-0.38747101936065903,-0.566401822179852,-0.5116688765435651,-0.2598381787797896,-0.5815280202835078,-0.5812798010796781,-0.5813079847825212,-0.2982016619856659,-0.1998169169679792,-0.5116657332426738,-0.5812913559024737,-0.387463099800507,-0.5116610869251222,-0.5812790845444115,-0.5812787625467288,-0.26928796369221414,-0.17523122618368156,-0.8531525654499034,-0.034721853749713955,-0.5812879675684807,-0.51174765055528,-0.03474340208965699,-0.29819966505685436,-0.7717274069333224,-0.034706927385221666,-0.8476817001526236,-0.19818256822136113,-0.51166641473828,-0.6371140395572097,-0.511662023802918,-0.03471469486661847,-0.5812834254964564,-0.5812791808184183,-0.034705758579169216,-0.5116630302806173,-0.3874665386965859,-0.5812843092894108,-0.19769006028938002,-0.5812816064960112,-0.5812855566998394,-0.511661145537399,-0.5812815636820242,-0.27930232875285543,-0.5812792928586135,-0.5812791848524781,-0.18080317984804126,-0.23840345888883008,-0.5812883929308655,-0.38746366249664593,-0.5116625854273502,-0.5812817710899146,-0.5812784278319847,-0.26923973845642374,-0.3076879302194367,-0.29820324693756334,-0.5815760734059945,-0.26924926156078427,-0.5116653545209119,-0.7046590299552609,-0.5116938261049728,-0.03473290034864014,-0.5116677906631376,-0.03481936582699285,-0.5116995468722926,-0.5812798981793464,-0.581278715508705,-0.5812847648085837,-0.07593407645622746,-0.5116661375388865,-0.26933739579760785,-0.034703313442533176,-0.5812850965638175,-0.6806841321576146,-0.07542742715468638,-0.2598565041035551,-0.9074462242362765,-0.5663782022124351,-0.5663960375966788,-0.6044167821801243,-0.6102449753799479,-0.5842354775831137,-0.6102450932172593,-0.23127580493302677,-0.6044285940779153,-0.5116646004092864,-0.26924408472016836,5.509333280238376,-0.03470136246177836,-0.5812842019257775,-0.5812794482379334,-0.17842867470667517,-0.14437571691298265,-0.5116631660388171,-0.3394659406971424,-0.5812786306680798,-0.07430391545623305,-0.5955624680642011,-0.38749026219586513,-0.566548007109017,-0.5739693549660096,-0.5812789585539532,-0.49284991718334875,-0.09735205984829183,-0.5812830610613702,-0.07810401391602105,-0.5116729338910685,-0.19823740571921408,-0.5748466350801198,-0.6102934244340914,-0.5813118904816343,-0.25434129744871214,-0.18080508833831713,-0.5830307713379033,-0.5812816143174672,-0.5116743633046418,-0.1808087453094786,-0.5814562330248741,-0.5812789527887274,-0.19962263164589675,-0.2598328360615823,0.15000652046423069,-0.35855413654097457,-0.5813481340037681,-0.2982711794859172,5.982223039186769,2.5693689084865494,-0.5010554687684831,-0.5116616683590708,-0.37511796265199954,-0.2692467822515898,-0.1383259237199413,-0.5663812618519188,-0.5812784628882594,-0.5812785738110591,-0.26931964946771475,-0.23414751062866548,-0.03470674220933664,-0.5812812695305475,-0.14152633272503448,-0.4928816938788486,-0.03470354273880271,-0.033011174186074604,-0.5817203377221221,0.09329231566539387,-0.269249981679166,-0.5843165348903896,-0.2692410398032848,-0.8473284258178402,-0.5812850318202396,-0.35622565252751204,-0.45733469869219034,-0.1808049839864283,-0.07544062082668397,-0.16431330167444133,-0.34506055691942267,-0.18080221712308253,-0.4928414401246076,-0.2693472392137554,-0.3863406531419771,-0.1808199119494974,-0.5812861940430283,-0.1996271816606533,-0.5116701654623186,-0.2692716113876469,-0.03470386809102656,-0.511974135197149,-0.19962316736173377,-0.5817027199854407,-0.24718958827848642,-0.06308009073618123,0.11148694795184907,-0.20463711896903233,-0.49285032045751315,0.06403283287890692,-0.5812826389987664,-0.4928451274486369,-0.18080066780712573,-0.5907428435403085,-0.19962154736678048,-0.5812847249737847,-0.3751786474813156,-0.847611454170528,-0.5116680674904035,-0.5116679982525626,-0.19844810576388888,-0.5859677203756813,-0.5117315752603913,-0.581280512460101,-0.5812845427055848,-0.07542454268725972,-0.5812810042125794,-0.5117912641011606,-0.5816314660936871,-0.39269262201136995,-0.5118113464916192,-0.581295780746021,-0.5813986057124767,-0.5117209002525737,-0.5813094257094166,-0.03470097257011335,-0.3296384081373557,-0.387485230363815,-0.1981862345565573,-0.27221742397932586,-0.5813535718463101,-0.33941085411243027,-0.6102386258457635,-0.19844767163025354,-0.19847735268589695,-0.07572100393250462,-0.03470256211257787,0.3110283044153787,-0.10986122713334641,-0.5812841543565955,-0.2692385772655215]},{\"customdata\":[[\"SHA-256\"],[\"Ethash\"],[\"Scrypt\"],[\"CryptoNight-V7\"],[\"Ethash\"],[\"Equihash\"],[\"Multiple\"],[\"Scrypt\"],[\"X11\"],[\"Scrypt\"],[\"Multiple\"],[\"Scrypt\"],[\"SHA-256\"],[\"Scrypt\"],[\"Scrypt\"],[\"Quark\"],[\"Groestl\"],[\"Scrypt\"],[\"Scrypt\"],[\"Scrypt\"],[\"X11\"],[\"Multiple\"],[\"SHA-256\"],[\"Scrypt\"],[\"Scrypt\"],[\"Scrypt\"],[\"Scrypt\"],[\"Scrypt\"],[\"NeoScrypt\"],[\"Scrypt\"],[\"Scrypt\"],[\"Scrypt\"],[\"Scrypt\"],[\"SHA-256\"],[\"Scrypt\"],[\"Scrypt\"],[\"Scrypt\"],[\"Scrypt\"],[\"HybridScryptHash256\"],[\"Scrypt\"],[\"Scrypt\"],[\"SHA-256\"],[\"Scrypt\"],[\"Scrypt\"],[\"Scrypt\"],[\"Scrypt\"],[\"SHA-256\"],[\"SHA-256\"],[\"SHA-256\"],[\"SHA-256\"],[\"SHA-256\"],[\"X11\"],[\"Scrypt\"],[\"Lyra2REv2\"],[\"Scrypt\"],[\"SHA-256\"],[\"CryptoNight\"],[\"CryptoNight\"],[\"Scrypt\"],[\"Scrypt\"],[\"Scrypt\"],[\"Scrypt\"],[\"Scrypt\"],[\"Scrypt\"],[\"Stanford Folding\"],[\"Multiple\"],[\"QuBit\"],[\"Scrypt\"],[\"Scrypt\"],[\"M7 POW\"],[\"Scrypt\"],[\"SHA-256\"],[\"Scrypt\"],[\"X11\"],[\"Lyra2RE\"],[\"SHA-256\"],[\"X11\"],[\"Scrypt\"],[\"Scrypt\"],[\"Ethash\"],[\"Blake2b\"],[\"X11\"],[\"SHA-256\"],[\"Scrypt\"],[\"1GB AES Pattern Search\"],[\"Scrypt\"],[\"SHA-256\"],[\"X11\"],[\"Dagger\"],[\"Scrypt\"],[\"X11GOST\"],[\"Scrypt\"],[\"X11\"],[\"Scrypt\"],[\"X11\"],[\"Equihash\"],[\"CryptoNight\"],[\"SHA-256\"],[\"Multiple\"],[\"Scrypt\"],[\"SHA-256\"],[\"Scrypt\"],[\"Lyra2Z\"],[\"Ethash\"],[\"Equihash\"],[\"Scrypt\"],[\"X11\"],[\"X11\"],[\"CryptoNight\"],[\"Scrypt\"],[\"CryptoNight\"],[\"Lyra2RE\"],[\"X11\"],[\"CryptoNight-V7\"],[\"Scrypt\"],[\"X11\"],[\"Equihash\"],[\"Scrypt\"],[\"Lyra2RE\"],[\"Dagger-Hashimoto\"],[\"Scrypt\"],[\"NIST5\"],[\"Scrypt\"],[\"SHA-256\"],[\"Scrypt\"],[\"CryptoNight-V7\"],[\"Argon2d\"],[\"Blake2b\"],[\"Cloverhash\"],[\"CryptoNight\"],[\"X11\"],[\"Scrypt\"],[\"Scrypt\"],[\"X11\"],[\"X11\"],[\"CryptoNight\"],[\"Time Travel\"],[\"Scrypt\"],[\"Keccak\"],[\"X11\"],[\"SHA-256\"],[\"Scrypt\"],[\"Scrypt\"],[\"Scrypt\"],[\"Scrypt\"],[\"Scrypt\"],[\"Scrypt\"],[\"CryptoNight\"],[\"Equihash\"],[\"X11\"],[\"NeoScrypt\"],[\"Equihash\"],[\"Dagger\"],[\"Scrypt\"],[\"X11\"],[\"NeoScrypt\"],[\"Ethash\"],[\"NeoScrypt\"],[\"Multiple\"],[\"CryptoNight\"],[\"CryptoNight\"],[\"Ethash\"],[\"X11\"],[\"CryptoNight-V7\"],[\"Scrypt\"],[\"BLAKE256\"],[\"X11\"],[\"NeoScrypt\"],[\"NeoScrypt\"],[\"Scrypt\"],[\"X11\"],[\"SHA-256\"],[\"C11\"],[\"CryptoNight\"],[\"SkunkHash\"],[\"CryptoNight\"],[\"Scrypt\"],[\"Dagger\"],[\"Lyra2REv2\"],[\"Scrypt\"],[\"Scrypt\"],[\"X11\"],[\"Ethash\"],[\"CryptoNight\"],[\"Scrypt\"],[\"IMesh\"],[\"Equihash\"],[\"Lyra2Z\"],[\"X11\"],[\"CryptoNight\"],[\"NIST5\"],[\"Lyra2RE\"],[\"Tribus\"],[\"Lyra2Z\"],[\"CryptoNight\"],[\"CryptoNight Heavy\"],[\"CryptoNight\"],[\"Jump Consistent Hash\"],[\"CryptoNight\"],[\"X16R\"],[\"HMQ1725\"],[\"X11\"],[\"Scrypt\"],[\"CryptoNight-V7\"],[\"Cryptonight-GPU\"],[\"XEVAN\"],[\"CryptoNight Heavy\"],[\"SHA-256\"],[\"X11\"],[\"X16R\"],[\"Equihash\"],[\"Lyra2Z\"],[\"SHA-256\"],[\"CryptoNight\"],[\"Blake\"],[\"Blake\"],[\"Exosis\"],[\"Scrypt\"],[\"Equihash\"],[\"Equihash\"],[\"QuBit\"],[\"SHA-256\"],[\"X13\"],[\"SHA-256\"],[\"Scrypt\"],[\"NeoScrypt\"],[\"Blake\"],[\"Scrypt\"],[\"SHA-256\"],[\"Scrypt\"],[\"Groestl\"],[\"Scrypt\"],[\"Scrypt\"],[\"Multiple\"],[\"Equihash+Scrypt\"],[\"Ethash\"],[\"CryptoNight\"],[\"Equihash\"]],\"hovertemplate\":\"<b>%{hovertext}</b><br><br>Class=%{marker.color}<br>PCA 1=%{x}<br>PCA 2=%{y}<br>PCA 3=%{z}<br>Algorithm=%{customdata[0]}<extra></extra>\",\"hovertext\":[\"Bitcoin\",\"Ethereum\",\"Litecoin\",\"Monero\",\"Ethereum Classic\",\"ZCash\",\"DigiByte\",\"ProsperCoin\",\"Spreadcoin\",\"Argentum\",\"MyriadCoin\",\"MoonCoin\",\"ZetaCoin\",\"SexCoin\",\"Quatloo\",\"QuarkCoin\",\"Riecoin\",\"Digitalcoin \",\"Catcoin\",\"CannaCoin\",\"CryptCoin\",\"Verge\",\"DevCoin\",\"EarthCoin\",\"E-Gulden\",\"Einsteinium\",\"Emerald\",\"Franko\",\"FeatherCoin\",\"GrandCoin\",\"GlobalCoin\",\"GoldCoin\",\"Infinite Coin\",\"IXcoin\",\"KrugerCoin\",\"LuckyCoin\",\"Litebar \",\"MegaCoin\",\"MediterraneanCoin\",\"MinCoin\",\"NobleCoin\",\"Namecoin\",\"NyanCoin\",\"RonPaulCoin\",\"StableCoin\",\"SmartCoin\",\"SysCoin\",\"TigerCoin\",\"TerraCoin\",\"UnbreakableCoin\",\"Unobtanium\",\"UroCoin\",\"ViaCoin\",\"Vertcoin\",\"WorldCoin\",\"JouleCoin\",\"ByteCoin\",\"DigitalNote \",\"MonaCoin\",\"Gulden\",\"PesetaCoin\",\"Wild Beast Coin\",\"Flo\",\"ArtByte\",\"Folding Coin\",\"Unitus\",\"CypherPunkCoin\",\"OmniCron\",\"GreenCoin\",\"Cryptonite\",\"MasterCoin\",\"SoonCoin\",\"1Credit\",\"MarsCoin \",\"Crypto\",\"Anarchists Prime\",\"BowsCoin\",\"Song Coin\",\"BitZeny\",\"Expanse\",\"Siacoin\",\"MindCoin\",\"I0coin\",\"Revolution VR\",\"HOdlcoin\",\"Gamecredits\",\"CarpeDiemCoin\",\"Adzcoin\",\"SoilCoin\",\"YoCoin\",\"SibCoin\",\"Francs\",\"BolivarCoin\",\"Omni\",\"PizzaCoin\",\"Komodo\",\"Karbo\",\"ZayedCoin\",\"Circuits of Value\",\"DopeCoin\",\"DollarCoin\",\"Shilling\",\"ZCoin\",\"Elementrem\",\"ZClassic\",\"KiloCoin\",\"ArtexCoin\",\"Kurrent\",\"Cannabis Industry Coin\",\"OsmiumCoin\",\"Bikercoins\",\"HexxCoin\",\"PacCoin\",\"Citadel\",\"BeaverCoin\",\"VaultCoin\",\"Zero\",\"Canada eCoin\",\"Zoin\",\"DubaiCoin\",\"EB3coin\",\"Coinonat\",\"BenjiRolls\",\"ILCoin\",\"EquiTrader\",\"Quantum Resistant Ledger\",\"Dynamic\",\"Nano\",\"ChanCoin\",\"Dinastycoin\",\"DigitalPrice\",\"Unify\",\"SocialCoin\",\"ArcticCoin\",\"DAS\",\"LeviarCoin\",\"Bitcore\",\"gCn Coin\",\"SmartCash\",\"Onix\",\"Bitcoin Cash\",\"Sojourn Coin\",\"NewYorkCoin\",\"FrazCoin\",\"Kronecoin\",\"AdCoin\",\"Linx\",\"Sumokoin\",\"BitcoinZ\",\"Elements\",\"VIVO Coin\",\"Bitcoin Gold\",\"Pirl\",\"eBoost\",\"Pura\",\"Innova\",\"Ellaism\",\"GoByte\",\"SHIELD\",\"UltraNote\",\"BitCoal\",\"DaxxCoin\",\"AC3\",\"Lethean\",\"PopularCoin\",\"Photon\",\"Sucre\",\"SparksPay\",\"GunCoin\",\"IrishCoin\",\"Pioneer Coin\",\"UnitedBitcoin\",\"Interzone\",\"TurtleCoin\",\"MUNcoin\",\"Niobio Cash\",\"ShareChain\",\"Travelflex\",\"KREDS\",\"BitFlip\",\"LottoCoin\",\"Crypto Improvement Fund\",\"Callisto Network\",\"BitTube\",\"Poseidon\",\"Aidos Kuneen\",\"Bitrolium\",\"Alpenschillling\",\"FuturoCoin\",\"Monero Classic\",\"Jumpcoin\",\"Infinex\",\"KEYCO\",\"GINcoin\",\"PlatinCoin\",\"Loki\",\"Newton Coin\",\"MassGrid\",\"PluraCoin\",\"Motion\",\"PlusOneCoin\",\"Axe\",\"HexCoin\",\"Webchain\",\"Ryo\",\"Urals Coin\",\"Qwertycoin\",\"Project Pai\",\"Azart\",\"Xchange\",\"CrypticCoin\",\"Actinium\",\"Bitcoin SV\",\"FREDEnergy\",\"Universal Molecule\",\"Lithium\",\"Exosis\",\"Block-Logic\",\"Beam\",\"Bithereum\",\"SLICE\",\"BLAST\",\"Bitcoin Rhodium\",\"GlobalToken\",\"SolarCoin\",\"UFO Coin\",\"BlakeCoin\",\"Crypto Escudo\",\"Crown Coin\",\"SmileyCoin\",\"Groestlcoin\",\"Bata\",\"Pakcoin\",\"JoinCoin\",\"Vollar\",\"Reality Clash\",\"Beldex\",\"Horizen\"],\"legendgroup\":\"3\",\"marker\":{\"color\":[3,3,3,3,3,3,3,3,3,3,3,3,3,3,3,3,3,3,3,3,3,3,3,3,3,3,3,3,3,3,3,3,3,3,3,3,3,3,3,3,3,3,3,3,3,3,3,3,3,3,3,3,3,3,3,3,3,3,3,3,3,3,3,3,3,3,3,3,3,3,3,3,3,3,3,3,3,3,3,3,3,3,3,3,3,3,3,3,3,3,3,3,3,3,3,3,3,3,3,3,3,3,3,3,3,3,3,3,3,3,3,3,3,3,3,3,3,3,3,3,3,3,3,3,3,3,3,3,3,3,3,3,3,3,3,3,3,3,3,3,3,3,3,3,3,3,3,3,3,3,3,3,3,3,3,3,3,3,3,3,3,3,3,3,3,3,3,3,3,3,3,3,3,3,3,3,3,3,3,3,3,3,3,3,3,3,3,3,3,3,3,3,3,3,3,3,3,3,3,3,3,3,3,3,3,3,3,3,3,3,3,3,3,3,3,3,3,3,3,3,3,3,3,3,3,3,3,3,3,3,3,3,3,3,3,3,3,3],\"coloraxis\":\"coloraxis\",\"symbol\":\"diamond\"},\"mode\":\"markers\",\"name\":\"3\",\"scene\":\"scene\",\"showlegend\":true,\"type\":\"scatter3d\",\"x\":[-0.14410956016668516,-0.15905445072896965,-0.16818406618502812,-0.1486504548126494,-0.15749580638225097,-0.14230739400798156,0.16187239355236818,-0.16933083462789736,-0.21836125060839845,-0.16894720630053653,-0.0916480613962091,2.5536984383800467,-0.14119314700548558,-0.16620135465528754,-0.168751155700679,-0.24062999171481714,-0.19531795057841317,-0.16879992933144422,-0.16931309209296178,-0.1693995859677986,-0.2184506352389249,0.18563487295010286,0.2339107405711489,0.07944519321992054,-0.1691457617248353,-0.1647490692401368,-0.16908503064238178,-0.1694566156621233,-0.18073213355977436,-0.14866949864308934,-0.16825116401144255,-0.1685287463950737,1.5802593245554681,-0.14407091096593252,-0.16581690875431682,-0.16917221567387064,-0.16952719299707703,-0.16878610213657919,-0.14846961738071385,-0.1694084056364154,-0.03425446914669689,-0.14414855893890735,-0.16306939655881067,-0.1693878415381382,-0.16748134977533988,-0.16887434913386357,-0.13129479045689646,-0.1436120788338018,-0.1438994202680151,-0.14388241222790668,-0.1444733714937301,-0.21862460627484281,-0.16910419501920457,-0.19814514043660514,-0.1662060770754847,-0.14367940526249398,3.8602409907241233,0.45763926644791264,-0.16797127601185935,-0.15256337958900235,-0.16668950039865674,-0.16952940388699994,-0.16655447211894214,-0.15277180260363787,-0.14011986502586954,-0.12567024688258313,-0.17874505801090995,-0.16940242059234503,-0.04228312780541793,-0.12447150249122395,-0.16953829991352012,-0.1441763498763161,0.4828958150673176,-0.2180115098568033,-0.15487234168445788,-0.14391609978263217,-0.21829654138693283,-0.16766126140767706,-0.16685312926279097,-0.1601224314544749,0.37663293217033855,-0.21833195320668633,-0.1440720338594072,-0.16549429424329132,-0.15183812175474298,-0.1681009926162898,0.27460508085631974,-0.21749229757130437,-0.16827349935061212,-0.1683485728781791,-0.1505309161863757,-0.16932811801330058,-0.21829518261435074,-0.16953835843537807,-0.21844522621883083,-0.22218645999715914,0.3024731195089497,-0.14433223995060543,-0.1057335812585322,-0.16670378250516438,-0.1442908499884311,-0.16920160803034676,-0.14398442290426025,-0.159864467534442,-0.14232902153458363,-0.09623310694045137,-0.20502224841522987,-0.216272411237121,0.30246747595001994,-0.16952008834573273,0.3025982535069126,-0.15541302411596442,0.4971031704380681,-0.14741464056447426,-0.16948836039808332,-0.21117618620973042,-0.14234140060346662,-0.16762076406357226,-0.15513127254195497,-0.1443125945605972,-0.14039968617344373,-0.18325478020767955,-0.16905053965748792,-0.11064214375784907,-0.16887253429586047,-0.14727227247199287,-0.16459581286647104,-0.023864247989309747,-0.1769509363879455,0.3386061227096472,-0.21750070220347867,-0.16919192724107704,-0.16895521772878958,-0.21789555591185453,-0.21847326971096231,0.30286264043176003,-0.15483741218246266,3.24172507917704,-0.10626050193156554,-0.20934144934798435,-0.1441087239788498,-0.09508050245258162,1.578327457869267,-0.16928982252318311,-0.1687412280949727,-0.16844206544347567,-0.16842899003418677,0.3030463238265448,0.0700785369312184,-0.17283888328383687,-0.18542300674287662,-0.14218737901700781,-0.16703204971645874,-0.16761897235029158,-0.2140156849772571,-0.1852683517240806,-0.15822899012871175,-0.18536859955018165,-0.11589762070818381,1.1407782306136405,0.30245024105353246,-0.08308614795458831,-0.21375722314120482,-0.13637946144920676,-0.08563943777255237,1.087606052001146,-0.21844725611260257,-0.18542056153245992,-0.17845527050753007,-0.16854048002089586,-0.21837262882351435,-0.14408811101732977,-0.20254122892198806,8.043593809213224,-0.15765880574299682,0.30632640530959,0.023591181011847907,-0.16653499915872505,-0.1836966418178418,-0.169114472257737,0.13810250084926165,-0.21251091177690704,-0.11124754105937978,0.31037677454344187,-0.1693515893759742,-0.13432715611434015,-0.141178002741752,-0.14176698621755832,-0.21754149446899398,0.3026328457901466,-0.18331425812166982,-0.15525819487799328,-0.15277428337657703,-0.14406883541387613,0.3065627031695219,0.584688890428891,2.111912716832434,-0.14930103284886023,0.3162439536874438,-0.189510442831295,-0.13801930922014663,-0.21842940820405343,-0.16937618368749008,-0.136259627941819,-0.15240164777406986,-0.11049708325069454,3.108387231599608,-0.10391789647782032,-0.2184007617410936,-0.18893792316159233,-0.03688590980950885,-0.1434663288984631,-0.1441087615625792,0.38242808461315486,-0.12993828586482056,-0.13033046388540515,-0.13832618223259122,-0.16826798718122796,-0.14024665124829147,-0.14202012108849696,-0.1779556938610038,-0.14338457164300958,-0.1158042667039902,-0.14225200773642294,0.5268338130844384,-0.11055158617085863,-0.08077503616465344,-0.15292246202517967,-0.14389879041255346,0.5466253135860178,-0.1948787467370116,-0.16945305152145557,-0.16740785030688995,-0.12640549134808485,-0.11559436649535007,-0.15989764141139862,0.3242173073312204,-0.1423084514705177],\"y\":[-1.2940569143967604,-2.0112074905659134,-1.1859849780536396,-2.227514283014399,-2.0113017893292544,-1.9798761823168103,-1.8165560275365205,-1.1859809696685673,-0.8650262786805095,-1.1859979733284267,-1.812046240046455,-1.3629406400246686,-1.2940589476168896,-1.1860326827808705,-1.1860166823617344,-0.4228125331935929,-1.2043705556495679,-1.1859813963605814,-1.1859803353538025,-1.1859778124947362,-0.8650280454967182,-1.812531028013154,-1.2955294766509549,-1.186716226245683,-1.185974353112619,-1.186016333263599,-1.185980040205107,-1.1859784910349553,-1.5843698548206189,-1.1862421722639627,-1.1859773754079668,-1.1859889035841302,-1.18814000038283,-1.2940555326461356,-1.186029954896362,-1.1859745844794543,-1.185973951921094,-1.185976497092351,-2.171653667200035,-1.1859758846216042,-1.1918526974122996,-1.2940583086449395,-1.1859828638632959,-1.18598300772711,-1.1860784439873215,-1.1859862244092245,-1.2942181490159472,-1.2940577116021679,-1.2940644038667013,-1.2940909426454426,-1.2940550974437635,-0.8650214061220589,-1.1859742958388133,-1.2272660957353483,-1.1860438680836936,-1.2940586812640398,-2.278618364432898,-2.2756271852634877,-1.1859924585002517,-1.1865666887056519,-1.185990401480407,-1.1859749439537024,-1.1859810119767522,-1.1860883545933656,-2.1360674244278033,-1.8118337891176102,-1.5055754253565592,-1.1859709351967276,-1.1885677787098452,-2.1817240586311972,-1.1859738271274487,-1.2940593022009337,-1.228372076261076,-0.865023062146295,-2.166491828668857,-1.2940734014082382,-0.8650246796464137,-1.1860564718606759,-1.186055984426249,-2.011257749796438,-2.154993058388958,-0.8650223737052628,-1.294055572790789,-1.1859788289930482,-2.183607853149093,-1.185982008083931,-1.2945220184916857,-0.8650409336564353,-2.143121918295745,-1.1860511191028413,-2.2386860268146034,-1.1859801581562825,-0.8650274886303569,-1.1859738270550653,-0.8650328528510899,-1.2314030669464693,-2.274037782497449,-1.2940568285460043,-1.8119783002717638,-1.186014925599431,-1.294055993403217,-1.1859827791917303,-2.2151176290114143,-2.0112551705256028,-1.979876955524218,-1.1904965486672825,-0.8648923023449328,-0.8651001936189675,-2.2740458425549734,-1.1859746725549407,-2.2740440246777553,-2.166471303451906,-0.9108724041720155,-2.227602263542496,-1.185973999538454,-0.8654695074513099,-1.9798745405277571,-1.1859762696411973,-2.166469088824089,-2.1971169410170073,-1.1877892092301416,-0.6283076293926427,-1.1859813220550883,-1.294631391911719,-1.1860010188467585,-2.2275400224990194,-2.1944956881383026,-2.1695543591020057,-2.1148502797964026,-2.274167625511951,-0.8650526643772183,-1.1859747725421232,-1.1860061180398345,-0.8650382052079877,-0.8650294976548564,-2.274055289881046,-2.191465791231137,-1.2068951150161504,-1.2103503781647693,-0.8654753526673389,-1.2940568845021416,-1.1908125370044798,-1.123485298071245,-1.1859787890511964,-1.186004897193005,-1.1860056320515808,-1.1860051645915928,-2.274073647287552,-1.987270351984182,-0.8646704198177004,-1.5843168119695055,-1.9798718916514053,-2.1431677674470575,-1.1859762055855145,-0.8651066688471641,-1.5843241419126155,-2.0113780087659316,-1.5843182959275048,-1.8119559048410516,-2.3047835089644173,-2.2740403864028678,-2.0156354456064016,-0.865240306634132,-2.227789601745472,-1.1865458616538125,-1.2476278059113337,-0.8650292105919947,-1.5843124382083018,-1.5844056145328174,-1.1859834324251375,-0.865028828635122,-1.2940555517649508,-1.2120124794600189,-2.711667604738418,-2.231101056989261,-2.2741329146376055,-1.186212701101832,-2.1431097723650785,-1.2274753669504617,-1.1859868078976765,-1.1881246634196019,-0.8651600301391774,-2.014141879453721,-2.274462464781596,-1.1859817116732025,-2.1992710898098524,-1.9798708104893399,-2.2152373824180955,-0.8650541227447188,-2.2740380729897876,-0.6282902872255385,-2.16647739841575,-2.230000575314795,-2.2151128599945342,-2.2743130661651483,-2.287908561827211,-2.340789051224505,-2.179417666855596,-2.2742527067974545,-1.2002328077005766,-2.218946357257709,-0.8650294297784678,-1.1859833805356292,-2.228321480754955,-2.075293808183935,-0.8759546607437386,-2.32936005871743,-1.2941052366641845,-0.8650312631980408,-1.20026800787519,-1.98152161523077,-2.215143827429694,-1.2940568858458006,-2.276944436620985,-2.202284200068531,-2.2022411473499304,-2.2659003590391067,-1.1860136963735481,-1.979975248134363,-1.9798729744633359,-1.5056186437748256,-1.294061714061327,-0.33001407851205466,-1.2940955202795639,-1.2311590267615093,-1.5844783508984108,-2.2054521968100858,-1.1860937408302223,-1.294064381348689,-1.1960892818815962,-1.2043698558364344,-1.185973908808249,-1.186027237756039,-1.8118620751935328,-2.2495606111432878,-2.011255129494145,-2.274253565986056,-1.9798762201222362],\"z\":[0.18721470018662004,0.4126188050893433,-0.006614258259909785,0.35459479959517665,0.4126158023420772,0.32667833579589106,0.4115631595839068,-0.0065971618175314425,0.06301859733439209,-0.006599314193224132,0.4145175190283256,-0.009061364496610639,0.18716936277992938,-0.006634531637007654,-0.006598132411722831,0.08176593434171611,0.023971868548280907,-0.006605402180195979,-0.006597584906224161,-0.006596801108343667,0.06302040342319158,0.41027336632863065,0.18161347764406024,-0.010336591930690505,-0.006601575068113368,-0.0066610621633008855,-0.006601233682482759,-0.00659575096799886,0.23520973494737998,-0.006862151093290096,-0.006614935891286956,-0.006607951307728759,-0.03358169605348127,0.18721377855733407,-0.006641190342852807,-0.006601106936005175,-0.006595676293736536,-0.0066067350444238265,0.40906342135475116,-0.006597101638090692,-0.0073812748712450745,0.18721563015179393,-0.006695062397193999,-0.006595802430091882,-0.006604008858604998,-0.006603133966103139,0.18705017046027583,0.1872070691037897,0.18721310565855404,0.18721888226913264,0.1872199998376092,0.06302162353533762,-0.0066022408901239855,0.1883309670129239,-0.006631910230575596,0.18720834724539095,0.37693354240120946,0.42968807744031595,-0.006615896463764807,-0.0067270975837530915,-0.006636494391523919,-0.0065954156562039404,-0.006640753209814307,-0.006832756090866666,0.39670504699018966,0.4150034343244734,0.3362868536028833,-0.006598322768511429,-0.008003268713089743,0.5580030819592127,-0.0065955302860206,0.18721629285480784,-0.007186188451555368,0.06301237237024897,0.38094894978640764,0.18721541662186555,0.0630172169666162,-0.006606187200999274,-0.0066189894121962255,0.41264702265597913,0.356441872434276,0.06301724795194978,0.187213805333865,-0.006657899770381921,0.5215386351310035,-0.006616239233187709,0.18074496884415617,0.0630082883704521,0.53582569217459,-0.006596612397212132,0.4077728834064036,-0.006597389287020181,0.06301783532157268,-0.0065955293834555635,0.06302141326309642,0.11885328408195638,0.4317629074036297,0.18721817768168147,0.4147232512448787,-0.006630685189990522,0.18721733749018446,-0.006598779154875624,0.32540495344009795,0.41264238411408977,0.32667885152613996,-0.006716776888101492,0.0627786060857447,0.06300262617232204,0.43176483155972445,-0.006595623756919718,0.4317623637928571,0.3809527666291865,0.0622232772902672,0.3545954278315264,-0.0065962752913180595,0.06300669749028968,0.3266784959612964,-0.0066250877437448626,0.38094783755778744,0.5525480935226917,-0.006639714524705673,0.00830266885249576,-0.006601483424319534,0.1868199419828033,-0.00659979331018309,0.35457901779508877,0.5062641424282581,0.3660474930341264,0.7155283177394357,0.4312250306332515,0.06301109181246022,-0.00660075455047843,-0.006597333572889998,0.0630139999359156,0.06302108958523213,0.4317607772021036,0.39885400169308227,-0.05540284381446214,0.06202716702415256,0.06297921524049047,0.18721468024687662,-0.00666291737513278,-0.0482752580972063,-0.00659830248171937,-0.00660097217057532,-0.006605502981562766,-0.0066058147779234746,0.4317620731263467,0.3250268323468197,0.062222656974959045,0.2352713226421088,0.3266754739170314,0.5358166372766341,-0.006625130468960489,0.06296866031791305,0.23527056313993003,0.4126446740847591,0.2352708061550797,0.41487777095136136,0.4255996177509703,0.43176385968620595,0.41243415472250594,0.06299503484714263,0.354464790059935,-0.0077828389743474155,0.23846074585080992,0.06302061568482471,0.23527028819919854,0.23518212185154994,-0.006609012992781623,0.0630193567266384,0.18721405302727756,0.07362716524174659,0.4098554929935203,0.542157958787265,0.4317240585414061,-0.009574108241276568,0.5357956241135575,0.1881517200389634,-0.006599230104857255,-0.010937022799336945,0.06295718083867968,0.4125362798972351,0.4317354989295912,-0.006596666899569163,0.47383254105072264,0.3266593760829474,0.32539740159300407,0.06301206454529439,0.4317604651570376,0.008299653561098592,0.3809517231475446,0.40577694733323266,0.3254051930309595,0.43176137377754853,0.37476555182996757,0.4185481510980863,0.4580145739896599,0.43159559010802134,0.2296310759039867,0.284888414888237,0.06302038531027043,-0.00659590060912821,0.35458403365974217,0.6647581134323386,0.19955974982842534,0.34457226066844504,0.18659451987826287,0.06302035296264726,0.2296301010249046,0.32539747429671706,0.3254027832999748,0.18721468114309864,0.431169201143933,0.3309873446070692,0.3309836990637478,0.39246822268895243,-0.00660640027249741,0.32666853351636826,0.3266730938266425,0.3362842993228335,0.18720440773174835,-0.035556087218245096,0.18719432026260338,-0.007241531158062657,0.23413230154151515,0.3309367187730007,-0.006829163464562075,0.18721309063901337,-0.0155388235710713,0.023964811758792212,-0.006596850457129764,-0.006616824384250279,0.4150214225018661,0.43347754124974386,0.41264289574481655,0.4314705692675486,0.3266783610121547]},{\"customdata\":[[\"Proof-of-Authority\"],[\"ECC 256K1\"],[\"SHA3-256\"],[\"Leased POS\"]],\"hovertemplate\":\"<b>%{hovertext}</b><br><br>Class=%{marker.color}<br>PCA 1=%{x}<br>PCA 2=%{y}<br>PCA 3=%{z}<br>Algorithm=%{customdata[0]}<extra></extra>\",\"hovertext\":[\"Poa Network\",\"Acute Angle Cloud\",\"Fiii\",\"Waves\"],\"legendgroup\":\"1\",\"marker\":{\"color\":[1,1,1,1],\"coloraxis\":\"coloraxis\",\"symbol\":\"square\"},\"mode\":\"markers\",\"name\":\"1\",\"scene\":\"scene\",\"showlegend\":true,\"type\":\"scatter3d\",\"x\":[-0.44473550737749695,-0.2834973083104158,-0.503595155468125,-0.46198901879179766],\"y\":[3.9527190467938538,3.720467823175284,3.2011908302775676,2.202847482110438],\"z\":[19.796910291619735,8.907717583613149,13.379999127707883,16.4516121256082]},{\"customdata\":[[\"TRC10\"]],\"hovertemplate\":\"<b>%{hovertext}</b><br><br>Class=%{marker.color}<br>PCA 1=%{x}<br>PCA 2=%{y}<br>PCA 3=%{z}<br>Algorithm=%{customdata[0]}<extra></extra>\",\"hovertext\":[\"BitTorrent\"],\"legendgroup\":\"2\",\"marker\":{\"color\":[2],\"coloraxis\":\"coloraxis\",\"symbol\":\"x\"},\"mode\":\"markers\",\"name\":\"2\",\"scene\":\"scene\",\"showlegend\":true,\"type\":\"scatter3d\",\"x\":[34.0822963517479],\"y\":[1.814591578400716],\"z\":[-0.7372847232590795]}],                        {\"coloraxis\":{\"colorbar\":{\"title\":{\"text\":\"Class\"}},\"colorscale\":[[0.0,\"#0d0887\"],[0.1111111111111111,\"#46039f\"],[0.2222222222222222,\"#7201a8\"],[0.3333333333333333,\"#9c179e\"],[0.4444444444444444,\"#bd3786\"],[0.5555555555555556,\"#d8576b\"],[0.6666666666666666,\"#ed7953\"],[0.7777777777777778,\"#fb9f3a\"],[0.8888888888888888,\"#fdca26\"],[1.0,\"#f0f921\"]]},\"legend\":{\"title\":{\"text\":\"Class\"},\"tracegroupgap\":0,\"x\":0,\"y\":1},\"margin\":{\"t\":60},\"scene\":{\"domain\":{\"x\":[0.0,1.0],\"y\":[0.0,1.0]},\"xaxis\":{\"title\":{\"text\":\"PCA 1\"}},\"yaxis\":{\"title\":{\"text\":\"PCA 2\"}},\"zaxis\":{\"title\":{\"text\":\"PCA 3\"}}},\"template\":{\"data\":{\"bar\":[{\"error_x\":{\"color\":\"#2a3f5f\"},\"error_y\":{\"color\":\"#2a3f5f\"},\"marker\":{\"line\":{\"color\":\"#E5ECF6\",\"width\":0.5},\"pattern\":{\"fillmode\":\"overlay\",\"size\":10,\"solidity\":0.2}},\"type\":\"bar\"}],\"barpolar\":[{\"marker\":{\"line\":{\"color\":\"#E5ECF6\",\"width\":0.5},\"pattern\":{\"fillmode\":\"overlay\",\"size\":10,\"solidity\":0.2}},\"type\":\"barpolar\"}],\"carpet\":[{\"aaxis\":{\"endlinecolor\":\"#2a3f5f\",\"gridcolor\":\"white\",\"linecolor\":\"white\",\"minorgridcolor\":\"white\",\"startlinecolor\":\"#2a3f5f\"},\"baxis\":{\"endlinecolor\":\"#2a3f5f\",\"gridcolor\":\"white\",\"linecolor\":\"white\",\"minorgridcolor\":\"white\",\"startlinecolor\":\"#2a3f5f\"},\"type\":\"carpet\"}],\"choropleth\":[{\"colorbar\":{\"outlinewidth\":0,\"ticks\":\"\"},\"type\":\"choropleth\"}],\"contour\":[{\"colorbar\":{\"outlinewidth\":0,\"ticks\":\"\"},\"colorscale\":[[0.0,\"#0d0887\"],[0.1111111111111111,\"#46039f\"],[0.2222222222222222,\"#7201a8\"],[0.3333333333333333,\"#9c179e\"],[0.4444444444444444,\"#bd3786\"],[0.5555555555555556,\"#d8576b\"],[0.6666666666666666,\"#ed7953\"],[0.7777777777777778,\"#fb9f3a\"],[0.8888888888888888,\"#fdca26\"],[1.0,\"#f0f921\"]],\"type\":\"contour\"}],\"contourcarpet\":[{\"colorbar\":{\"outlinewidth\":0,\"ticks\":\"\"},\"type\":\"contourcarpet\"}],\"heatmap\":[{\"colorbar\":{\"outlinewidth\":0,\"ticks\":\"\"},\"colorscale\":[[0.0,\"#0d0887\"],[0.1111111111111111,\"#46039f\"],[0.2222222222222222,\"#7201a8\"],[0.3333333333333333,\"#9c179e\"],[0.4444444444444444,\"#bd3786\"],[0.5555555555555556,\"#d8576b\"],[0.6666666666666666,\"#ed7953\"],[0.7777777777777778,\"#fb9f3a\"],[0.8888888888888888,\"#fdca26\"],[1.0,\"#f0f921\"]],\"type\":\"heatmap\"}],\"heatmapgl\":[{\"colorbar\":{\"outlinewidth\":0,\"ticks\":\"\"},\"colorscale\":[[0.0,\"#0d0887\"],[0.1111111111111111,\"#46039f\"],[0.2222222222222222,\"#7201a8\"],[0.3333333333333333,\"#9c179e\"],[0.4444444444444444,\"#bd3786\"],[0.5555555555555556,\"#d8576b\"],[0.6666666666666666,\"#ed7953\"],[0.7777777777777778,\"#fb9f3a\"],[0.8888888888888888,\"#fdca26\"],[1.0,\"#f0f921\"]],\"type\":\"heatmapgl\"}],\"histogram\":[{\"marker\":{\"pattern\":{\"fillmode\":\"overlay\",\"size\":10,\"solidity\":0.2}},\"type\":\"histogram\"}],\"histogram2d\":[{\"colorbar\":{\"outlinewidth\":0,\"ticks\":\"\"},\"colorscale\":[[0.0,\"#0d0887\"],[0.1111111111111111,\"#46039f\"],[0.2222222222222222,\"#7201a8\"],[0.3333333333333333,\"#9c179e\"],[0.4444444444444444,\"#bd3786\"],[0.5555555555555556,\"#d8576b\"],[0.6666666666666666,\"#ed7953\"],[0.7777777777777778,\"#fb9f3a\"],[0.8888888888888888,\"#fdca26\"],[1.0,\"#f0f921\"]],\"type\":\"histogram2d\"}],\"histogram2dcontour\":[{\"colorbar\":{\"outlinewidth\":0,\"ticks\":\"\"},\"colorscale\":[[0.0,\"#0d0887\"],[0.1111111111111111,\"#46039f\"],[0.2222222222222222,\"#7201a8\"],[0.3333333333333333,\"#9c179e\"],[0.4444444444444444,\"#bd3786\"],[0.5555555555555556,\"#d8576b\"],[0.6666666666666666,\"#ed7953\"],[0.7777777777777778,\"#fb9f3a\"],[0.8888888888888888,\"#fdca26\"],[1.0,\"#f0f921\"]],\"type\":\"histogram2dcontour\"}],\"mesh3d\":[{\"colorbar\":{\"outlinewidth\":0,\"ticks\":\"\"},\"type\":\"mesh3d\"}],\"parcoords\":[{\"line\":{\"colorbar\":{\"outlinewidth\":0,\"ticks\":\"\"}},\"type\":\"parcoords\"}],\"pie\":[{\"automargin\":true,\"type\":\"pie\"}],\"scatter\":[{\"marker\":{\"colorbar\":{\"outlinewidth\":0,\"ticks\":\"\"}},\"type\":\"scatter\"}],\"scatter3d\":[{\"line\":{\"colorbar\":{\"outlinewidth\":0,\"ticks\":\"\"}},\"marker\":{\"colorbar\":{\"outlinewidth\":0,\"ticks\":\"\"}},\"type\":\"scatter3d\"}],\"scattercarpet\":[{\"marker\":{\"colorbar\":{\"outlinewidth\":0,\"ticks\":\"\"}},\"type\":\"scattercarpet\"}],\"scattergeo\":[{\"marker\":{\"colorbar\":{\"outlinewidth\":0,\"ticks\":\"\"}},\"type\":\"scattergeo\"}],\"scattergl\":[{\"marker\":{\"colorbar\":{\"outlinewidth\":0,\"ticks\":\"\"}},\"type\":\"scattergl\"}],\"scattermapbox\":[{\"marker\":{\"colorbar\":{\"outlinewidth\":0,\"ticks\":\"\"}},\"type\":\"scattermapbox\"}],\"scatterpolar\":[{\"marker\":{\"colorbar\":{\"outlinewidth\":0,\"ticks\":\"\"}},\"type\":\"scatterpolar\"}],\"scatterpolargl\":[{\"marker\":{\"colorbar\":{\"outlinewidth\":0,\"ticks\":\"\"}},\"type\":\"scatterpolargl\"}],\"scatterternary\":[{\"marker\":{\"colorbar\":{\"outlinewidth\":0,\"ticks\":\"\"}},\"type\":\"scatterternary\"}],\"surface\":[{\"colorbar\":{\"outlinewidth\":0,\"ticks\":\"\"},\"colorscale\":[[0.0,\"#0d0887\"],[0.1111111111111111,\"#46039f\"],[0.2222222222222222,\"#7201a8\"],[0.3333333333333333,\"#9c179e\"],[0.4444444444444444,\"#bd3786\"],[0.5555555555555556,\"#d8576b\"],[0.6666666666666666,\"#ed7953\"],[0.7777777777777778,\"#fb9f3a\"],[0.8888888888888888,\"#fdca26\"],[1.0,\"#f0f921\"]],\"type\":\"surface\"}],\"table\":[{\"cells\":{\"fill\":{\"color\":\"#EBF0F8\"},\"line\":{\"color\":\"white\"}},\"header\":{\"fill\":{\"color\":\"#C8D4E3\"},\"line\":{\"color\":\"white\"}},\"type\":\"table\"}]},\"layout\":{\"annotationdefaults\":{\"arrowcolor\":\"#2a3f5f\",\"arrowhead\":0,\"arrowwidth\":1},\"autotypenumbers\":\"strict\",\"coloraxis\":{\"colorbar\":{\"outlinewidth\":0,\"ticks\":\"\"}},\"colorscale\":{\"diverging\":[[0,\"#8e0152\"],[0.1,\"#c51b7d\"],[0.2,\"#de77ae\"],[0.3,\"#f1b6da\"],[0.4,\"#fde0ef\"],[0.5,\"#f7f7f7\"],[0.6,\"#e6f5d0\"],[0.7,\"#b8e186\"],[0.8,\"#7fbc41\"],[0.9,\"#4d9221\"],[1,\"#276419\"]],\"sequential\":[[0.0,\"#0d0887\"],[0.1111111111111111,\"#46039f\"],[0.2222222222222222,\"#7201a8\"],[0.3333333333333333,\"#9c179e\"],[0.4444444444444444,\"#bd3786\"],[0.5555555555555556,\"#d8576b\"],[0.6666666666666666,\"#ed7953\"],[0.7777777777777778,\"#fb9f3a\"],[0.8888888888888888,\"#fdca26\"],[1.0,\"#f0f921\"]],\"sequentialminus\":[[0.0,\"#0d0887\"],[0.1111111111111111,\"#46039f\"],[0.2222222222222222,\"#7201a8\"],[0.3333333333333333,\"#9c179e\"],[0.4444444444444444,\"#bd3786\"],[0.5555555555555556,\"#d8576b\"],[0.6666666666666666,\"#ed7953\"],[0.7777777777777778,\"#fb9f3a\"],[0.8888888888888888,\"#fdca26\"],[1.0,\"#f0f921\"]]},\"colorway\":[\"#636efa\",\"#EF553B\",\"#00cc96\",\"#ab63fa\",\"#FFA15A\",\"#19d3f3\",\"#FF6692\",\"#B6E880\",\"#FF97FF\",\"#FECB52\"],\"font\":{\"color\":\"#2a3f5f\"},\"geo\":{\"bgcolor\":\"white\",\"lakecolor\":\"white\",\"landcolor\":\"#E5ECF6\",\"showlakes\":true,\"showland\":true,\"subunitcolor\":\"white\"},\"hoverlabel\":{\"align\":\"left\"},\"hovermode\":\"closest\",\"mapbox\":{\"style\":\"light\"},\"paper_bgcolor\":\"white\",\"plot_bgcolor\":\"#E5ECF6\",\"polar\":{\"angularaxis\":{\"gridcolor\":\"white\",\"linecolor\":\"white\",\"ticks\":\"\"},\"bgcolor\":\"#E5ECF6\",\"radialaxis\":{\"gridcolor\":\"white\",\"linecolor\":\"white\",\"ticks\":\"\"}},\"scene\":{\"xaxis\":{\"backgroundcolor\":\"#E5ECF6\",\"gridcolor\":\"white\",\"gridwidth\":2,\"linecolor\":\"white\",\"showbackground\":true,\"ticks\":\"\",\"zerolinecolor\":\"white\"},\"yaxis\":{\"backgroundcolor\":\"#E5ECF6\",\"gridcolor\":\"white\",\"gridwidth\":2,\"linecolor\":\"white\",\"showbackground\":true,\"ticks\":\"\",\"zerolinecolor\":\"white\"},\"zaxis\":{\"backgroundcolor\":\"#E5ECF6\",\"gridcolor\":\"white\",\"gridwidth\":2,\"linecolor\":\"white\",\"showbackground\":true,\"ticks\":\"\",\"zerolinecolor\":\"white\"}},\"shapedefaults\":{\"line\":{\"color\":\"#2a3f5f\"}},\"ternary\":{\"aaxis\":{\"gridcolor\":\"white\",\"linecolor\":\"white\",\"ticks\":\"\"},\"baxis\":{\"gridcolor\":\"white\",\"linecolor\":\"white\",\"ticks\":\"\"},\"bgcolor\":\"#E5ECF6\",\"caxis\":{\"gridcolor\":\"white\",\"linecolor\":\"white\",\"ticks\":\"\"}},\"title\":{\"x\":0.05},\"xaxis\":{\"automargin\":true,\"gridcolor\":\"white\",\"linecolor\":\"white\",\"ticks\":\"\",\"title\":{\"standoff\":15},\"zerolinecolor\":\"white\",\"zerolinewidth\":2},\"yaxis\":{\"automargin\":true,\"gridcolor\":\"white\",\"linecolor\":\"white\",\"ticks\":\"\",\"title\":{\"standoff\":15},\"zerolinecolor\":\"white\",\"zerolinewidth\":2}}},\"width\":800},                        {\"responsive\": true}                    ).then(function(){\n",
       "                            \n",
       "var gd = document.getElementById('6704d8e7-74a7-44ce-ab91-eb0d04815cf5');\n",
       "var x = new MutationObserver(function (mutations, observer) {{\n",
       "        var display = window.getComputedStyle(gd).display;\n",
       "        if (!display || display === 'none') {{\n",
       "            console.log([gd, 'removed!']);\n",
       "            Plotly.purge(gd);\n",
       "            observer.disconnect();\n",
       "        }}\n",
       "}});\n",
       "\n",
       "// Listen for the removal of the full notebook cells\n",
       "var notebookContainer = gd.closest('#notebook-container');\n",
       "if (notebookContainer) {{\n",
       "    x.observe(notebookContainer, {childList: true});\n",
       "}}\n",
       "\n",
       "// Listen for the clearing of the current output cell\n",
       "var outputEl = gd.closest('.output');\n",
       "if (outputEl) {{\n",
       "    x.observe(outputEl, {childList: true});\n",
       "}}\n",
       "\n",
       "                        })                };                });            </script>        </div>"
      ]
     },
     "metadata": {},
     "output_type": "display_data"
    }
   ],
   "source": [
    "# Creating a 3D-Scatter with the PCA data and the clusters\n",
    "fig = px.scatter_3d(\n",
    "    clustered_df,\n",
    "    x=\"PCA 1\",\n",
    "    y=\"PCA 2\",\n",
    "    z=\"PCA 3\",\n",
    "    color=\"Class\",\n",
    "    symbol=\"Class\",\n",
    "    hover_name=\"CoinName\",\n",
    "    hover_data=[\"Algorithm\"],\n",
    "    width=800\n",
    ")\n",
    "fig.update_layout(legend=dict(x=0, y=1))\n",
    "fig.show()"
   ]
  },
  {
   "cell_type": "code",
   "execution_count": 102,
   "metadata": {},
   "outputs": [
    {
     "data": {},
     "metadata": {},
     "output_type": "display_data"
    },
    {
     "data": {
      "application/vnd.holoviews_exec.v0+json": "",
      "text/html": [
       "<div id='1120'>\n",
       "\n",
       "\n",
       "\n",
       "\n",
       "\n",
       "  <div class=\"bk-root\" id=\"4e670845-1da6-4c6f-b51f-323e50401742\" data-root-id=\"1120\"></div>\n",
       "</div>\n",
       "<script type=\"application/javascript\">(function(root) {\n",
       "  function embed_document(root) {\n",
       "    var docs_json = {\"67f46d85-21a2-4264-8921-80bfce55f2c5\":{\"defs\":[{\"extends\":null,\"module\":null,\"name\":\"ReactiveHTML1\",\"overrides\":[],\"properties\":[]},{\"extends\":null,\"module\":null,\"name\":\"FlexBox1\",\"overrides\":[],\"properties\":[{\"default\":\"flex-start\",\"kind\":null,\"name\":\"align_content\"},{\"default\":\"flex-start\",\"kind\":null,\"name\":\"align_items\"},{\"default\":\"row\",\"kind\":null,\"name\":\"flex_direction\"},{\"default\":\"wrap\",\"kind\":null,\"name\":\"flex_wrap\"},{\"default\":\"flex-start\",\"kind\":null,\"name\":\"justify_content\"}]},{\"extends\":null,\"module\":null,\"name\":\"TemplateActions1\",\"overrides\":[],\"properties\":[{\"default\":0,\"kind\":null,\"name\":\"open_modal\"},{\"default\":0,\"kind\":null,\"name\":\"close_modal\"}]},{\"extends\":null,\"module\":null,\"name\":\"MaterialTemplateActions1\",\"overrides\":[],\"properties\":[{\"default\":0,\"kind\":null,\"name\":\"open_modal\"},{\"default\":0,\"kind\":null,\"name\":\"close_modal\"}]}],\"roots\":{\"references\":[{\"attributes\":{},\"id\":\"1140\",\"type\":\"StringEditor\"},{\"attributes\":{\"data\":{\"Algorithm\":[\"Scrypt\",\"Scrypt\",\"X13\",\"SHA-256\",\"Ethash\",\"Scrypt\",\"X11\",\"CryptoNight-V7\",\"Ethash\",\"Equihash\",\"SHA-512\",\"Multiple\",\"SHA-256\",\"SHA-256\",\"Scrypt\",\"X15\",\"X11\",\"Scrypt\",\"Scrypt\",\"Scrypt\",\"Multiple\",\"Scrypt\",\"SHA-256\",\"Scrypt\",\"Scrypt\",\"Scrypt\",\"Quark\",\"Groestl\",\"Scrypt\",\"Scrypt\",\"Scrypt\",\"Scrypt\",\"Scrypt\",\"X11\",\"Scrypt\",\"Groestl\",\"Multiple\",\"SHA-256\",\"Scrypt\",\"Scrypt\",\"Scrypt\",\"Scrypt\",\"PoS\",\"Scrypt\",\"Scrypt\",\"NeoScrypt\",\"Scrypt\",\"Scrypt\",\"Scrypt\",\"Scrypt\",\"X11\",\"Scrypt\",\"X11\",\"SHA-256\",\"Scrypt\",\"Scrypt\",\"Scrypt\",\"SHA3\",\"Scrypt\",\"HybridScryptHash256\",\"Scrypt\",\"Scrypt\",\"SHA-256\",\"Scrypt\",\"X13\",\"Scrypt\",\"SHA-256\",\"Scrypt\",\"X13\",\"NeoScrypt\",\"Scrypt\",\"Scrypt\",\"Scrypt\",\"Scrypt\",\"Scrypt\",\"Scrypt\",\"X11\",\"X11\",\"SHA-256\",\"Multiple\",\"SHA-256\",\"PHI1612\",\"X11\",\"SHA-256\",\"SHA-256\",\"SHA-256\",\"X11\",\"Scrypt\",\"Scrypt\",\"Scrypt\",\"Scrypt\",\"Lyra2REv2\",\"Scrypt\",\"X11\",\"Multiple\",\"SHA-256\",\"X13\",\"Scrypt\",\"CryptoNight\",\"CryptoNight\",\"Shabal256\",\"Counterparty\",\"Scrypt\",\"SHA-256\",\"Groestl\",\"Scrypt\",\"Scrypt\",\"Scrypt\",\"X13\",\"Scrypt\",\"Scrypt\",\"Scrypt\",\"Scrypt\",\"X13\",\"Scrypt\",\"Stanford Folding\",\"X11\",\"Multiple\",\"QuBit\",\"Scrypt\",\"Scrypt\",\"Scrypt\",\"M7 POW\",\"Scrypt\",\"SHA-256\",\"Scrypt\",\"X11\",\"SHA3\",\"X11\",\"Lyra2RE\",\"SHA-256\",\"QUAIT\",\"X11\",\"X11\",\"Scrypt\",\"Scrypt\",\"Scrypt\",\"Ethash\",\"X13\",\"Blake2b\",\"SHA-256\",\"X15\",\"X11\",\"SHA-256\",\"BLAKE256\",\"Scrypt\",\"1GB AES Pattern Search\",\"SHA-256\",\"X11\",\"Scrypt\",\"SHA-256\",\"SHA-256\",\"NIST5\",\"Scrypt\",\"Scrypt\",\"X11\",\"Dagger\",\"Scrypt\",\"X11GOST\",\"X11\",\"Scrypt\",\"SHA-256\",\"Scrypt\",\"PoS\",\"Scrypt\",\"X11\",\"X11\",\"SHA-256\",\"SHA-256\",\"NIST5\",\"X11\",\"Scrypt\",\"POS 3.0\",\"Scrypt\",\"Scrypt\",\"Scrypt\",\"X13\",\"X11\",\"X11\",\"Equihash\",\"X11\",\"Scrypt\",\"CryptoNight\",\"SHA-256\",\"SHA-256\",\"X11\",\"Scrypt\",\"Multiple\",\"Scrypt\",\"Scrypt\",\"Scrypt\",\"SHA-256\",\"Scrypt\",\"Scrypt\",\"SHA-256D\",\"PoS\",\"Scrypt\",\"X11\",\"Lyra2Z\",\"PoS\",\"X13\",\"X14\",\"PoS\",\"SHA-256D\",\"Ethash\",\"Equihash\",\"DPoS\",\"X11\",\"Scrypt\",\"X11\",\"X13\",\"X11\",\"PoS\",\"Scrypt\",\"Scrypt\",\"X11\",\"PoS\",\"X11\",\"SHA-256\",\"Scrypt\",\"X11\",\"Scrypt\",\"Scrypt\",\"X11\",\"CryptoNight\",\"Scrypt\",\"Scrypt\",\"Scrypt\",\"Scrypt\",\"Quark\",\"QuBit\",\"Scrypt\",\"CryptoNight\",\"Lyra2RE\",\"Scrypt\",\"SHA-256\",\"X11\",\"Scrypt\",\"X11\",\"Scrypt\",\"CryptoNight-V7\",\"Scrypt\",\"Scrypt\",\"Scrypt\",\"X13\",\"X11\",\"Equihash\",\"Scrypt\",\"Scrypt\",\"Lyra2RE\",\"Scrypt\",\"Dagger-Hashimoto\",\"X11\",\"Blake2S\",\"X11\",\"Scrypt\",\"PoS\",\"X11\",\"NIST5\",\"PoS\",\"X11\",\"Scrypt\",\"Scrypt\",\"Scrypt\",\"SHA-256\",\"X11\",\"Scrypt\",\"Scrypt\",\"SHA-256\",\"PoS\",\"Scrypt\",\"X15\",\"SHA-256\",\"Scrypt\",\"POS 3.0\",\"CryptoNight-V7\",\"536\",\"Argon2d\",\"Blake2b\",\"Cloverhash\",\"CryptoNight\",\"NIST5\",\"X11\",\"NIST5\",\"Skein\",\"Scrypt\",\"X13\",\"Scrypt\",\"X11\",\"X11\",\"Scrypt\",\"CryptoNight\",\"X13\",\"Time Travel\",\"Scrypt\",\"Keccak\",\"SkunkHash v2 Raptor\",\"X11\",\"Skein\",\"SHA-256\",\"X11\",\"Scrypt\",\"VeChainThor Authority\",\"Scrypt\",\"PoS\",\"Scrypt\",\"Scrypt\",\"Scrypt\",\"Scrypt\",\"Scrypt\",\"Scrypt\",\"Scrypt\",\"CryptoNight\",\"SHA-512\",\"Ouroboros\",\"X11\",\"Equihash\",\"NeoScrypt\",\"X11\",\"Scrypt\",\"NeoScrypt\",\"Lyra2REv2\",\"Equihash\",\"Scrypt\",\"SHA-256\",\"NIST5\",\"PHI1612\",\"Dagger\",\"Scrypt\",\"Quark\",\"Scrypt\",\"POS 2.0\",\"Scrypt\",\"SHA-256\",\"X11\",\"NeoScrypt\",\"Ethash\",\"NeoScrypt\",\"X11\",\"DPoS\",\"NIST5\",\"X13\",\"Multiple\",\"Scrypt\",\"CryptoNight\",\"CryptoNight\",\"Ethash\",\"NIST5\",\"Quark\",\"X11\",\"CryptoNight-V7\",\"Scrypt\",\"Scrypt\",\"Scrypt\",\"X11\",\"BLAKE256\",\"X11\",\"NeoScrypt\",\"Quark\",\"NeoScrypt\",\"Scrypt\",\"Scrypt\",\"Scrypt\",\"X11\",\"X11\",\"SHA-256\",\"C11\",\"POS 3.0\",\"Ethash\",\"Scrypt\",\"CryptoNight\",\"SkunkHash\",\"Scrypt\",\"CryptoNight\",\"Scrypt\",\"Dagger\",\"Lyra2REv2\",\"X13\",\"Proof-of-BibleHash\",\"SHA-256 + Hive\",\"Scrypt\",\"Scrypt\",\"X11\",\"C11\",\"Proof-of-Authority\",\"X11\",\"XEVAN\",\"Scrypt\",\"VBFT\",\"Ethash\",\"CryptoNight\",\"Scrypt\",\"IMesh\",\"NIST5\",\"Scrypt\",\"Scrypt\",\"Equihash\",\"Scrypt\",\"Lyra2Z\",\"Green Protocol\",\"PoS\",\"Scrypt\",\"Semux BFT consensus\",\"X11\",\"Quark\",\"PoS\",\"CryptoNight\",\"X16R\",\"Scrypt\",\"NIST5\",\"Lyra2RE\",\"XEVAN\",\"Tribus\",\"Scrypt\",\"Lyra2Z\",\"CryptoNight\",\"CryptoNight Heavy\",\"CryptoNight\",\"Scrypt\",\"Scrypt\",\"Jump Consistent Hash\",\"SHA-256D\",\"CryptoNight\",\"Scrypt\",\"X15\",\"Scrypt\",\"Quark\",\"SHA-256\",\"DPoS\",\"X16R\",\"HMQ1725\",\"X11\",\"X16R\",\"Quark\",\"Quark\",\"Scrypt\",\"Lyra2REv2\",\"Quark\",\"Scrypt\",\"Scrypt\",\"CryptoNight-V7\",\"Cryptonight-GPU\",\"XEVAN\",\"CryptoNight Heavy\",\"X11\",\"X11\",\"Scrypt\",\"PoS\",\"SHA-256\",\"Keccak\",\"X11\",\"X11\",\"Scrypt\",\"SHA-512\",\"X16R\",\"ECC 256K1\",\"Equihash\",\"XEVAN\",\"Lyra2Z\",\"SHA-256\",\"XEVAN\",\"X11\",\"CryptoNight\",\"Quark\",\"Blake\",\"Blake\",\"Equihash\",\"Exosis\",\"Scrypt\",\"Scrypt\",\"Equihash\",\"Quark\",\"Equihash\",\"Quark\",\"Scrypt\",\"QuBit\",\"X11\",\"Scrypt\",\"XEVAN\",\"SHA-256D\",\"X11\",\"SHA-256\",\"X13\",\"SHA-256\",\"X11\",\"DPoS\",\"Scrypt\",\"Scrypt\",\"X11\",\"NeoScrypt\",\"Scrypt\",\"Blake\",\"Scrypt\",\"SHA-256\",\"Scrypt\",\"X11\",\"Scrypt\",\"Scrypt\",\"SHA-256\",\"X11\",\"SHA-256\",\"Scrypt\",\"Scrypt\",\"Scrypt\",\"Groestl\",\"X11\",\"Scrypt\",\"PoS\",\"Scrypt\",\"Scrypt\",\"X11\",\"SHA-256\",\"DPoS\",\"Scrypt\",\"Scrypt\",\"NeoScrypt\",\"SHA3-256\",\"Multiple\",\"X13\",\"Equihash+Scrypt\",\"DPoS\",\"Ethash\",\"DPoS\",\"SHA-256\",\"Leased POS\",\"PoS\",\"TRC10\",\"PoS\",\"SHA-256\",\"Scrypt\",\"CryptoNight\",\"Equihash\",\"Scrypt\"],\"Class\":{\"__ndarray__\":\"AAAAAAAAAAAAAAAAAwAAAAMAAAADAAAAAAAAAAMAAAADAAAAAwAAAAAAAAADAAAAAAAAAAAAAAADAAAAAAAAAAMAAAADAAAAAAAAAAAAAAADAAAAAwAAAAMAAAADAAAAAwAAAAAAAAADAAAAAwAAAAMAAAAAAAAAAwAAAAAAAAADAAAAAwAAAAAAAAAAAAAAAwAAAAMAAAADAAAAAwAAAAMAAAADAAAAAAAAAAAAAAADAAAAAwAAAAMAAAADAAAAAwAAAAAAAAAAAAAAAwAAAAAAAAADAAAAAwAAAAMAAAADAAAAAAAAAAMAAAADAAAAAAAAAAMAAAAAAAAAAAAAAAAAAAADAAAAAwAAAAMAAAAAAAAAAAAAAAAAAAAAAAAAAAAAAAMAAAADAAAAAwAAAAAAAAAAAAAAAwAAAAAAAAADAAAAAAAAAAAAAAADAAAAAwAAAAMAAAADAAAAAAAAAAAAAAADAAAAAAAAAAMAAAADAAAAAAAAAAAAAAADAAAAAAAAAAAAAAADAAAAAwAAAAAAAAAAAAAAAwAAAAAAAAAAAAAAAwAAAAAAAAADAAAAAAAAAAMAAAAAAAAAAwAAAAAAAAAAAAAAAwAAAAMAAAAAAAAAAwAAAAMAAAADAAAAAAAAAAMAAAADAAAAAwAAAAMAAAADAAAAAAAAAAAAAAADAAAAAwAAAAMAAAAAAAAAAwAAAAAAAAADAAAAAwAAAAAAAAADAAAAAAAAAAMAAAAAAAAAAAAAAAMAAAADAAAAAAAAAAMAAAADAAAAAAAAAAAAAAADAAAAAAAAAAMAAAAAAAAAAAAAAAAAAAADAAAAAwAAAAMAAAADAAAAAAAAAAAAAAAAAAAAAAAAAAAAAAADAAAAAwAAAAAAAAAAAAAAAAAAAAAAAAAAAAAAAwAAAAAAAAAAAAAAAAAAAAAAAAAAAAAAAwAAAAAAAAADAAAAAAAAAAAAAAADAAAAAAAAAAMAAAAAAAAAAAAAAAMAAAAAAAAAAwAAAAAAAAADAAAAAAAAAAMAAAAAAAAAAAAAAAAAAAAAAAAAAwAAAAAAAAAAAAAAAAAAAAAAAAAAAAAAAwAAAAMAAAAAAAAAAAAAAAMAAAADAAAAAAAAAAAAAAAAAAAAAAAAAAAAAAADAAAAAAAAAAAAAAAAAAAAAAAAAAAAAAAAAAAAAAAAAAAAAAADAAAAAAAAAAAAAAAAAAAAAAAAAAAAAAAAAAAAAwAAAAMAAAADAAAAAAAAAAAAAAAAAAAAAAAAAAMAAAAAAAAAAwAAAAAAAAAAAAAAAwAAAAAAAAADAAAAAwAAAAAAAAADAAAAAwAAAAAAAAADAAAAAAAAAAAAAAAAAAAAAwAAAAAAAAAAAAAAAwAAAAAAAAAAAAAAAAAAAAAAAAAAAAAAAAAAAAAAAAADAAAAAAAAAAMAAAAAAAAAAAAAAAAAAAAAAAAAAwAAAAAAAAADAAAAAAAAAAMAAAADAAAAAwAAAAMAAAAAAAAAAwAAAAAAAAAAAAAAAwAAAAAAAAADAAAAAwAAAAMAAAAAAAAAAwAAAAAAAAADAAAAAwAAAAMAAAAAAAAAAwAAAAAAAAADAAAAAAAAAAAAAAAAAAAAAwAAAAAAAAADAAAAAwAAAAMAAAADAAAAAwAAAAAAAAAAAAAAAwAAAAAAAAAAAAAAAAAAAAMAAAAAAAAAAwAAAAAAAAADAAAAAAAAAAMAAAAAAAAAAAAAAAAAAAAAAAAAAwAAAAAAAAAAAAAAAwAAAAAAAAAAAAAAAAAAAAMAAAADAAAAAwAAAAMAAAAAAAAAAAAAAAAAAAAAAAAAAwAAAAAAAAADAAAAAwAAAAMAAAAAAAAAAAAAAAMAAAADAAAAAAAAAAAAAAADAAAAAAAAAAMAAAADAAAAAwAAAAAAAAADAAAAAwAAAAAAAAAAAAAAAAAAAAMAAAADAAAAAwAAAAAAAAAAAAAAAAAAAAMAAAADAAAAAAAAAAMAAAADAAAAAwAAAAMAAAAAAAAAAAAAAAAAAAADAAAAAwAAAAMAAAAAAAAAAQAAAAAAAAAAAAAAAAAAAAAAAAADAAAAAwAAAAMAAAADAAAAAAAAAAAAAAAAAAAAAwAAAAAAAAADAAAAAAAAAAAAAAAAAAAAAAAAAAMAAAAAAAAAAAAAAAMAAAAAAAAAAAAAAAMAAAADAAAAAAAAAAMAAAAAAAAAAwAAAAMAAAADAAAAAwAAAAAAAAAAAAAAAwAAAAAAAAADAAAAAAAAAAAAAAAAAAAAAAAAAAAAAAAAAAAAAwAAAAMAAAADAAAAAAAAAAAAAAAAAAAAAAAAAAAAAAAAAAAAAwAAAAAAAAADAAAAAwAAAAMAAAADAAAAAAAAAAAAAAAAAAAAAAAAAAMAAAAAAAAAAAAAAAMAAAAAAAAAAAAAAAMAAAABAAAAAwAAAAAAAAADAAAAAwAAAAAAAAAAAAAAAwAAAAAAAAADAAAAAwAAAAAAAAADAAAAAwAAAAAAAAADAAAAAAAAAAMAAAAAAAAAAAAAAAMAAAAAAAAAAAAAAAAAAAAAAAAAAAAAAAMAAAADAAAAAwAAAAAAAAAAAAAAAAAAAAMAAAAAAAAAAwAAAAAAAAADAAAAAAAAAAAAAAAAAAAAAAAAAAMAAAAAAAAAAAAAAAAAAAADAAAAAAAAAAMAAAAAAAAAAwAAAAAAAAAAAAAAAAAAAAMAAAADAAAAAAAAAAAAAAAAAAAAAAAAAAAAAAAAAAAAAQAAAAMAAAAAAAAAAwAAAAAAAAADAAAAAAAAAAAAAAABAAAAAAAAAAIAAAAAAAAAAAAAAAAAAAADAAAAAwAAAAAAAAA=\",\"dtype\":\"int32\",\"order\":\"little\",\"shape\":[533]},\"CoinName\":[\"42 Coin\",\"404Coin\",\"EliteCoin\",\"Bitcoin\",\"Ethereum\",\"Litecoin\",\"Dash\",\"Monero\",\"Ethereum Classic\",\"ZCash\",\"Bitshares\",\"DigiByte\",\"BitcoinDark\",\"PayCoin\",\"ProsperCoin\",\"KoboCoin\",\"Spreadcoin\",\"Argentum\",\"Aurora Coin\",\"BlueCoin\",\"MyriadCoin\",\"MoonCoin\",\"ZetaCoin\",\"SexCoin\",\"Quatloo\",\"EnergyCoin\",\"QuarkCoin\",\"Riecoin\",\"Digitalcoin \",\"BitBar\",\"Catcoin\",\"CryptoBullion\",\"CannaCoin\",\"CryptCoin\",\"CasinoCoin\",\"Diamond\",\"Verge\",\"DevCoin\",\"EarthCoin\",\"E-Gulden\",\"Einsteinium\",\"Emerald\",\"Exclusive Coin\",\"FlutterCoin\",\"Franko\",\"FeatherCoin\",\"GrandCoin\",\"GlobalCoin\",\"GoldCoin\",\"HoboNickels\",\"HyperStake\",\"Infinite Coin\",\"IOCoin\",\"IXcoin\",\"KrugerCoin\",\"LuckyCoin\",\"Litebar \",\"MaxCoin\",\"MegaCoin\",\"MediterraneanCoin\",\"MintCoin\",\"MinCoin\",\"MazaCoin\",\"Nautilus Coin\",\"NavCoin\",\"NobleCoin\",\"Namecoin\",\"NyanCoin\",\"OpalCoin\",\"Orbitcoin\",\"PotCoin\",\"PhoenixCoin\",\"Reddcoin\",\"RonPaulCoin\",\"StableCoin\",\"SmartCoin\",\"SuperCoin\",\"SyncCoin\",\"SysCoin\",\"TeslaCoin\",\"TigerCoin\",\"TittieCoin\",\"TorCoin\",\"TerraCoin\",\"UnbreakableCoin\",\"Unobtanium\",\"UroCoin\",\"UnitaryStatus Dollar\",\"UltraCoin\",\"ViaCoin\",\"VeriCoin\",\"Vertcoin\",\"WorldCoin\",\"X11 Coin\",\"Crypti\",\"JouleCoin\",\"StealthCoin\",\"ZCC Coin\",\"ByteCoin\",\"DigitalNote \",\"BurstCoin\",\"StorjCoin\",\"MonaCoin\",\"Neutron\",\"FairCoin\",\"Gulden\",\"RubyCoin\",\"PesetaCoin\",\"Kore\",\"Wild Beast Coin\",\"Dnotes\",\"Flo\",\"8BIT Coin\",\"Sativa Coin\",\"ArtByte\",\"Folding Coin\",\"Ucoin\",\"Unitus\",\"CypherPunkCoin\",\"OmniCron\",\"Vtorrent\",\"GreenCoin\",\"Cryptonite\",\"MasterCoin\",\"SoonCoin\",\"1Credit\",\"IslaCoin\",\"Nexus\",\"MarsCoin \",\"Crypto\",\"Anarchists Prime\",\"Droidz\",\"BowsCoin\",\"Squall Coin\",\"Song Coin\",\"BitZeny\",\"Diggits\",\"Expanse\",\"Paycon\",\"Siacoin\",\"Emercoin\",\"EverGreenCoin\",\"MindCoin\",\"I0coin\",\"Decred\",\"Revolution VR\",\"HOdlcoin\",\"EDRCoin\",\"Hitcoin\",\"Gamecredits\",\"DubaiCoin\",\"CarpeDiemCoin\",\"PWR Coin\",\"BillaryCoin\",\"GPU Coin\",\"Adzcoin\",\"SoilCoin\",\"YoCoin\",\"SibCoin\",\"EuropeCoin\",\"ZeitCoin\",\"SwingCoin\",\"SafeExchangeCoin\",\"Nebuchadnezzar\",\"Francs\",\"BolivarCoin\",\"Ratecoin\",\"Revenu\",\"Clockcoin\",\"VIP Tokens\",\"BitSend\",\"Omni\",\"Let it Ride\",\"PutinCoin\",\"iBankCoin\",\"Frankywillcoin\",\"MudraCoin\",\"PizzaCoin\",\"Lutetium Coin\",\"Komodo\",\"GoldBlocks\",\"CarterCoin\",\"Karbo\",\"BitTokens\",\"ZayedCoin\",\"MustangCoin\",\"ZoneCoin\",\"Circuits of Value\",\"RootCoin\",\"DopeCoin\",\"BitCurrency\",\"DollarCoin\",\"Swiscoin\",\"Shilling\",\"BuzzCoin\",\"Opair\",\"PesoBit\",\"Halloween Coin\",\"ZCoin\",\"CoffeeCoin\",\"RoyalCoin\",\"GanjaCoin V2\",\"TeamUP\",\"LanaCoin\",\"Elementrem\",\"ZClassic\",\"ARK\",\"InsaneCoin\",\"KiloCoin\",\"ArtexCoin\",\"EmberCoin\",\"XenixCoin\",\"FreeCoin\",\"PLNCoin\",\"AquariusCoin\",\"Kurrent\",\"Creatio\",\"Eternity\",\"Eurocoin\",\"BitcoinFast\",\"Stakenet\",\"BitConnect Coin\",\"MoneyCoin\",\"Enigma\",\"Cannabis Industry Coin\",\"Russiacoin\",\"PandaCoin\",\"GameUnits\",\"GAKHcoin\",\"Allsafe\",\"LiteCreed\",\"OsmiumCoin\",\"Bikercoins\",\"HexxCoin\",\"Klingon Empire Darsek\",\"Internet of People\",\"KushCoin\",\"Printerium\",\"PacCoin\",\"Impeach\",\"Citadel\",\"Zilbercoin\",\"FirstCoin\",\"BeaverCoin\",\"FindCoin\",\"VaultCoin\",\"Zero\",\"OpenChat\",\"Canada eCoin\",\"Zoin\",\"RenosCoin\",\"DubaiCoin\",\"VirtacoinPlus\",\"TajCoin\",\"Impact\",\"EB3coin\",\"Atmos\",\"HappyCoin\",\"Coinonat\",\"MacronCoin\",\"Condensate\",\"Independent Money System\",\"ArgusCoin\",\"LomoCoin\",\"ProCurrency\",\"GoldReserve\",\"BenjiRolls\",\"GrowthCoin\",\"ILCoin\",\"Phreak\",\"Degas Coin\",\"HTML5 Coin\",\"Ultimate Secure Cash\",\"EquiTrader\",\"QTUM\",\"Quantum Resistant Ledger\",\"Espers\",\"Dynamic\",\"Nano\",\"ChanCoin\",\"Dinastycoin\",\"Denarius\",\"DigitalPrice\",\"Virta Unique Coin\",\"Bitcoin Planet\",\"Unify\",\"BritCoin\",\"SocialCoin\",\"ArcticCoin\",\"DAS\",\"Linda\",\"LeviarCoin\",\"DeepOnion\",\"Bitcore\",\"gCn Coin\",\"SmartCash\",\"Signatum\",\"Onix\",\"Cream\",\"Bitcoin Cash\",\"Monoeci\",\"Draftcoin\",\"Vechain\",\"Sojourn Coin\",\"Stakecoin\",\"NewYorkCoin\",\"FrazCoin\",\"Kronecoin\",\"AdCoin\",\"Linx\",\"CoinonatX\",\"Ethereum Dark\",\"Sumokoin\",\"Obsidian\",\"Cardano\",\"Regalcoin\",\"BitcoinZ\",\"TrezarCoin\",\"Elements\",\"TerraNovaCoin\",\"VIVO Coin\",\"Rupee\",\"Bitcoin Gold\",\"WomenCoin\",\"Theresa May Coin\",\"NamoCoin\",\"LUXCoin\",\"Pirl\",\"Xios\",\"Bitcloud 2.0\",\"eBoost\",\"KekCoin\",\"BlackholeCoin\",\"Infinity Economics\",\"Pura\",\"Innova\",\"Ellaism\",\"GoByte\",\"Magnet\",\"Lamden Tau\",\"Electra\",\"Bitcoin Diamond\",\"SHIELD\",\"Cash & Back Coin\",\"UltraNote\",\"BitCoal\",\"DaxxCoin\",\"Bulwark\",\"Kalkulus\",\"AC3\",\"Lethean\",\"GermanCoin\",\"LiteCoin Ultra\",\"PopularCoin\",\"PhantomX\",\"Photon\",\"Sucre\",\"SparksPay\",\"Digiwage\",\"GunCoin\",\"IrishCoin\",\"Trollcoin\",\"Litecoin Plus\",\"Monkey Project\",\"Pioneer Coin\",\"UnitedBitcoin\",\"Interzone\",\"TokenPay\",\"1717 Masonic Commemorative Token\",\"My Big Coin\",\"TurtleCoin\",\"MUNcoin\",\"Unified Society USDEX\",\"Niobio Cash\",\"ShareChain\",\"Travelflex\",\"KREDS\",\"Tokyo Coin\",\"BiblePay\",\"LitecoinCash\",\"BitFlip\",\"LottoCoin\",\"Crypto Improvement Fund\",\"Stipend\",\"Poa Network\",\"Pushi\",\"Ellerium\",\"Velox\",\"Ontology\",\"Callisto Network\",\"BitTube\",\"Poseidon\",\"Aidos Kuneen\",\"Bitspace\",\"Briacoin\",\"Ignition\",\"Bitrolium\",\"MedicCoin\",\"Alpenschillling\",\"Bitcoin Green\",\"Deviant Coin\",\"Abjcoin\",\"Semux\",\"FuturoCoin\",\"Carebit\",\"Zealium\",\"Monero Classic\",\"Proton\",\"iDealCash\",\"Jumpcoin\",\"Infinex\",\"Bitcoin Incognito\",\"KEYCO\",\"HollyWoodCoin\",\"GINcoin\",\"PlatinCoin\",\"Loki\",\"Newton Coin\",\"Swisscoin\",\"Xt3ch\",\"MassGrid\",\"TheVig\",\"PluraCoin\",\"EmaratCoin\",\"Dekado\",\"Lynx\",\"Poseidon Quark\",\"BitcoinWSpectrum\",\"Muse\",\"Motion\",\"PlusOneCoin\",\"Axe\",\"Trivechain\",\"Dystem\",\"Giant\",\"Peony Coin\",\"Absolute Coin\",\"Vitae\",\"HexCoin\",\"TPCash\",\"Webchain\",\"Ryo\",\"Urals Coin\",\"Qwertycoin\",\"ARENON\",\"EUNO\",\"MMOCoin\",\"Ketan\",\"Project Pai\",\"XDNA\",\"PAXEX\",\"Azart\",\"ThunderStake\",\"Kcash\",\"Xchange\",\"Acute Angle Cloud\",\"CrypticCoin\",\"Bettex coin\",\"Actinium\",\"Bitcoin SV\",\"BitMoney\",\"Junson Ming Chan Coin\",\"FREDEnergy\",\"HerbCoin\",\"Universal Molecule\",\"Lithium\",\"PirateCash\",\"Exosis\",\"Block-Logic\",\"Oduwa\",\"Beam\",\"Galilel\",\"Bithereum\",\"Crypto Sports\",\"Credit\",\"SLICE\",\"Dash Platinum\",\"Nasdacoin\",\"Beetle Coin\",\"Titan Coin\",\"Award\",\"BLAST\",\"Bitcoin Rhodium\",\"GlobalToken\",\"Insane Coin\",\"ALAX\",\"LiteDoge\",\"SolarCoin\",\"TruckCoin\",\"UFO Coin\",\"OrangeCoin\",\"BlakeCoin\",\"BitstarCoin\",\"NeosCoin\",\"HyperCoin\",\"PinkCoin\",\"Crypto Escudo\",\"AudioCoin\",\"IncaKoin\",\"Piggy Coin\",\"Crown Coin\",\"Genstake\",\"SmileyCoin\",\"XiaoMiCoin\",\"Groestlcoin\",\"CapriCoin\",\" ClubCoin\",\"Radium\",\"Bata\",\"Pakcoin\",\"Creditbit \",\"OKCash\",\"Lisk\",\"HiCoin\",\"WhiteCoin\",\"FriendshipCoin\",\"Fiii\",\"JoinCoin\",\"Triangles Coin\",\"Vollar\",\"EOS\",\"Reality Clash\",\"Oxycoin\",\"TigerCash\",\"Waves\",\"Particl\",\"BitTorrent\",\"Nxt\",\"ZEPHYR\",\"Gapcoin\",\"Beldex\",\"Horizen\",\"BitcoinPlus\"],\"ProofType\":[\"PoW/PoS\",\"PoW/PoS\",\"PoW/PoS\",\"PoW\",\"PoW\",\"PoW\",\"PoW/PoS\",\"PoW\",\"PoW\",\"PoW\",\"PoS\",\"PoW\",\"PoW/PoS\",\"PoS\",\"PoW\",\"PoW/PoS\",\"PoW\",\"PoW\",\"PoW/PoS\",\"PoW/PoS\",\"PoW\",\"PoW\",\"PoW\",\"PoW\",\"PoW\",\"PoW/PoS\",\"PoW\",\"PoW\",\"PoW\",\"PoW/PoS\",\"PoW\",\"PoW/PoS\",\"PoW\",\"PoW\",\"PoC\",\"PoW/PoS\",\"PoW\",\"PoW\",\"PoW\",\"PoW\",\"PoW\",\"PoW\",\"PoS\",\"PoS/PoW/PoT\",\"PoW\",\"PoW\",\"PoW\",\"PoW\",\"PoW\",\"PoW/PoS\",\"PoS\",\"PoW\",\"PoW/PoS\",\"PoW\",\"PoW\",\"PoW\",\"PoW\",\"PoW/PoS\",\"PoW\",\"PoW\",\"PoS\",\"PoW\",\"PoW/PoS\",\"PoS\",\"PoW/PoS\",\"PoW\",\"PoW\",\"PoW\",\"PoW/PoS\",\"PoW/PoS\",\"PoW/PoS\",\"PoW/PoS\",\"PoW/PoS\",\"PoW\",\"PoW\",\"PoW\",\"PoS\",\"PoW/PoS\",\"PoW\",\"PoS\",\"PoW\",\"PoS\",\"PoW/PoS\",\"PoW\",\"PoW\",\"PoW\",\"PoW\",\"PoW/PoS\",\"PoW/PoS\",\"PoW\",\"PoST\",\"PoW\",\"PoW\",\"PoW/PoS\",\"PoS\",\"PoW\",\"PoW/PoS\",\"PoW/PoS\",\"PoW\",\"PoW\",\"PoC\",\"PoS\",\"PoW\",\"PoW/PoS\",\"PoW/PoS\",\"PoW\",\"PoS\",\"PoW\",\"PoW/PoS\",\"PoW\",\"PoS\",\"PoW\",\"PoW/PoS\",\"PoW/PoS\",\"PoW\",\"PoW\",\"PoS\",\"PoW\",\"PoW\",\"PoW\",\"PoW/PoS\",\"PoW\",\"PoW\",\"PoW\",\"PoW\",\"PoW\",\"PoW/PoS\",\"PoW/nPoS\",\"PoW\",\"PoW\",\"PoW\",\"PoW/PoS\",\"PoW\",\"PoS/PoW\",\"PoW\",\"PoW\",\"PoS\",\"PoW\",\"PoW/PoS\",\"PoW\",\"PoW/PoS\",\"PoW/PoS\",\"PoW\",\"PoW\",\"PoW/PoS\",\"PoW\",\"PoW\",\"PoW/PoS\",\"PoW/PoS\",\"PoW\",\"PoW/PoS\",\"PoW\",\"PoW/PoS\",\"PoW/PoS\",\"PoS\",\"PoW\",\"PoW\",\"PoW\",\"PoW\",\"PoW/PoS\",\"PoS\",\"PoW/PoS\",\"PoC\",\"PoS\",\"PoW\",\"PoW\",\"PoW/PoS\",\"PoW/PoS\",\"PoW/PoS\",\"PoW/PoS\",\"PoW/PoS\",\"PoW\",\"PoS\",\"PoW/PoS\",\"PoW/PoS\",\"PoW/PoS\",\"PoS\",\"PoW\",\"PoS\",\"dPoW/PoW\",\"PoW/PoS\",\"PoW/PoS\",\"PoW\",\"PoW/PoS\",\"PoW\",\"PoW/PoS\",\"PoW/PoS\",\"PoW\",\"PoW/PoS\",\"PoW\",\"PoS\",\"PoW\",\"PoW/PoW\",\"PoW\",\"PoW/PoS\",\"PoS\",\"PoW/PoS\",\"PoW/PoS\",\"PoW\",\"PoS\",\"PoS\",\"PoW/PoS\",\"PoS\",\"PoW/PoS\",\"PoW\",\"PoW\",\"DPoS\",\"PoW/PoS\",\"PoW\",\"PoW\",\"PoW/PoS\",\"PoW/PoS\",\"PoS\",\"PoW/PoS\",\"PoW/PoS\",\"PoW\",\"PoS\",\"PoW/PoS\",\"PoW/PoS\",\"PoW/PoS\",\"TPoS\",\"PoW/PoS\",\"PoW/PoS\",\"PoW/PoS\",\"PoW\",\"PoW/PoS\",\"PoS\",\"PoW/PoS\",\"PoW/PoS\",\"PoS\",\"PoW/PoS\",\"PoW\",\"PoW\",\"PoW\",\"PoW/PoS\",\"PoW/PoS\",\"PoW/PoS\",\"PoW/PoS\",\"PoW\",\"PoW/PoS\",\"PoW\",\"PoS\",\"PoW/PoS \",\"PoW\",\"PoS\",\"PoW\",\"PoW\",\"PoW/PoS\",\"PoW\",\"PoW\",\"PoS\",\"PoW\",\"PoW/PoS\",\"PoW/PoS\",\"PoW/PoS\",\"PoW\",\"PoS\",\"PoW/PoS\",\"PoW\",\"PoS\",\"PoW/PoS\",\"PoW/PoS\",\"PoW/PoS\",\"PoW/PoS\",\"PoS\",\"PoW/PoS\",\"PoW\",\"PoS\",\"PoW\",\"PoS\",\"PoW/PoS\",\"PoW/PoS\",\"PoS\",\"PoW\",\"PoS\",\"PoW\",\"PoW/PoS\",\"PoW\",\"PoW\",\"PoW\",\"PoW\",\"PoW/PoS\",\"PoW\",\"PoW/PoS\",\"PoW/PoS\",\"PoW\",\"PoW/PoS\",\"PoW\",\"PoW\",\"PoW\",\"PoW/PoS\",\"PoW\",\"PoW/PoS\",\"PoW\",\"PoW\",\"PoW\",\"PoS\",\"PoW\",\"PoW/PoS\",\"PoW\",\"PoW/PoS\",\"PoS\",\"Proof of Authority\",\"PoW\",\"PoS\",\"PoW\",\"PoW\",\"PoW\",\"PoW\",\"PoW\",\"PoW/PoS\",\"PoW/PoS\",\"PoW\",\"PoS\",\"PoS\",\"PoW/PoS\",\"PoW\",\"PoW/PoS\",\"PoW\",\"PoW/PoS\",\"PoW\",\"PoS\",\"PoW\",\"PoW/PoS\",\"PoW/PoS\",\"PoW/PoS\",\"PoW/PoS\",\"PoW\",\"PoW/PoS\",\"PoW/PoS\",\"PoW\",\"PoS\",\"PoW/PoS\",\"PoS\",\"PoW\",\"PoW\",\"PoW\",\"PoW\",\"PoW/PoS\",\"DPoS\",\"PoW/PoS\",\"PoW/PoS\",\"PoW\",\"PoW/PoS\",\"PoW\",\"PoW\",\"PoW\",\"PoS\",\"PoS\",\"PoW\",\"PoW\",\"PoW/PoS\",\"PoW/PoS\",\"PoW\",\"PoW/PoS\",\"PoW\",\"PoW\",\"PoW\",\"PoS\",\"PoW\",\"PoW\",\"PoW/PoS\",\"PoW/PoS\",\"PoS\",\"PoW\",\"PoW\",\"PoW\",\"PoS\",\"PoS\",\"PoW and PoS\",\"PoW\",\"PoW\",\"PoW/PoS\",\"PoW\",\"PoW\",\"PoW\",\"PoW\",\"PoS\",\"POBh\",\"PoW + Hive\",\"PoW\",\"PoW\",\"PoW\",\"PoW/PoS\",\"PoA\",\"PoW/PoS\",\"PoW/PoS\",\"PoS\",\"PoS\",\"PoW\",\"PoW\",\"PoW\",\"PoW\",\"PoW/PoS\",\"PoW/PoS\",\"PoW/PoS\",\"PoW\",\"PoS\",\"PoW\",\"PoS\",\"PoS\",\"PoW/PoS\",\"DPoS\",\"PoW\",\"PoW/PoS\",\"PoS\",\"PoW\",\"PoS\",\"PoW/PoS\",\"PoW\",\"PoW\",\"PoS/PoW\",\"PoW\",\"PoS\",\"PoW\",\"PoW\",\"PoW\",\"PoW\",\"PoW/PoS\",\"PoS\",\"PoW\",\"PoW/PoS\",\"PoW\",\"PoW/PoS\",\"PoS\",\"HPoW\",\"PoS\",\"PoS\",\"PoS\",\"PoW\",\"PoW\",\"PoW\",\"PoW/PoS\",\"PoS\",\"PoW/PoS\",\"PoS\",\"PoW/PoS\",\"PoS\",\"PoW\",\"PoW/PoS\",\"PoW\",\"PoW\",\"PoW\",\"PoW\",\"PoS\",\"PoW/PoS\",\"PoS\",\"PoS\",\"PoW\",\"PoW/PoS\",\"PoS\",\"PoW\",\"PoW/PoS\",\"Zero-Knowledge Proof\",\"PoW\",\"DPOS\",\"PoW\",\"PoS\",\"PoW\",\"PoW\",\"Pos\",\"PoS\",\"PoW\",\"PoW/PoS\",\"PoW\",\"PoW\",\"PoS\",\"PoW\",\"PoW\",\"PoW/PoS\",\"PoW\",\"PoW/PoS\",\"PoW\",\"PoS\",\"PoW/PoS\",\"PoW\",\"PoS\",\"PoW/PoS\",\"PoW/PoS\",\"PoW/PoS\",\"PoW/PoS\",\"PoW\",\"PoW\",\"PoW\",\"PoW/PoS\",\"DPoS\",\"PoW/PoS\",\"PoW\",\"PoW/PoS\",\"PoW\",\"PoW/PoS\",\"PoW\",\"PoW/PoS\",\"PoS\",\"PoW/PoS\",\"PoW/PoS\",\"PoW\",\"PoW/PoS\",\"PoW/PoS\",\"PoW/PoS\",\"PoW\",\"PoW/PoS\",\"PoW\",\"PoW/PoS\",\"PoW\",\"PoW/PoS\",\"PoW/PoS\",\"PoS\",\"PoW\",\"PoW\",\"Proof of Trust\",\"PoW/PoS\",\"DPoS\",\"PoS\",\"PoW/PoS\",\"PoW/PoS\",\"DPoC\",\"PoW\",\"PoW/PoS\",\"PoW\",\"DPoS\",\"PoW\",\"DPoS\",\"PoS\",\"LPoS\",\"PoS\",\"DPoS\",\"PoS/LPoS\",\"DPoS\",\"PoW/PoS\",\"PoW\",\"PoW\",\"PoS\"],\"TotalCoinSupply\":[\"42\",\"532000000\",\"314159265359\",\"21000000\",\"0\",\"84000000\",\"22000000\",\"0\",\"210000000\",\"21000000\",\"3600570502\",\"21000000000\",\"22000000\",\"12500000\",\"21000000\",\"350000000\",\"20000000\",\"64000000\",\"16768584\",\"0\",\"2000000000\",\"384000000000\",\"169795588\",\"250000000\",\"100000000\",\"0\",\"247000000\",\"84000000\",\"48166000\",\"500000\",\"21000000 \",\"1000000\",\"13140000\",\"18000000\",\"40000000000\",\"4380000\",\"16555000000\",\"21000000000\",\"13500000000\",\"21000000 \",\"299792458\",\"32000000\",\"0\",\"0\",\"11235813\",\"336000000\",\"1420609614\",\"70000000\",\"72245700\",\"120000000\",\"0\",\"90600000000\",\"22000000\",\"21000000\",\"265420800\",\"20000000\",\"1350000\",\"100000000\",\"42000000\",\"200000000\",\"0\",\"10000000\",\"2419200000\",\"16180000\",\"0\",\"15000000000\",\"21000000\",\"337000000\",\"0\",\"3770000\",\"420000000\",\"98000000\",\"0\",\"21000000\",\"250000000\",\"51200000\",\"0\",\"1000\",\"888000000\",\"100000000\",\"47011968\",\"2300000000\",\"10000000\",\"42000000\",\"80000000\",\"250000\",\"0\",\"1600000000\",\"100000000\",\"23000000\",\"0\",\"84000000\",\"265420800\",\"5500000\",\"0\",\"45000000\",\"0\",\"1000000000\",\"184467440735\",\"10000000000\",\"2158812800\",\"500000000\",\"105120000\",\"68000000\",\"0\",\"1680000000\",\"0\",\"166386000\",\"12000000\",\"2628000\",\"500000000\",\"160000000\",\"0\",\"10000000\",\"1000000000\",\"1000000000\",\"20000000\",\"0\",\"0\",\"3371337\",\"20000000\",\"10000000000\",\"1840000000\",\"619478\",\"21000000\",\"92000000000\",\"0\",\"78000000\",\"33000000\",\"65789100\",\"53760000\",\"5060000\",\"21000000\",\"0\",\"210240000\",\"250000000\",\"100000000\",\"16906397\",\"50000000\",\"0\",\"1000000000\",\"26298000\",\"16000000\",\"21000000\",\"21000000\",\"210000000\",\"81962100\",\"22000000\",\"26550000000\",\"84000000\",\"10500000\",\"21626280000 \",\"0\",\"42000000\",\"221052632\",\"84000000\",\"30000000\",\"168351300\",\"24000000\",\"384000000\",\" 99000000000\",\"40000000\",\"2147483647\",\"20000000\",\"20000000\",\"25000000\",\"75000000\",\"222725000\",\"525000000\",\"90000000\",\"139000000\",\"616448\",\"33500000\",\"2000000000\",\"44333333\",\"100000000\",\"200000000\",\"25000000\",\"657000000\",\"200000000\",\"50000000\",\"90000000\",\"10000000\",\"21000000\",\"9736000\",\"3000000\",\"21000000\",\"1200000000\",\"0\",\"200000000\",\"0\",\"10638298\",\"3100000000\",\"30000000\",\"20000000000\",\"74000000\",\"0\",\"1500000000\",\"21400000\",\"39999898\",\"2500124\",\"100000000\",\"301000000\",\"7506000000\",\"26205539\",\"21000000\",\"125000000\",\"30000000\",\"10000000000\",\"500000000\",\"850000000\",\"3853326.77707314\",\"50000000\",\"38540000 \",\"42000000\",\"228000000\",\"20000000\",\"60000000\",\"20000000\",\"33000000\",\"76500000\",\"28000000\",\"650659833\",\"5000000\",\"21000000\",\"144000000\",\"32514916898\",\"13000000\",\"3315789\",\"15000000\",\"78835200\",\"2714286\",\"25000000\",\"9999999\",\"500000000\",\"21000000\",\"9354000\",\"20000000\",\"100000000000\",\"21933333\",\"185000000\",\"55000000\",\"110000000\",\"3360000\",\"14524851.4827\",\"1000000000\",\"17000000\",\"1000000000\",\"100000000 \",\"21000000\",\"34426423\",\"2232901\",\"100000000\",\"36900000\",\"110000000\",\"4000000000\",\"110290030\",\"100000000\",\"48252000\",\"400000000\",\"500000000\",\"21212121\",\"28600000\",\"1000000000\",\"75000000000\",\"40000000\",\"35520400\",\"2000000000\",\"2500000000\",\"30000000\",\"105000000\",\"90000000000\",\"200084200\",\"72000000\",\"100000000\",\"105000000\",\"50000000000\",\"0\",\"340282367\",\"30000000\",\"2000000000\",\"10000000\",\"100000000\",\"120000000\",\"100000000\",\"19276800\",\"30000000\",\" 75000000\",\"60000000\",\"18900000\",\"50000000000\",\"54000000\",\"18898187.6216583\",\"21000000\",\"200000000000\",\"5000000000\",\"137500000\",\"1100000000\",\"100000000\",\"21000000\",\"9507271\",\"17405891.19707116\",\"86712634466\",\"10500000000\",\"61599965\",\"0\",\"20000000\",\"84000000\",\"100000000\",\"100000000\",\"48252000\",\"4200000\",\"88888888\",\"91388946\",\"45000000000\",\"27000000\",\"21000000000\",\"400000000\",\"1800000000\",\"15733333\",\"27000000\",\"24000000\",\"21000000\",\"25000000000\",\"100000000\",\"1200000000\",\"60000000\",\"156306732.71\",\"21000000\",\"200000000\",\"100000000\",\"21000000\",\"14788275.991\",\"9000000000\",\"350000000\",\"45000000\",\"280000000\",\"31800000\",\"144000000\",\"500000000\",\"30000000000\",\"210000000\",\"660000000\",\"210000000\",\"85000000000\",\"12500000\",\"10000000000\",\"27716121\",\"20000000\",\"550000000\",\"999481516\",\"50000000000\",\"150000000\",\"4999999999\",\"50000000\",\" 90000000000\",\"19800000\",\"21000000\",\"120000000\",\"500000000\",\"64000000\",\"900000000\",\"4000000\",\"21000000\",\"23000000\",\"20166000\",\"23000000\",\"25000000\",\"1618033\",\"30000000\",\"1000000000000\",\"16600000\",\"232000000\",\"336000000\",\"10000000000\",\"100000000\",\"1100000000\",\"800000000\",\"5200000000\",\"840000000\",\"40000000\",\"18406979840\",\"500000000\",\"19340594\",\"252460800\",\"25000000\",\"60000000\",\"124000000\",\"1000000000\",\"6500000000\",\"1000000000\",\"21000000\",\"25000000\",\"50000000\",\"3000000\",\"5000000\",\"70000000\",\"500000000\",\"300000000\",\"21000000\",\"88000000\",\"30000000\",\"100000000\",\"100000000\",\"200000000\",\"80000000\",\"18400000\",\"45000000\",\"5121951220\",\"21000000\",\"26280000\",\"21000000\",\"18000000\",\"26000000\",\"10500000\",\"600000518\",\"150000000\",\"184000000000\",\"10200000000\",\"44000000\",\"168000000\",\"100000000\",\"1000000000\",\"84000000\",\"90000000\",\"92000000000\",\"650000000 \",\"100262205\",\"18081806 \",\"22075700\",\"21000000\",\"21000000\",\"82546564\",\"21000000\",\"5151000\",\"16880000000\",\"52500000\",\"100000000\",\"22105263\",\"1000000000\",\"1750000000\",\"88188888\",\"210000000\",\"184470000000\",\"55000000\",\"50000000\",\"260000000\",\"210000000\",\"2100000000\",\"366000000\",\"100000000\",\"25000000\",\"18000000000\",\"1000000000\",\"100000000\",\"1000000000\",\"7600000000\",\"50000000\",\"84000000\",\"21000000\",\"70000000000\",\"0\",\"8080000000\",\"54000000\",\"105120001.44\",\"25228800\",\"105000000\",\"21000000\",\"120000000\",\"21000000\",\"262800000\",\"19035999\",\"30886000\",\"13370000\",\"74800000000\",\"100000000\",\"19700000\",\"84000000\",\"500000000\",\"5000000000\",\"420000000\",\"64000000\",\"2100000\",\"168000000\",\"30000000\",\"1000000000\",\"35000000000\",\"98100000000\",\"0\",\"4000000000\",\"200000000\",\"7000000000\",\"54256119\",\"21000000\",\"0\",\"500000000\",\"1000000000\",\"10500000000\",\"190000000\",\"1000000000\",\"42000000\",\"15000000\",\"50000000000\",\"400000000\",\"105000000\",\"208000000\",\"160000000\",\"9000000\",\"5000000\",\"182000000\",\"16504333\",\"105000000\",\"159918400\",\"10008835635\",\"300000000\",\"60168145\",\"5000000000\",\"2800000\",\"120000\",\"2100000000\",\"0\",\"24487944\",\"0\",\"1000000000\",\"100000000\",\"8634140\",\"990000000000\",\"1000000000\",\"2000000000\",\"250000000\",\"1400222610\",\"21000000\",\"1000000\"],\"TotalCoinsMined\":{\"__ndarray__\":\"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\",\"dtype\":\"float64\",\"order\":\"little\",\"shape\":[533]}},\"selected\":{\"id\":\"1123\"},\"selection_policy\":{\"id\":\"1157\"}},\"id\":\"1122\",\"type\":\"ColumnDataSource\"},{\"attributes\":{\"editor\":{\"id\":\"1145\"},\"field\":\"TotalCoinsMined\",\"formatter\":{\"id\":\"1144\"},\"title\":\"TotalCoinsMined\"},\"id\":\"1146\",\"type\":\"TableColumn\"},{\"attributes\":{},\"id\":\"1125\",\"type\":\"StringEditor\"},{\"attributes\":{\"editor\":{\"id\":\"1135\"},\"field\":\"ProofType\",\"formatter\":{\"id\":\"1134\"},\"title\":\"ProofType\"},\"id\":\"1136\",\"type\":\"TableColumn\"},{\"attributes\":{},\"id\":\"1157\",\"type\":\"UnionRenderers\"},{\"attributes\":{\"margin\":[5,5,5,5],\"name\":\"HSpacer01800\",\"sizing_mode\":\"stretch_width\"},\"id\":\"1121\",\"type\":\"Spacer\"},{\"attributes\":{},\"id\":\"1139\",\"type\":\"StringFormatter\"},{\"attributes\":{\"children\":[{\"id\":\"1121\"},{\"id\":\"1154\"},{\"id\":\"1161\"}],\"margin\":[0,0,0,0],\"name\":\"Row01796\",\"tags\":[\"embedded\"]},\"id\":\"1120\",\"type\":\"Row\"},{\"attributes\":{\"columns\":[{\"id\":\"1126\"},{\"id\":\"1131\"},{\"id\":\"1136\"},{\"id\":\"1141\"},{\"id\":\"1146\"},{\"id\":\"1151\"}],\"height\":300,\"reorderable\":false,\"source\":{\"id\":\"1122\"},\"view\":{\"id\":\"1156\"},\"width\":700},\"id\":\"1154\",\"type\":\"DataTable\"},{\"attributes\":{},\"id\":\"1150\",\"type\":\"IntEditor\"},{\"attributes\":{},\"id\":\"1149\",\"type\":\"NumberFormatter\"},{\"attributes\":{},\"id\":\"1124\",\"type\":\"StringFormatter\"},{\"attributes\":{},\"id\":\"1134\",\"type\":\"StringFormatter\"},{\"attributes\":{},\"id\":\"1145\",\"type\":\"NumberEditor\"},{\"attributes\":{\"editor\":{\"id\":\"1140\"},\"field\":\"TotalCoinSupply\",\"formatter\":{\"id\":\"1139\"},\"title\":\"TotalCoinSupply\"},\"id\":\"1141\",\"type\":\"TableColumn\"},{\"attributes\":{},\"id\":\"1123\",\"type\":\"Selection\"},{\"attributes\":{},\"id\":\"1130\",\"type\":\"StringEditor\"},{\"attributes\":{\"editor\":{\"id\":\"1150\"},\"field\":\"Class\",\"formatter\":{\"id\":\"1149\"},\"title\":\"Class\"},\"id\":\"1151\",\"type\":\"TableColumn\"},{\"attributes\":{\"format\":\"0,0.0[00000]\"},\"id\":\"1144\",\"type\":\"NumberFormatter\"},{\"attributes\":{\"source\":{\"id\":\"1122\"}},\"id\":\"1156\",\"type\":\"CDSView\"},{\"attributes\":{\"editor\":{\"id\":\"1125\"},\"field\":\"CoinName\",\"formatter\":{\"id\":\"1124\"},\"title\":\"CoinName\"},\"id\":\"1126\",\"type\":\"TableColumn\"},{\"attributes\":{\"editor\":{\"id\":\"1130\"},\"field\":\"Algorithm\",\"formatter\":{\"id\":\"1129\"},\"title\":\"Algorithm\"},\"id\":\"1131\",\"type\":\"TableColumn\"},{\"attributes\":{},\"id\":\"1129\",\"type\":\"StringFormatter\"},{\"attributes\":{\"margin\":[5,5,5,5],\"name\":\"HSpacer01801\",\"sizing_mode\":\"stretch_width\"},\"id\":\"1161\",\"type\":\"Spacer\"},{\"attributes\":{},\"id\":\"1135\",\"type\":\"StringEditor\"}],\"root_ids\":[\"1120\"]},\"title\":\"Bokeh Application\",\"version\":\"2.3.2\"}};\n",
       "    var render_items = [{\"docid\":\"67f46d85-21a2-4264-8921-80bfce55f2c5\",\"root_ids\":[\"1120\"],\"roots\":{\"1120\":\"4e670845-1da6-4c6f-b51f-323e50401742\"}}];\n",
       "    root.Bokeh.embed.embed_items_notebook(docs_json, render_items);\n",
       "  }\n",
       "  if (root.Bokeh !== undefined && root.Bokeh.Panel !== undefined) {\n",
       "    embed_document(root);\n",
       "  } else {\n",
       "    var attempts = 0;\n",
       "    var timer = setInterval(function(root) {\n",
       "      if (root.Bokeh !== undefined && root.Bokeh.Panel !== undefined) {\n",
       "        clearInterval(timer);\n",
       "        embed_document(root);\n",
       "      } else if (document.readyState == \"complete\") {\n",
       "        attempts++;\n",
       "        if (attempts > 200) {\n",
       "          clearInterval(timer);\n",
       "          console.log(\"Bokeh: ERROR: Unable to run BokehJS code because BokehJS library is missing\");\n",
       "        }\n",
       "      }\n",
       "    }, 25, root)\n",
       "  }\n",
       "})(window);</script>"
      ],
      "text/plain": [
       ":Table   [CoinName,Algorithm,ProofType,TotalCoinSupply,TotalCoinsMined,Class]"
      ]
     },
     "execution_count": 102,
     "metadata": {
      "application/vnd.holoviews_exec.v0+json": {
       "id": "1120"
      }
     },
     "output_type": "execute_result"
    }
   ],
   "source": [
    "# Create a table with tradable cryptocurrencies.\n",
    "clustered_df.hvplot.table(columns=['CoinName', 'Algorithm', 'ProofType', 'TotalCoinSupply','TotalCoinsMined','Class'], sortable=True, selectable=True)"
   ]
  },
  {
   "cell_type": "code",
   "execution_count": 104,
   "metadata": {},
   "outputs": [
    {
     "name": "stdout",
     "output_type": "stream",
     "text": [
      "there are 533 cryptocurrencies.\n"
     ]
    }
   ],
   "source": [
    "# Print the total number of tradable cryptocurrencies.\n",
    "rows = len(clustered_df.index)\n",
    "print(f'there are {rows} cryptocurrencies.')"
   ]
  },
  {
   "cell_type": "code",
   "execution_count": 108,
   "metadata": {},
   "outputs": [
    {
     "data": {
      "text/plain": [
       "array([[4.20000000e-11, 5.94230127e-03],\n",
       "       [5.32000000e-04, 7.00182308e-03],\n",
       "       [3.14159265e-01, 3.53420682e-02],\n",
       "       ...,\n",
       "       [1.40022261e-03, 6.92655266e-03],\n",
       "       [2.10000000e-05, 5.94962775e-03],\n",
       "       [1.00000000e-06, 5.94243008e-03]])"
      ]
     },
     "execution_count": 108,
     "metadata": {},
     "output_type": "execute_result"
    }
   ],
   "source": [
    "# Scaling data to create the scatter plot with tradable cryptocurrencies.\n",
    "X_mms = clustered_df[['TotalCoinSupply','TotalCoinsMined']]\n",
    "X_mms = MinMaxScaler().fit_transform(X_mms)\n",
    "X_mms"
   ]
  },
  {
   "cell_type": "code",
   "execution_count": 109,
   "metadata": {},
   "outputs": [
    {
     "data": {
      "text/html": [
       "<div>\n",
       "<style scoped>\n",
       "    .dataframe tbody tr th:only-of-type {\n",
       "        vertical-align: middle;\n",
       "    }\n",
       "\n",
       "    .dataframe tbody tr th {\n",
       "        vertical-align: top;\n",
       "    }\n",
       "\n",
       "    .dataframe thead th {\n",
       "        text-align: right;\n",
       "    }\n",
       "</style>\n",
       "<table border=\"1\" class=\"dataframe\">\n",
       "  <thead>\n",
       "    <tr style=\"text-align: right;\">\n",
       "      <th></th>\n",
       "      <th>TotalCoinSupply</th>\n",
       "      <th>TotalCoinsMined</th>\n",
       "      <th>CoinName</th>\n",
       "      <th>Class</th>\n",
       "    </tr>\n",
       "  </thead>\n",
       "  <tbody>\n",
       "    <tr>\n",
       "      <th>42</th>\n",
       "      <td>4.200000e-11</td>\n",
       "      <td>0.005942</td>\n",
       "      <td>42 Coin</td>\n",
       "      <td>0</td>\n",
       "    </tr>\n",
       "    <tr>\n",
       "      <th>404</th>\n",
       "      <td>5.320000e-04</td>\n",
       "      <td>0.007002</td>\n",
       "      <td>404Coin</td>\n",
       "      <td>0</td>\n",
       "    </tr>\n",
       "    <tr>\n",
       "      <th>1337</th>\n",
       "      <td>3.141593e-01</td>\n",
       "      <td>0.035342</td>\n",
       "      <td>EliteCoin</td>\n",
       "      <td>0</td>\n",
       "    </tr>\n",
       "    <tr>\n",
       "      <th>BTC</th>\n",
       "      <td>2.100000e-05</td>\n",
       "      <td>0.005960</td>\n",
       "      <td>Bitcoin</td>\n",
       "      <td>3</td>\n",
       "    </tr>\n",
       "    <tr>\n",
       "      <th>ETH</th>\n",
       "      <td>0.000000e+00</td>\n",
       "      <td>0.006050</td>\n",
       "      <td>Ethereum</td>\n",
       "      <td>3</td>\n",
       "    </tr>\n",
       "    <tr>\n",
       "      <th>LTC</th>\n",
       "      <td>8.400000e-05</td>\n",
       "      <td>0.006006</td>\n",
       "      <td>Litecoin</td>\n",
       "      <td>3</td>\n",
       "    </tr>\n",
       "    <tr>\n",
       "      <th>DASH</th>\n",
       "      <td>2.200000e-05</td>\n",
       "      <td>0.005951</td>\n",
       "      <td>Dash</td>\n",
       "      <td>0</td>\n",
       "    </tr>\n",
       "    <tr>\n",
       "      <th>XMR</th>\n",
       "      <td>0.000000e+00</td>\n",
       "      <td>0.005960</td>\n",
       "      <td>Monero</td>\n",
       "      <td>3</td>\n",
       "    </tr>\n",
       "    <tr>\n",
       "      <th>ETC</th>\n",
       "      <td>2.100000e-04</td>\n",
       "      <td>0.006056</td>\n",
       "      <td>Ethereum Classic</td>\n",
       "      <td>3</td>\n",
       "    </tr>\n",
       "    <tr>\n",
       "      <th>ZEC</th>\n",
       "      <td>2.100000e-05</td>\n",
       "      <td>0.005950</td>\n",
       "      <td>ZCash</td>\n",
       "      <td>3</td>\n",
       "    </tr>\n",
       "  </tbody>\n",
       "</table>\n",
       "</div>"
      ],
      "text/plain": [
       "      TotalCoinSupply  TotalCoinsMined          CoinName  Class\n",
       "42       4.200000e-11         0.005942           42 Coin      0\n",
       "404      5.320000e-04         0.007002           404Coin      0\n",
       "1337     3.141593e-01         0.035342         EliteCoin      0\n",
       "BTC      2.100000e-05         0.005960           Bitcoin      3\n",
       "ETH      0.000000e+00         0.006050          Ethereum      3\n",
       "LTC      8.400000e-05         0.006006          Litecoin      3\n",
       "DASH     2.200000e-05         0.005951              Dash      0\n",
       "XMR      0.000000e+00         0.005960            Monero      3\n",
       "ETC      2.100000e-04         0.006056  Ethereum Classic      3\n",
       "ZEC      2.100000e-05         0.005950             ZCash      3"
      ]
     },
     "execution_count": 109,
     "metadata": {},
     "output_type": "execute_result"
    }
   ],
   "source": [
    "# Create a new DataFrame that has the scaled data with the clustered_df DataFrame index.\n",
    "plot_df = pd.DataFrame(\n",
    "    data=X_mms, \n",
    "    columns=['TotalCoinSupply','TotalCoinsMined'], \n",
    "    index=clustered_df.index\n",
    ")\n",
    "\n",
    "# Add the \"CoinName\" column from the clustered_df DataFrame to the new DataFrame.\n",
    "plot_df['CoinName'] = clustered_df['CoinName']\n",
    "\n",
    "# Add the \"Class\" column from the clustered_df DataFrame to the new DataFrame. \n",
    "plot_df['Class'] = clustered_df['Class']\n",
    "\n",
    "plot_df.head(10)"
   ]
  },
  {
   "cell_type": "code",
   "execution_count": 112,
   "metadata": {},
   "outputs": [
    {
     "data": {},
     "metadata": {},
     "output_type": "display_data"
    },
    {
     "data": {
      "application/vnd.holoviews_exec.v0+json": "",
      "text/html": [
       "<div id='1536'>\n",
       "\n",
       "\n",
       "\n",
       "\n",
       "\n",
       "  <div class=\"bk-root\" id=\"3d3fe793-d11e-47f3-8a11-aec185c6d05f\" data-root-id=\"1536\"></div>\n",
       "</div>\n",
       "<script type=\"application/javascript\">(function(root) {\n",
       "  function embed_document(root) {\n",
       "    var docs_json = {\"1bb1fe1a-bf70-49f0-bc33-756081e2e525\":{\"defs\":[{\"extends\":null,\"module\":null,\"name\":\"ReactiveHTML1\",\"overrides\":[],\"properties\":[]},{\"extends\":null,\"module\":null,\"name\":\"FlexBox1\",\"overrides\":[],\"properties\":[{\"default\":\"flex-start\",\"kind\":null,\"name\":\"align_content\"},{\"default\":\"flex-start\",\"kind\":null,\"name\":\"align_items\"},{\"default\":\"row\",\"kind\":null,\"name\":\"flex_direction\"},{\"default\":\"wrap\",\"kind\":null,\"name\":\"flex_wrap\"},{\"default\":\"flex-start\",\"kind\":null,\"name\":\"justify_content\"}]},{\"extends\":null,\"module\":null,\"name\":\"TemplateActions1\",\"overrides\":[],\"properties\":[{\"default\":0,\"kind\":null,\"name\":\"open_modal\"},{\"default\":0,\"kind\":null,\"name\":\"close_modal\"}]},{\"extends\":null,\"module\":null,\"name\":\"MaterialTemplateActions1\",\"overrides\":[],\"properties\":[{\"default\":0,\"kind\":null,\"name\":\"open_modal\"},{\"default\":0,\"kind\":null,\"name\":\"close_modal\"}]}],\"roots\":{\"references\":[{\"attributes\":{\"data_source\":{\"id\":\"1601\"},\"glyph\":{\"id\":\"1604\"},\"hover_glyph\":null,\"muted_glyph\":{\"id\":\"1606\"},\"nonselection_glyph\":{\"id\":\"1605\"},\"selection_glyph\":{\"id\":\"1622\"},\"view\":{\"id\":\"1608\"}},\"id\":\"1607\",\"type\":\"GlyphRenderer\"},{\"attributes\":{\"data\":{\"Class\":[3,3,3,3,3,3,3,3,3,3,3,3,3,3,3,3,3,3,3,3,3,3,3,3,3,3,3,3,3,3,3,3,3,3,3,3,3,3,3,3,3,3,3,3,3,3,3,3,3,3,3,3,3,3,3,3,3,3,3,3,3,3,3,3,3,3,3,3,3,3,3,3,3,3,3,3,3,3,3,3,3,3,3,3,3,3,3,3,3,3,3,3,3,3,3,3,3,3,3,3,3,3,3,3,3,3,3,3,3,3,3,3,3,3,3,3,3,3,3,3,3,3,3,3,3,3,3,3,3,3,3,3,3,3,3,3,3,3,3,3,3,3,3,3,3,3,3,3,3,3,3,3,3,3,3,3,3,3,3,3,3,3,3,3,3,3,3,3,3,3,3,3,3,3,3,3,3,3,3,3,3,3,3,3,3,3,3,3,3,3,3,3,3,3,3,3,3,3,3,3,3,3,3,3,3,3,3,3,3,3,3,3,3,3,3,3,3,3,3,3,3,3,3,3,3,3,3,3,3,3,3,3,3,3,3,3,3,3],\"CoinName\":[\"Bitcoin\",\"Ethereum\",\"Litecoin\",\"Monero\",\"Ethereum Classic\",\"ZCash\",\"DigiByte\",\"ProsperCoin\",\"Spreadcoin\",\"Argentum\",\"MyriadCoin\",\"MoonCoin\",\"ZetaCoin\",\"SexCoin\",\"Quatloo\",\"QuarkCoin\",\"Riecoin\",\"Digitalcoin \",\"Catcoin\",\"CannaCoin\",\"CryptCoin\",\"Verge\",\"DevCoin\",\"EarthCoin\",\"E-Gulden\",\"Einsteinium\",\"Emerald\",\"Franko\",\"FeatherCoin\",\"GrandCoin\",\"GlobalCoin\",\"GoldCoin\",\"Infinite Coin\",\"IXcoin\",\"KrugerCoin\",\"LuckyCoin\",\"Litebar \",\"MegaCoin\",\"MediterraneanCoin\",\"MinCoin\",\"NobleCoin\",\"Namecoin\",\"NyanCoin\",\"RonPaulCoin\",\"StableCoin\",\"SmartCoin\",\"SysCoin\",\"TigerCoin\",\"TerraCoin\",\"UnbreakableCoin\",\"Unobtanium\",\"UroCoin\",\"ViaCoin\",\"Vertcoin\",\"WorldCoin\",\"JouleCoin\",\"ByteCoin\",\"DigitalNote \",\"MonaCoin\",\"Gulden\",\"PesetaCoin\",\"Wild Beast Coin\",\"Flo\",\"ArtByte\",\"Folding Coin\",\"Unitus\",\"CypherPunkCoin\",\"OmniCron\",\"GreenCoin\",\"Cryptonite\",\"MasterCoin\",\"SoonCoin\",\"1Credit\",\"MarsCoin \",\"Crypto\",\"Anarchists Prime\",\"BowsCoin\",\"Song Coin\",\"BitZeny\",\"Expanse\",\"Siacoin\",\"MindCoin\",\"I0coin\",\"Revolution VR\",\"HOdlcoin\",\"Gamecredits\",\"CarpeDiemCoin\",\"Adzcoin\",\"SoilCoin\",\"YoCoin\",\"SibCoin\",\"Francs\",\"BolivarCoin\",\"Omni\",\"PizzaCoin\",\"Komodo\",\"Karbo\",\"ZayedCoin\",\"Circuits of Value\",\"DopeCoin\",\"DollarCoin\",\"Shilling\",\"ZCoin\",\"Elementrem\",\"ZClassic\",\"KiloCoin\",\"ArtexCoin\",\"Kurrent\",\"Cannabis Industry Coin\",\"OsmiumCoin\",\"Bikercoins\",\"HexxCoin\",\"PacCoin\",\"Citadel\",\"BeaverCoin\",\"VaultCoin\",\"Zero\",\"Canada eCoin\",\"Zoin\",\"DubaiCoin\",\"EB3coin\",\"Coinonat\",\"BenjiRolls\",\"ILCoin\",\"EquiTrader\",\"Quantum Resistant Ledger\",\"Dynamic\",\"Nano\",\"ChanCoin\",\"Dinastycoin\",\"DigitalPrice\",\"Unify\",\"SocialCoin\",\"ArcticCoin\",\"DAS\",\"LeviarCoin\",\"Bitcore\",\"gCn Coin\",\"SmartCash\",\"Onix\",\"Bitcoin Cash\",\"Sojourn Coin\",\"NewYorkCoin\",\"FrazCoin\",\"Kronecoin\",\"AdCoin\",\"Linx\",\"Sumokoin\",\"BitcoinZ\",\"Elements\",\"VIVO Coin\",\"Bitcoin Gold\",\"Pirl\",\"eBoost\",\"Pura\",\"Innova\",\"Ellaism\",\"GoByte\",\"SHIELD\",\"UltraNote\",\"BitCoal\",\"DaxxCoin\",\"AC3\",\"Lethean\",\"PopularCoin\",\"Photon\",\"Sucre\",\"SparksPay\",\"GunCoin\",\"IrishCoin\",\"Pioneer Coin\",\"UnitedBitcoin\",\"Interzone\",\"TurtleCoin\",\"MUNcoin\",\"Niobio Cash\",\"ShareChain\",\"Travelflex\",\"KREDS\",\"BitFlip\",\"LottoCoin\",\"Crypto Improvement Fund\",\"Callisto Network\",\"BitTube\",\"Poseidon\",\"Aidos Kuneen\",\"Bitrolium\",\"Alpenschillling\",\"FuturoCoin\",\"Monero Classic\",\"Jumpcoin\",\"Infinex\",\"KEYCO\",\"GINcoin\",\"PlatinCoin\",\"Loki\",\"Newton Coin\",\"MassGrid\",\"PluraCoin\",\"Motion\",\"PlusOneCoin\",\"Axe\",\"HexCoin\",\"Webchain\",\"Ryo\",\"Urals Coin\",\"Qwertycoin\",\"Project Pai\",\"Azart\",\"Xchange\",\"CrypticCoin\",\"Actinium\",\"Bitcoin SV\",\"FREDEnergy\",\"Universal Molecule\",\"Lithium\",\"Exosis\",\"Block-Logic\",\"Beam\",\"Bithereum\",\"SLICE\",\"BLAST\",\"Bitcoin Rhodium\",\"GlobalToken\",\"SolarCoin\",\"UFO Coin\",\"BlakeCoin\",\"Crypto Escudo\",\"Crown Coin\",\"SmileyCoin\",\"Groestlcoin\",\"Bata\",\"Pakcoin\",\"JoinCoin\",\"Vollar\",\"Reality Clash\",\"Beldex\",\"Horizen\"],\"TotalCoinSupply\":{\"__ndarray__\":\"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\",\"dtype\":\"float64\",\"order\":\"little\",\"shape\":[238]},\"TotalCoinsMined\":{\"__ndarray__\":\"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\",\"dtype\":\"float64\",\"order\":\"little\",\"shape\":[238]}},\"selected\":{\"id\":\"1648\"},\"selection_policy\":{\"id\":\"1669\"}},\"id\":\"1647\",\"type\":\"ColumnDataSource\"},{\"attributes\":{\"source\":{\"id\":\"1601\"}},\"id\":\"1608\",\"type\":\"CDSView\"},{\"attributes\":{\"source\":{\"id\":\"1580\"}},\"id\":\"1587\",\"type\":\"CDSView\"},{\"attributes\":{\"active_multi\":null,\"tools\":[{\"id\":\"1540\"},{\"id\":\"1561\"},{\"id\":\"1562\"},{\"id\":\"1563\"},{\"id\":\"1564\"},{\"id\":\"1565\"}]},\"id\":\"1567\",\"type\":\"Toolbar\"},{\"attributes\":{\"label\":{\"value\":\"0\"},\"renderers\":[{\"id\":\"1586\"}]},\"id\":\"1599\",\"type\":\"LegendItem\"},{\"attributes\":{\"bottom_units\":\"screen\",\"fill_alpha\":0.5,\"fill_color\":\"lightgrey\",\"left_units\":\"screen\",\"level\":\"overlay\",\"line_alpha\":1.0,\"line_color\":\"black\",\"line_dash\":[4,4],\"line_width\":2,\"right_units\":\"screen\",\"syncable\":false,\"top_units\":\"screen\"},\"id\":\"1566\",\"type\":\"BoxAnnotation\"},{\"attributes\":{},\"id\":\"1619\",\"type\":\"UnionRenderers\"},{\"attributes\":{\"data\":{\"Class\":[0,0,0,0,0,0,0,0,0,0,0,0,0,0,0,0,0,0,0,0,0,0,0,0,0,0,0,0,0,0,0,0,0,0,0,0,0,0,0,0,0,0,0,0,0,0,0,0,0,0,0,0,0,0,0,0,0,0,0,0,0,0,0,0,0,0,0,0,0,0,0,0,0,0,0,0,0,0,0,0,0,0,0,0,0,0,0,0,0,0,0,0,0,0,0,0,0,0,0,0,0,0,0,0,0,0,0,0,0,0,0,0,0,0,0,0,0,0,0,0,0,0,0,0,0,0,0,0,0,0,0,0,0,0,0,0,0,0,0,0,0,0,0,0,0,0,0,0,0,0,0,0,0,0,0,0,0,0,0,0,0,0,0,0,0,0,0,0,0,0,0,0,0,0,0,0,0,0,0,0,0,0,0,0,0,0,0,0,0,0,0,0,0,0,0,0,0,0,0,0,0,0,0,0,0,0,0,0,0,0,0,0,0,0,0,0,0,0,0,0,0,0,0,0,0,0,0,0,0,0,0,0,0,0,0,0,0,0,0,0,0,0,0,0,0,0,0,0,0,0,0,0,0,0,0,0,0,0,0,0,0,0,0,0,0,0,0,0,0,0,0,0,0,0,0,0,0,0,0,0,0,0,0,0,0,0,0,0,0,0],\"CoinName\":[\"42 Coin\",\"404Coin\",\"EliteCoin\",\"Dash\",\"Bitshares\",\"BitcoinDark\",\"PayCoin\",\"KoboCoin\",\"Aurora Coin\",\"BlueCoin\",\"EnergyCoin\",\"BitBar\",\"CryptoBullion\",\"CasinoCoin\",\"Diamond\",\"Exclusive Coin\",\"FlutterCoin\",\"HoboNickels\",\"HyperStake\",\"IOCoin\",\"MaxCoin\",\"MintCoin\",\"MazaCoin\",\"Nautilus Coin\",\"NavCoin\",\"OpalCoin\",\"Orbitcoin\",\"PotCoin\",\"PhoenixCoin\",\"Reddcoin\",\"SuperCoin\",\"SyncCoin\",\"TeslaCoin\",\"TittieCoin\",\"TorCoin\",\"UnitaryStatus Dollar\",\"UltraCoin\",\"VeriCoin\",\"X11 Coin\",\"Crypti\",\"StealthCoin\",\"ZCC Coin\",\"BurstCoin\",\"StorjCoin\",\"Neutron\",\"FairCoin\",\"RubyCoin\",\"Kore\",\"Dnotes\",\"8BIT Coin\",\"Sativa Coin\",\"Ucoin\",\"Vtorrent\",\"IslaCoin\",\"Nexus\",\"Droidz\",\"Squall Coin\",\"Diggits\",\"Paycon\",\"Emercoin\",\"EverGreenCoin\",\"Decred\",\"EDRCoin\",\"Hitcoin\",\"DubaiCoin\",\"PWR Coin\",\"BillaryCoin\",\"GPU Coin\",\"EuropeCoin\",\"ZeitCoin\",\"SwingCoin\",\"SafeExchangeCoin\",\"Nebuchadnezzar\",\"Ratecoin\",\"Revenu\",\"Clockcoin\",\"VIP Tokens\",\"BitSend\",\"Let it Ride\",\"PutinCoin\",\"iBankCoin\",\"Frankywillcoin\",\"MudraCoin\",\"Lutetium Coin\",\"GoldBlocks\",\"CarterCoin\",\"BitTokens\",\"MustangCoin\",\"ZoneCoin\",\"RootCoin\",\"BitCurrency\",\"Swiscoin\",\"BuzzCoin\",\"Opair\",\"PesoBit\",\"Halloween Coin\",\"CoffeeCoin\",\"RoyalCoin\",\"GanjaCoin V2\",\"TeamUP\",\"LanaCoin\",\"ARK\",\"InsaneCoin\",\"EmberCoin\",\"XenixCoin\",\"FreeCoin\",\"PLNCoin\",\"AquariusCoin\",\"Creatio\",\"Eternity\",\"Eurocoin\",\"BitcoinFast\",\"Stakenet\",\"BitConnect Coin\",\"MoneyCoin\",\"Enigma\",\"Russiacoin\",\"PandaCoin\",\"GameUnits\",\"GAKHcoin\",\"Allsafe\",\"LiteCreed\",\"Klingon Empire Darsek\",\"Internet of People\",\"KushCoin\",\"Printerium\",\"Impeach\",\"Zilbercoin\",\"FirstCoin\",\"FindCoin\",\"OpenChat\",\"RenosCoin\",\"VirtacoinPlus\",\"TajCoin\",\"Impact\",\"Atmos\",\"HappyCoin\",\"MacronCoin\",\"Condensate\",\"Independent Money System\",\"ArgusCoin\",\"LomoCoin\",\"ProCurrency\",\"GoldReserve\",\"GrowthCoin\",\"Phreak\",\"Degas Coin\",\"HTML5 Coin\",\"Ultimate Secure Cash\",\"QTUM\",\"Espers\",\"Denarius\",\"Virta Unique Coin\",\"Bitcoin Planet\",\"BritCoin\",\"Linda\",\"DeepOnion\",\"Signatum\",\"Cream\",\"Monoeci\",\"Draftcoin\",\"Vechain\",\"Stakecoin\",\"CoinonatX\",\"Ethereum Dark\",\"Obsidian\",\"Cardano\",\"Regalcoin\",\"TrezarCoin\",\"TerraNovaCoin\",\"Rupee\",\"WomenCoin\",\"Theresa May Coin\",\"NamoCoin\",\"LUXCoin\",\"Xios\",\"Bitcloud 2.0\",\"KekCoin\",\"BlackholeCoin\",\"Infinity Economics\",\"Magnet\",\"Lamden Tau\",\"Electra\",\"Bitcoin Diamond\",\"Cash & Back Coin\",\"Bulwark\",\"Kalkulus\",\"GermanCoin\",\"LiteCoin Ultra\",\"PhantomX\",\"Digiwage\",\"Trollcoin\",\"Litecoin Plus\",\"Monkey Project\",\"TokenPay\",\"1717 Masonic Commemorative Token\",\"My Big Coin\",\"Unified Society USDEX\",\"Tokyo Coin\",\"BiblePay\",\"LitecoinCash\",\"Stipend\",\"Pushi\",\"Ellerium\",\"Velox\",\"Ontology\",\"Bitspace\",\"Briacoin\",\"Ignition\",\"MedicCoin\",\"Bitcoin Green\",\"Deviant Coin\",\"Abjcoin\",\"Semux\",\"Carebit\",\"Zealium\",\"Proton\",\"iDealCash\",\"Bitcoin Incognito\",\"HollyWoodCoin\",\"Swisscoin\",\"Xt3ch\",\"TheVig\",\"EmaratCoin\",\"Dekado\",\"Lynx\",\"Poseidon Quark\",\"BitcoinWSpectrum\",\"Muse\",\"Trivechain\",\"Dystem\",\"Giant\",\"Peony Coin\",\"Absolute Coin\",\"Vitae\",\"TPCash\",\"ARENON\",\"EUNO\",\"MMOCoin\",\"Ketan\",\"XDNA\",\"PAXEX\",\"ThunderStake\",\"Kcash\",\"Bettex coin\",\"BitMoney\",\"Junson Ming Chan Coin\",\"HerbCoin\",\"PirateCash\",\"Oduwa\",\"Galilel\",\"Crypto Sports\",\"Credit\",\"Dash Platinum\",\"Nasdacoin\",\"Beetle Coin\",\"Titan Coin\",\"Award\",\"Insane Coin\",\"ALAX\",\"LiteDoge\",\"TruckCoin\",\"OrangeCoin\",\"BitstarCoin\",\"NeosCoin\",\"HyperCoin\",\"PinkCoin\",\"AudioCoin\",\"IncaKoin\",\"Piggy Coin\",\"Genstake\",\"XiaoMiCoin\",\"CapriCoin\",\" ClubCoin\",\"Radium\",\"Creditbit \",\"OKCash\",\"Lisk\",\"HiCoin\",\"WhiteCoin\",\"FriendshipCoin\",\"Triangles Coin\",\"EOS\",\"Oxycoin\",\"TigerCash\",\"Particl\",\"Nxt\",\"ZEPHYR\",\"Gapcoin\",\"BitcoinPlus\"],\"TotalCoinSupply\":{\"__ndarray__\":\"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\",\"dtype\":\"float64\",\"order\":\"little\",\"shape\":[290]},\"TotalCoinsMined\":{\"__ndarray__\":\"qPiOWfRWeD8cYvKR8a18P0/E+wVbGKI/lL9Wn3ZgeD8Tn0Dcwc6BPzvmnbxPWHg/pWjVi5VjeD87g7sK2XF4P5mzbnMMang/payitfvzej8zTpSIhth4P2/nudD/Vng/0B61awxYeD+zKjBCTJunPxZVqwZvWng/fyE6Pe9ceD80uDFmNT16P3YWvTzxtHg/cTyZkD4+fz/DhKrxiWl4P8B/XF2ml3g/Gc9GqMH6mz9lRtq4I/p+Pzz9xXn9Z3g/3ihhX4mceD/2nvGQ6WZ4P5FuYGtYWng/N6hye2hBeT9h9dM606R4P1SdIsAcHaI/Qg7UBFiMeD++K+Cn9FZ4P/w//qR1q3g/o/seNhQDfz8l/CFHdlh4P8jywagG3Hw/BPTTrNiLeD+fG7dEq3h4PxA/X9tFXng/uQv0Nj7AeD8iyllhzHl4P0vXp3HF8ng/r9R5Qd/Lfz+MrP971Yx4PxFPxiYlgHg/tJBJI/aOeD/4csWck3N4P+ZsoHgVWXg/6Z1aPNYOeT+xD4P6f1h4P41l2jVtXng/QVjcWMlZeD88IMtCLGN4P5arJVeMWHg/Aqw/bfqZeD8FbsjB+V94P001GBJNV3g/uQv0Nj7AeD9OTKU2N294P1uITZ9KhHg/JFESWTNleD8EZ9Qe3mF4P4lKdHbRWng/c1cokzRkkT/hN33OWlx4P6i4LMo7cJA/UXw/2W1geD/pk2R4koF4P2/JSYDpYXg/cnZeMK4Mpj/PUbUhkFt4P4yI4TUBloA/vnUeHQNseD8q5VYcoOR4PzEvL5Q2WHg/nCVInX9oeD9Gxe900a54P879i8ahcHg/Q++pyZV/eD9lfIo9DK97P0dfuFu4W3g/uQv0Nj7AeD+faUYIOFx4P1tWBk6zCns/SFzTZ1dneD/zIiodZ4R4P/wHaNSUV3g/cjTVmKVXeD9cK45HrFl4P+tOuzb/WHg/QV5KvYUJeT9x07mJVRN7P256jjcIN5o/FuawUeekeD8B2icTQHp4P9N9PXGhbXk/LbDvSInzeD+TIgY4lll4P7kL9DY+wHg/v27+KbdpeD8CMm8dWcp8P9F1hf7gyHg/P4IHcERqeD/nymx5Nzi5P1MhnvUCW3g//I3ORpmLeD9oKOyl8mh4P4RhNpiIWXg/vnUeHQNseD9ZTJhMWF14P902wxQHZHg/2yw440RseD/i73nfiqZ4P9bVzwWfYng/P3R9MnJieD86pYbsz1d4P9boAYDGX3g/hojUpwptpD+RaypxnFp4P+o4ehJyWng/a080SQdieD/KRYnjx3Z4PzuAae8vcHg/N8PuNp1ZeD8IhTuv6Vx4P3fvn8BmY3g/bqCaZ0dXeD+216QYCFp4P3i+LprFyng/ycxXWT9meD//4pYZ13N8PybuKk/pfHg/DIqoNdBkeD9Fz5tzyGN4Pz8OKIRvy3g/hrAcwffLeD8OWEMrnW14Pzb4O/ea/Xk/miHH5A3XeD8jNG55m1x4PxZ8OdspWHg/yTKfG3tXeD8sYWhQ0cB4PyaqCbEIaXg/3SldybKNeT/VvCdy8mJ4P2uiclpxbXg/3jRiRwjypz+oslg12GF4P7kL9DY+wHg/g1DK5q6HnT8tKAqwWFt4P/xY3qo5mXg/dwO5YB5eeD+WyufpWG14P/aGQOkdxY4//fgM0wdueD8BbCMvo8h4P+8KDBjKiHg/f/fxPTBkeD9e0BDSmmp4P10Y7JtOja8/jCRafipbeD+4Ps4Dh2t4P8OYvGZgW3g/Hc+7zkZxeD8+VzZaJl+gP2HOXdaZXng/Tgl2d0AXeT/qLpDPJ1h4PwqKz0Q5cHg/r47D0Kf0qz8yGN6Y37d4Py2Aw9oppXo/jvUgEbNfeD87H0TDN1l4PwL8s0pKd3g/ybgB+O9jeD/blrqtLmh4P/JpKph2rY4/ATsoVyx/eD93kcvpR4Z5P4T6kYOApKE/oPpM3zEYeT86l37vzMt4P8L/effmZHg/2xoLk85oeD9FpdsEGkWGP4BHnLHRX3g/lvdMioSGeD9hZBOpsnN4Py9mxOA7xXo/QawGZZdZeD/Z8oVDmFt4P5QWbEp7bHg/+nsMdqhYeD9uf17T2WB4P7mRl4I4Tnk/fXlV025JeT94ezWzw6B/P3CNJR8Z93o/syroAs1ieD8dHeamPFl4P7zFd1llV3g/Jmy8cuBxeD94M1JFOQR7P6WNJLN4ZXg/wq5LRdhXeD8LbYb5Mlh4P/8GUmxjcHk/Dlc30EZheD9Cazjt/G14P/fUUoRbYXg/XborLkBYeD8lWIeTFep4PyZgfYydYng/Dh9UVZdbeD8N1Ek4Xx1+P5hPFaZvYng/sqzxUrV/eD+tUCLtmJKQP7BaVev8Xng/d35AUfN5eD82v6Eysm14P0i5cRrXdng/IHonbtWJtT87VCp60Fl4P7ta5aTSk3g/qWI7lBxqeD/81/uM1H14P5krWFFpXng/YVDW3i9deD/G+IUzDVh4PxSg7/79ZHg/3cU7a4CceD/memzfpFx4Px9x5jc+a3g/dgCGWVp3eD+K3MTgash4P1EPrVzGYHg/Rr8Zw99beD9422mDslt4P6xDbQz3snw//+KWGddzfD9xZqvOGV54P99QQ3J/Mnk/hhVYd8LHlz/+KWFXInx4P3O7DZ8kZXg/IBr8dYNmeD+WEo93L2p4P6zZy9D9WHg/xwwKAd3joj9PwIk8tVd4P+C6nWyWbHg//Vcq4WkoeT9QK+RquAZ8PxXgfrAwZ3g/ZFuk4fxveD//4pYZ13N8Pzl8GIz/1ZU/N6ZfdltWeT9K5c+8rVp4P2mE74KebHg/y+fsOJRbeD8E5PpRGGF4Py3I041iIno/g/0JxY1ffD+zx+bm24eYP7WOAVtVX3o/u0AJqiCWeD8E5vFMpwB6PyJTdtT3Knk/15lfcw7EeD/i7PZP+lp4PzI5T9G/aHg/6xe9bpSleD/fYBhDUNV4P/Coy3kEXpA/ELItm0lgeT/pUmFTIlh4P3uZmEgaV3g//uEvpXiJfD98cHnesfR8P//ilhnXc3w/pqgAgbpgeD//4pYZ13N8P5TkGO5cSIA/XnGO1axmeD9eTHjtFld4Pw==\",\"dtype\":\"float64\",\"order\":\"little\",\"shape\":[290]}},\"selected\":{\"id\":\"1581\"},\"selection_policy\":{\"id\":\"1596\"}},\"id\":\"1580\",\"type\":\"ColumnDataSource\"},{\"attributes\":{\"angle\":{\"value\":0.0},\"fill_alpha\":{\"value\":1.0},\"fill_color\":{\"value\":\"#30a2da\"},\"hatch_alpha\":{\"value\":1.0},\"hatch_color\":{\"value\":\"black\"},\"hatch_scale\":{\"value\":12.0},\"hatch_weight\":{\"value\":1.0},\"line_alpha\":{\"value\":1.0},\"line_cap\":{\"value\":\"butt\"},\"line_color\":{\"value\":\"#30a2da\"},\"line_dash\":{\"value\":[]},\"line_dash_offset\":{\"value\":0},\"line_join\":{\"value\":\"bevel\"},\"line_width\":{\"value\":1},\"marker\":{\"value\":\"circle\"},\"size\":{\"value\":5.477225575051661},\"x\":{\"field\":\"TotalCoinsMined\"},\"y\":{\"field\":\"TotalCoinSupply\"}},\"id\":\"1600\",\"type\":\"Scatter\"},{\"attributes\":{\"angle\":{\"value\":0.0},\"fill_alpha\":{\"value\":1.0},\"fill_color\":{\"value\":\"#fc4f30\"},\"hatch_alpha\":{\"value\":1.0},\"hatch_color\":{\"value\":\"black\"},\"hatch_scale\":{\"value\":12.0},\"hatch_weight\":{\"value\":1.0},\"line_alpha\":{\"value\":1.0},\"line_cap\":{\"value\":\"butt\"},\"line_color\":{\"value\":\"#fc4f30\"},\"line_dash\":{\"value\":[]},\"line_dash_offset\":{\"value\":0},\"line_join\":{\"value\":\"bevel\"},\"line_width\":{\"value\":1},\"marker\":{\"value\":\"circle\"},\"size\":{\"value\":5.477225575051661},\"x\":{\"field\":\"TotalCoinsMined\"},\"y\":{\"field\":\"TotalCoinSupply\"}},\"id\":\"1622\",\"type\":\"Scatter\"},{\"attributes\":{\"children\":[{\"id\":\"1537\"},{\"id\":\"1544\"},{\"id\":\"1817\"}],\"margin\":[0,0,0,0],\"name\":\"Row02798\",\"tags\":[\"embedded\"]},\"id\":\"1536\",\"type\":\"Row\"},{\"attributes\":{\"label\":{\"value\":\"1\"},\"renderers\":[{\"id\":\"1607\"}]},\"id\":\"1621\",\"type\":\"LegendItem\"},{\"attributes\":{},\"id\":\"1554\",\"type\":\"BasicTicker\"},{\"attributes\":{\"angle\":{\"value\":0.0},\"fill_alpha\":{\"value\":1.0},\"fill_color\":{\"value\":\"#e5ae38\"},\"hatch_alpha\":{\"value\":1.0},\"hatch_color\":{\"value\":\"black\"},\"hatch_scale\":{\"value\":12.0},\"hatch_weight\":{\"value\":1.0},\"line_alpha\":{\"value\":1.0},\"line_cap\":{\"value\":\"butt\"},\"line_color\":{\"value\":\"#e5ae38\"},\"line_dash\":{\"value\":[]},\"line_dash_offset\":{\"value\":0},\"line_join\":{\"value\":\"bevel\"},\"line_width\":{\"value\":1},\"marker\":{\"value\":\"circle\"},\"size\":{\"value\":5.477225575051661},\"x\":{\"field\":\"TotalCoinsMined\"},\"y\":{\"field\":\"TotalCoinSupply\"}},\"id\":\"1646\",\"type\":\"Scatter\"},{\"attributes\":{\"margin\":[5,5,5,5],\"name\":\"HSpacer02802\",\"sizing_mode\":\"stretch_width\"},\"id\":\"1537\",\"type\":\"Spacer\"},{\"attributes\":{},\"id\":\"1577\",\"type\":\"BasicTickFormatter\"},{\"attributes\":{},\"id\":\"1579\",\"type\":\"AllLabels\"},{\"attributes\":{\"fill_alpha\":{\"value\":0.2},\"fill_color\":{\"value\":\"#e5ae38\"},\"line_alpha\":{\"value\":0.2},\"line_color\":{\"value\":\"#e5ae38\"},\"size\":{\"value\":5.477225575051661},\"x\":{\"field\":\"TotalCoinsMined\"},\"y\":{\"field\":\"TotalCoinSupply\"}},\"id\":\"1628\",\"type\":\"Scatter\"},{\"attributes\":{\"data_source\":{\"id\":\"1623\"},\"glyph\":{\"id\":\"1626\"},\"hover_glyph\":null,\"muted_glyph\":{\"id\":\"1628\"},\"nonselection_glyph\":{\"id\":\"1627\"},\"selection_glyph\":{\"id\":\"1646\"},\"view\":{\"id\":\"1630\"}},\"id\":\"1629\",\"type\":\"GlyphRenderer\"},{\"attributes\":{\"data_source\":{\"id\":\"1647\"},\"glyph\":{\"id\":\"1650\"},\"hover_glyph\":null,\"muted_glyph\":{\"id\":\"1652\"},\"nonselection_glyph\":{\"id\":\"1651\"},\"selection_glyph\":{\"id\":\"1672\"},\"view\":{\"id\":\"1654\"}},\"id\":\"1653\",\"type\":\"GlyphRenderer\"},{\"attributes\":{\"end\":1.042857142857143,\"reset_end\":1.042857142857143,\"reset_start\":-0.04285714285714286,\"start\":-0.04285714285714286,\"tags\":[[[\"TotalCoinsMined\",\"TotalCoinsMined\",null]]]},\"id\":\"1538\",\"type\":\"Range1d\"},{\"attributes\":{\"axis\":{\"id\":\"1553\"},\"grid_line_color\":null,\"ticker\":null},\"id\":\"1556\",\"type\":\"Grid\"},{\"attributes\":{\"margin\":[5,5,5,5],\"name\":\"HSpacer02803\",\"sizing_mode\":\"stretch_width\"},\"id\":\"1817\",\"type\":\"Spacer\"},{\"attributes\":{\"click_policy\":\"mute\",\"items\":[{\"id\":\"1599\"},{\"id\":\"1621\"},{\"id\":\"1645\"},{\"id\":\"1671\"}],\"location\":[0,0],\"title\":\"Class\"},\"id\":\"1598\",\"type\":\"Legend\"},{\"attributes\":{\"label\":{\"value\":\"3\"},\"renderers\":[{\"id\":\"1653\"}]},\"id\":\"1671\",\"type\":\"LegendItem\"},{\"attributes\":{\"fill_color\":{\"value\":\"#6d904f\"},\"line_color\":{\"value\":\"#6d904f\"},\"size\":{\"value\":5.477225575051661},\"x\":{\"field\":\"TotalCoinsMined\"},\"y\":{\"field\":\"TotalCoinSupply\"}},\"id\":\"1650\",\"type\":\"Scatter\"},{\"attributes\":{},\"id\":\"1581\",\"type\":\"Selection\"},{\"attributes\":{\"text_color\":\"black\",\"text_font_size\":\"12pt\"},\"id\":\"1545\",\"type\":\"Title\"},{\"attributes\":{\"fill_alpha\":{\"value\":0.2},\"fill_color\":{\"value\":\"#6d904f\"},\"line_alpha\":{\"value\":0.2},\"line_color\":{\"value\":\"#6d904f\"},\"size\":{\"value\":5.477225575051661},\"x\":{\"field\":\"TotalCoinsMined\"},\"y\":{\"field\":\"TotalCoinSupply\"}},\"id\":\"1652\",\"type\":\"Scatter\"},{\"attributes\":{},\"id\":\"1602\",\"type\":\"Selection\"},{\"attributes\":{},\"id\":\"1549\",\"type\":\"LinearScale\"},{\"attributes\":{\"fill_alpha\":{\"value\":0.1},\"fill_color\":{\"value\":\"#6d904f\"},\"line_alpha\":{\"value\":0.1},\"line_color\":{\"value\":\"#6d904f\"},\"size\":{\"value\":5.477225575051661},\"x\":{\"field\":\"TotalCoinsMined\"},\"y\":{\"field\":\"TotalCoinSupply\"}},\"id\":\"1651\",\"type\":\"Scatter\"},{\"attributes\":{\"source\":{\"id\":\"1623\"}},\"id\":\"1630\",\"type\":\"CDSView\"},{\"attributes\":{\"callback\":null,\"renderers\":[{\"id\":\"1586\"},{\"id\":\"1607\"},{\"id\":\"1629\"},{\"id\":\"1653\"}],\"tags\":[\"hv_created\"],\"tooltips\":[[\"Class\",\"@{Class}\"],[\"TotalCoinsMined\",\"@{TotalCoinsMined}\"],[\"TotalCoinSupply\",\"@{TotalCoinSupply}\"],[\"CoinName\",\"@{CoinName}\"]]},\"id\":\"1540\",\"type\":\"HoverTool\"},{\"attributes\":{},\"id\":\"1643\",\"type\":\"UnionRenderers\"},{\"attributes\":{},\"id\":\"1551\",\"type\":\"LinearScale\"},{\"attributes\":{\"axis_label\":\"TotalCoinSupply\",\"formatter\":{\"id\":\"1577\"},\"major_label_policy\":{\"id\":\"1579\"},\"ticker\":{\"id\":\"1558\"}},\"id\":\"1557\",\"type\":\"LinearAxis\"},{\"attributes\":{\"fill_color\":{\"value\":\"#30a2da\"},\"line_color\":{\"value\":\"#30a2da\"},\"size\":{\"value\":5.477225575051661},\"x\":{\"field\":\"TotalCoinsMined\"},\"y\":{\"field\":\"TotalCoinSupply\"}},\"id\":\"1583\",\"type\":\"Scatter\"},{\"attributes\":{\"fill_color\":{\"value\":\"#fc4f30\"},\"line_color\":{\"value\":\"#fc4f30\"},\"size\":{\"value\":5.477225575051661},\"x\":{\"field\":\"TotalCoinsMined\"},\"y\":{\"field\":\"TotalCoinSupply\"}},\"id\":\"1604\",\"type\":\"Scatter\"},{\"attributes\":{\"axis_label\":\"TotalCoinsMined\",\"formatter\":{\"id\":\"1574\"},\"major_label_policy\":{\"id\":\"1576\"},\"ticker\":{\"id\":\"1554\"}},\"id\":\"1553\",\"type\":\"LinearAxis\"},{\"attributes\":{\"fill_alpha\":{\"value\":0.2},\"fill_color\":{\"value\":\"#fc4f30\"},\"line_alpha\":{\"value\":0.2},\"line_color\":{\"value\":\"#fc4f30\"},\"size\":{\"value\":5.477225575051661},\"x\":{\"field\":\"TotalCoinsMined\"},\"y\":{\"field\":\"TotalCoinSupply\"}},\"id\":\"1606\",\"type\":\"Scatter\"},{\"attributes\":{\"fill_color\":{\"value\":\"#e5ae38\"},\"line_color\":{\"value\":\"#e5ae38\"},\"size\":{\"value\":5.477225575051661},\"x\":{\"field\":\"TotalCoinsMined\"},\"y\":{\"field\":\"TotalCoinSupply\"}},\"id\":\"1626\",\"type\":\"Scatter\"},{\"attributes\":{},\"id\":\"1558\",\"type\":\"BasicTicker\"},{\"attributes\":{\"data\":{\"Class\":[1,1,1,1],\"CoinName\":[\"Poa Network\",\"Acute Angle Cloud\",\"Fiii\",\"Waves\"],\"TotalCoinSupply\":{\"__ndarray__\":\"hFoo4ZaLMD/8qfHSTWJQP3sUrkfhenQ/LEMc6+I2Gj8=\",\"dtype\":\"float64\",\"order\":\"little\",\"shape\":[4]},\"TotalCoinsMined\":{\"__ndarray__\":\"4dGMXT8ueT//4pYZ13N8PwAAAAAAAAAAuQv0Nj7AeD8=\",\"dtype\":\"float64\",\"order\":\"little\",\"shape\":[4]}},\"selected\":{\"id\":\"1602\"},\"selection_policy\":{\"id\":\"1619\"}},\"id\":\"1601\",\"type\":\"ColumnDataSource\"},{\"attributes\":{\"angle\":{\"value\":0.0},\"fill_alpha\":{\"value\":1.0},\"fill_color\":{\"value\":\"#6d904f\"},\"hatch_alpha\":{\"value\":1.0},\"hatch_color\":{\"value\":\"black\"},\"hatch_scale\":{\"value\":12.0},\"hatch_weight\":{\"value\":1.0},\"line_alpha\":{\"value\":1.0},\"line_cap\":{\"value\":\"butt\"},\"line_color\":{\"value\":\"#6d904f\"},\"line_dash\":{\"value\":[]},\"line_dash_offset\":{\"value\":0},\"line_join\":{\"value\":\"bevel\"},\"line_width\":{\"value\":1},\"marker\":{\"value\":\"circle\"},\"size\":{\"value\":5.477225575051661},\"x\":{\"field\":\"TotalCoinsMined\"},\"y\":{\"field\":\"TotalCoinSupply\"}},\"id\":\"1672\",\"type\":\"Scatter\"},{\"attributes\":{\"axis\":{\"id\":\"1557\"},\"dimension\":1,\"grid_line_color\":null,\"ticker\":null},\"id\":\"1560\",\"type\":\"Grid\"},{\"attributes\":{\"source\":{\"id\":\"1647\"}},\"id\":\"1654\",\"type\":\"CDSView\"},{\"attributes\":{},\"id\":\"1574\",\"type\":\"BasicTickFormatter\"},{\"attributes\":{\"fill_alpha\":{\"value\":0.1},\"fill_color\":{\"value\":\"#e5ae38\"},\"line_alpha\":{\"value\":0.1},\"line_color\":{\"value\":\"#e5ae38\"},\"size\":{\"value\":5.477225575051661},\"x\":{\"field\":\"TotalCoinsMined\"},\"y\":{\"field\":\"TotalCoinSupply\"}},\"id\":\"1627\",\"type\":\"Scatter\"},{\"attributes\":{},\"id\":\"1648\",\"type\":\"Selection\"},{\"attributes\":{},\"id\":\"1669\",\"type\":\"UnionRenderers\"},{\"attributes\":{\"fill_alpha\":{\"value\":0.2},\"fill_color\":{\"value\":\"#30a2da\"},\"line_alpha\":{\"value\":0.2},\"line_color\":{\"value\":\"#30a2da\"},\"size\":{\"value\":5.477225575051661},\"x\":{\"field\":\"TotalCoinsMined\"},\"y\":{\"field\":\"TotalCoinSupply\"}},\"id\":\"1585\",\"type\":\"Scatter\"},{\"attributes\":{},\"id\":\"1624\",\"type\":\"Selection\"},{\"attributes\":{\"below\":[{\"id\":\"1553\"}],\"center\":[{\"id\":\"1556\"},{\"id\":\"1560\"}],\"height\":300,\"left\":[{\"id\":\"1557\"}],\"margin\":[5,5,5,5],\"min_border_bottom\":10,\"min_border_left\":10,\"min_border_right\":10,\"min_border_top\":10,\"renderers\":[{\"id\":\"1586\"},{\"id\":\"1607\"},{\"id\":\"1629\"},{\"id\":\"1653\"}],\"right\":[{\"id\":\"1598\"}],\"sizing_mode\":\"fixed\",\"title\":{\"id\":\"1545\"},\"toolbar\":{\"id\":\"1567\"},\"width\":700,\"x_range\":{\"id\":\"1538\"},\"x_scale\":{\"id\":\"1549\"},\"y_range\":{\"id\":\"1539\"},\"y_scale\":{\"id\":\"1551\"}},\"id\":\"1544\",\"subtype\":\"Figure\",\"type\":\"Plot\"},{\"attributes\":{\"data_source\":{\"id\":\"1580\"},\"glyph\":{\"id\":\"1583\"},\"hover_glyph\":null,\"muted_glyph\":{\"id\":\"1585\"},\"nonselection_glyph\":{\"id\":\"1584\"},\"selection_glyph\":{\"id\":\"1600\"},\"view\":{\"id\":\"1587\"}},\"id\":\"1586\",\"type\":\"GlyphRenderer\"},{\"attributes\":{\"fill_alpha\":{\"value\":0.1},\"fill_color\":{\"value\":\"#30a2da\"},\"line_alpha\":{\"value\":0.1},\"line_color\":{\"value\":\"#30a2da\"},\"size\":{\"value\":5.477225575051661},\"x\":{\"field\":\"TotalCoinsMined\"},\"y\":{\"field\":\"TotalCoinSupply\"}},\"id\":\"1584\",\"type\":\"Scatter\"},{\"attributes\":{},\"id\":\"1596\",\"type\":\"UnionRenderers\"},{\"attributes\":{},\"id\":\"1561\",\"type\":\"SaveTool\"},{\"attributes\":{\"data\":{\"Class\":[2],\"CoinName\":[\"BitTorrent\"],\"TotalCoinSupply\":{\"__ndarray__\":\"rkfhehSu7z8=\",\"dtype\":\"float64\",\"order\":\"little\",\"shape\":[1]},\"TotalCoinsMined\":{\"__ndarray__\":\"AAAAAAAA8D8=\",\"dtype\":\"float64\",\"order\":\"little\",\"shape\":[1]}},\"selected\":{\"id\":\"1624\"},\"selection_policy\":{\"id\":\"1643\"}},\"id\":\"1623\",\"type\":\"ColumnDataSource\"},{\"attributes\":{\"end\":1.1,\"reset_end\":1.1,\"reset_start\":-0.1,\"start\":-0.1,\"tags\":[[[\"TotalCoinSupply\",\"TotalCoinSupply\",null]]]},\"id\":\"1539\",\"type\":\"Range1d\"},{\"attributes\":{},\"id\":\"1562\",\"type\":\"PanTool\"},{\"attributes\":{\"label\":{\"value\":\"2\"},\"renderers\":[{\"id\":\"1629\"}]},\"id\":\"1645\",\"type\":\"LegendItem\"},{\"attributes\":{},\"id\":\"1565\",\"type\":\"ResetTool\"},{\"attributes\":{},\"id\":\"1563\",\"type\":\"WheelZoomTool\"},{\"attributes\":{\"overlay\":{\"id\":\"1566\"}},\"id\":\"1564\",\"type\":\"BoxZoomTool\"},{\"attributes\":{},\"id\":\"1576\",\"type\":\"AllLabels\"},{\"attributes\":{\"fill_alpha\":{\"value\":0.1},\"fill_color\":{\"value\":\"#fc4f30\"},\"line_alpha\":{\"value\":0.1},\"line_color\":{\"value\":\"#fc4f30\"},\"size\":{\"value\":5.477225575051661},\"x\":{\"field\":\"TotalCoinsMined\"},\"y\":{\"field\":\"TotalCoinSupply\"}},\"id\":\"1605\",\"type\":\"Scatter\"}],\"root_ids\":[\"1536\"]},\"title\":\"Bokeh Application\",\"version\":\"2.3.2\"}};\n",
       "    var render_items = [{\"docid\":\"1bb1fe1a-bf70-49f0-bc33-756081e2e525\",\"root_ids\":[\"1536\"],\"roots\":{\"1536\":\"3d3fe793-d11e-47f3-8a11-aec185c6d05f\"}}];\n",
       "    root.Bokeh.embed.embed_items_notebook(docs_json, render_items);\n",
       "  }\n",
       "  if (root.Bokeh !== undefined && root.Bokeh.Panel !== undefined) {\n",
       "    embed_document(root);\n",
       "  } else {\n",
       "    var attempts = 0;\n",
       "    var timer = setInterval(function(root) {\n",
       "      if (root.Bokeh !== undefined && root.Bokeh.Panel !== undefined) {\n",
       "        clearInterval(timer);\n",
       "        embed_document(root);\n",
       "      } else if (document.readyState == \"complete\") {\n",
       "        attempts++;\n",
       "        if (attempts > 200) {\n",
       "          clearInterval(timer);\n",
       "          console.log(\"Bokeh: ERROR: Unable to run BokehJS code because BokehJS library is missing\");\n",
       "        }\n",
       "      }\n",
       "    }, 25, root)\n",
       "  }\n",
       "})(window);</script>"
      ],
      "text/plain": [
       ":NdOverlay   [Class]\n",
       "   :Scatter   [TotalCoinsMined]   (TotalCoinSupply,CoinName)"
      ]
     },
     "execution_count": 112,
     "metadata": {
      "application/vnd.holoviews_exec.v0+json": {
       "id": "1536"
      }
     },
     "output_type": "execute_result"
    }
   ],
   "source": [
    "# Create a hvplot.scatter plot using x=\"TotalCoinsMined\" and y=\"TotalCoinSupply\".\n",
    "plot_df.hvplot.scatter(\n",
    "    x=\"TotalCoinsMined\",\n",
    "    y=\"TotalCoinSupply\",\n",
    "    hover_cols=[\"CoinName\"],\n",
    "    by=\"Class\",\n",
    ")"
   ]
  },
  {
   "cell_type": "code",
   "execution_count": null,
   "metadata": {},
   "outputs": [],
   "source": []
  }
 ],
 "metadata": {
  "file_extension": ".py",
  "kernelspec": {
   "display_name": "mlenv",
   "language": "python",
   "name": "mlenv"
  },
  "language_info": {
   "codemirror_mode": {
    "name": "ipython",
    "version": 3
   },
   "file_extension": ".py",
   "mimetype": "text/x-python",
   "name": "python",
   "nbconvert_exporter": "python",
   "pygments_lexer": "ipython3",
   "version": "3.7.10"
  },
  "latex_envs": {
   "LaTeX_envs_menu_present": true,
   "autoclose": false,
   "autocomplete": true,
   "bibliofile": "biblio.bib",
   "cite_by": "apalike",
   "current_citInitial": 1,
   "eqLabelWithNumbers": true,
   "eqNumInitial": 1,
   "hotkeys": {
    "equation": "Ctrl-E",
    "itemize": "Ctrl-I"
   },
   "labels_anchors": false,
   "latex_user_defs": false,
   "report_style_numbering": false,
   "user_envs_cfg": false
  },
  "mimetype": "text/x-python",
  "name": "python",
  "npconvert_exporter": "python",
  "pygments_lexer": "ipython3",
  "version": 3
 },
 "nbformat": 4,
 "nbformat_minor": 2
}
